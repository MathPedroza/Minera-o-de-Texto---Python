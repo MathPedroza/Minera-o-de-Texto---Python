{
 "cells": [
  {
   "cell_type": "markdown",
   "metadata": {},
   "source": [
    "# DATASET"
   ]
  },
  {
   "cell_type": "code",
   "execution_count": 1,
   "metadata": {},
   "outputs": [],
   "source": [
    "# O conjunto de dados\n",
    "# Usaremos o conjunto de dados da Marvel para nosso exemplo KNN.\n",
    "# O conjunto de dados consiste em quatro atributos: Força, Poder, Agilidade e Velocidade\n",
    "# Esses são os atributos de tipos específicos de heróis. A tarefa é prever a classe \n",
    "# a que pertencem esses heróis. Existem três classes no conjunto de dados: Vingadores, X-men e guardiões-da-galáxia. "
   ]
  },
  {
   "cell_type": "markdown",
   "metadata": {},
   "source": [
    "# IMPORTANDO BIBLIOTECAS"
   ]
  },
  {
   "cell_type": "code",
   "execution_count": 2,
   "metadata": {},
   "outputs": [],
   "source": [
    "import numpy as np\n",
    "import matplotlib.pyplot as plt\n",
    "import pandas as pd"
   ]
  },
  {
   "cell_type": "markdown",
   "metadata": {},
   "source": [
    "# IMPORTANDO DATASET"
   ]
  },
  {
   "cell_type": "code",
   "execution_count": 3,
   "metadata": {},
   "outputs": [],
   "source": [
    "# Assign colum names to the dataset\n",
    "names = ['Force', 'Power', 'Agility', 'Speed', 'Class']\n",
    "\n",
    "# Read dataset to pandas dataframe\n",
    "dataset = pd.read_excel('marvel.xlsx', names=names)"
   ]
  },
  {
   "cell_type": "code",
   "execution_count": 4,
   "metadata": {},
   "outputs": [
    {
     "data": {
      "text/html": [
       "<div>\n",
       "<style scoped>\n",
       "    .dataframe tbody tr th:only-of-type {\n",
       "        vertical-align: middle;\n",
       "    }\n",
       "\n",
       "    .dataframe tbody tr th {\n",
       "        vertical-align: top;\n",
       "    }\n",
       "\n",
       "    .dataframe thead th {\n",
       "        text-align: right;\n",
       "    }\n",
       "</style>\n",
       "<table border=\"1\" class=\"dataframe\">\n",
       "  <thead>\n",
       "    <tr style=\"text-align: right;\">\n",
       "      <th></th>\n",
       "      <th>Force</th>\n",
       "      <th>Power</th>\n",
       "      <th>Agility</th>\n",
       "      <th>Speed</th>\n",
       "      <th>Class</th>\n",
       "    </tr>\n",
       "  </thead>\n",
       "  <tbody>\n",
       "    <tr>\n",
       "      <th>0</th>\n",
       "      <td>4.9</td>\n",
       "      <td>3.0</td>\n",
       "      <td>1.4</td>\n",
       "      <td>0.2</td>\n",
       "      <td>Vingadores</td>\n",
       "    </tr>\n",
       "    <tr>\n",
       "      <th>1</th>\n",
       "      <td>4.7</td>\n",
       "      <td>3.2</td>\n",
       "      <td>1.3</td>\n",
       "      <td>0.2</td>\n",
       "      <td>Vingadores</td>\n",
       "    </tr>\n",
       "    <tr>\n",
       "      <th>2</th>\n",
       "      <td>4.6</td>\n",
       "      <td>3.1</td>\n",
       "      <td>1.5</td>\n",
       "      <td>0.2</td>\n",
       "      <td>Vingadores</td>\n",
       "    </tr>\n",
       "    <tr>\n",
       "      <th>3</th>\n",
       "      <td>5.0</td>\n",
       "      <td>3.6</td>\n",
       "      <td>1.4</td>\n",
       "      <td>0.2</td>\n",
       "      <td>Vingadores</td>\n",
       "    </tr>\n",
       "    <tr>\n",
       "      <th>4</th>\n",
       "      <td>5.4</td>\n",
       "      <td>3.9</td>\n",
       "      <td>1.7</td>\n",
       "      <td>0.4</td>\n",
       "      <td>Vingadores</td>\n",
       "    </tr>\n",
       "  </tbody>\n",
       "</table>\n",
       "</div>"
      ],
      "text/plain": [
       "   Force  Power  Agility  Speed       Class\n",
       "0    4.9    3.0      1.4    0.2  Vingadores\n",
       "1    4.7    3.2      1.3    0.2  Vingadores\n",
       "2    4.6    3.1      1.5    0.2  Vingadores\n",
       "3    5.0    3.6      1.4    0.2  Vingadores\n",
       "4    5.4    3.9      1.7    0.4  Vingadores"
      ]
     },
     "execution_count": 4,
     "metadata": {},
     "output_type": "execute_result"
    }
   ],
   "source": [
    "dataset.head()"
   ]
  },
  {
   "cell_type": "markdown",
   "metadata": {},
   "source": [
    "# PRÉ-PROCESSANDO"
   ]
  },
  {
   "cell_type": "code",
   "execution_count": 5,
   "metadata": {},
   "outputs": [],
   "source": [
    "# A próxima etapa é dividir nosso conjunto de dados em seus atributos e rótulos"
   ]
  },
  {
   "cell_type": "code",
   "execution_count": 6,
   "metadata": {},
   "outputs": [],
   "source": [
    "X = dataset.iloc[:, :-1].values\n",
    "y = dataset.iloc[:, 4].values"
   ]
  },
  {
   "cell_type": "markdown",
   "metadata": {},
   "source": [
    "# DIVISÃO DE TREINO E TESTE"
   ]
  },
  {
   "cell_type": "code",
   "execution_count": 7,
   "metadata": {},
   "outputs": [],
   "source": [
    "# Para evitar o sobreajuste, dividiremos nosso conjunto de dados em divisões de treinamento e teste, \n",
    "# o que nos dá uma ideia melhor de como nosso algoritmo foi executado durante a fase de teste. Desta forma, \n",
    "# nosso algoritmo é testado em dados não vistos, como seria em uma aplicação de produção."
   ]
  },
  {
   "cell_type": "code",
   "execution_count": 8,
   "metadata": {},
   "outputs": [],
   "source": [
    "from sklearn.model_selection import train_test_split\n",
    "X_train, X_test, y_train, y_test = train_test_split(X, y, test_size=0.20)"
   ]
  },
  {
   "cell_type": "code",
   "execution_count": 9,
   "metadata": {},
   "outputs": [],
   "source": [
    "# O script acima divide o conjunto de dados em 80% de dados de trem e 20% de dados de teste. Isso significa que, \n",
    "# de um total de 150 registros, o conjunto de treinamento conterá 120 registros e o conjunto de teste conterá 30 d\n",
    "# esses registros"
   ]
  },
  {
   "cell_type": "markdown",
   "metadata": {},
   "source": [
    "# DIMENSIONAMENTO DE RECURSOS"
   ]
  },
  {
   "cell_type": "code",
   "execution_count": 10,
   "metadata": {},
   "outputs": [],
   "source": [
    "# Antes de fazer qualquer previsão real, é sempre uma boa prática dimensionar os recursos para que todos eles possam \n",
    "# ser avaliados uniformemente"
   ]
  },
  {
   "cell_type": "code",
   "execution_count": 11,
   "metadata": {},
   "outputs": [],
   "source": [
    "from sklearn.preprocessing import StandardScaler\n",
    "scaler = StandardScaler()\n",
    "scaler.fit(X_train)\n",
    "\n",
    "X_train = scaler.transform(X_train)\n",
    "X_test = scaler.transform(X_test)"
   ]
  },
  {
   "cell_type": "markdown",
   "metadata": {},
   "source": [
    "# TREINAMENTO E PREVISÕES"
   ]
  },
  {
   "cell_type": "code",
   "execution_count": 12,
   "metadata": {},
   "outputs": [],
   "source": [
    "# A primeira etapa é importar a classe KNeighborsClassifier da biblioteca sklearn.neighs. Na segunda linha, essa classe \n",
    "# é inicializada com um parâmetro, ou seja, n_neighbours. Este é basicamente o valor para K. Não existe um valor ideal \n",
    "# para K e ele é selecionado após teste e avaliação, no entanto, para começar, 5 parece ser o valor mais comumente usado para \n",
    "# o algoritmo KNN"
   ]
  },
  {
   "cell_type": "code",
   "execution_count": 13,
   "metadata": {},
   "outputs": [
    {
     "data": {
      "text/plain": [
       "KNeighborsClassifier()"
      ]
     },
     "execution_count": 13,
     "metadata": {},
     "output_type": "execute_result"
    }
   ],
   "source": [
    "from sklearn.neighbors import KNeighborsClassifier\n",
    "classifier = KNeighborsClassifier(n_neighbors=5)\n",
    "classifier.fit(X_train, y_train)"
   ]
  },
  {
   "cell_type": "code",
   "execution_count": 14,
   "metadata": {},
   "outputs": [],
   "source": [
    "y_pred = classifier.predict(X_test)"
   ]
  },
  {
   "cell_type": "markdown",
   "metadata": {},
   "source": [
    "# AVALIANDO O ALGORITMO"
   ]
  },
  {
   "cell_type": "code",
   "execution_count": 15,
   "metadata": {},
   "outputs": [],
   "source": [
    "# Para avaliar um algoritmo, matriz de confusão, precisão, rechamada e pontuação f1 são as métricas mais comumente usadas. \n",
    "# Os métodos confusão_matrix e classificação_report do sklearn.metrics podem ser usados para calcular essas métricas. "
   ]
  },
  {
   "cell_type": "code",
   "execution_count": 16,
   "metadata": {},
   "outputs": [
    {
     "name": "stdout",
     "output_type": "stream",
     "text": [
      "[[ 9  0  0]\n",
      " [ 0 12  0]\n",
      " [ 0  1  8]]\n",
      "                      precision    recall  f1-score   support\n",
      "\n",
      "          Vingadores       1.00      1.00      1.00         9\n",
      "               X-Men       0.92      1.00      0.96        12\n",
      "guardiões-da-galáxia       1.00      0.89      0.94         9\n",
      "\n",
      "            accuracy                           0.97        30\n",
      "           macro avg       0.97      0.96      0.97        30\n",
      "        weighted avg       0.97      0.97      0.97        30\n",
      "\n"
     ]
    }
   ],
   "source": [
    "from sklearn.metrics import classification_report, confusion_matrix\n",
    "print(confusion_matrix(y_test, y_pred))\n",
    "print(classification_report(y_test, y_pred))"
   ]
  },
  {
   "cell_type": "code",
   "execution_count": 17,
   "metadata": {},
   "outputs": [],
   "source": [
    "# Os resultados mostram que o algoritmo KNN foi capaz de classificar todos os 30 registros no conjunto de teste com 100% \n",
    "# de precisão. Embora o algoritmo tenha funcionado muito bem com esse conjunto de dados, não espere os mesmos resultados com \n",
    "# todos os aplicativos."
   ]
  },
  {
   "cell_type": "markdown",
   "metadata": {},
   "source": [
    "# COMPARANDO TAXA DE ERRO COM VALOR K"
   ]
  },
  {
   "cell_type": "code",
   "execution_count": 18,
   "metadata": {},
   "outputs": [],
   "source": [
    "# #  Escolhemos aleatoriamente 5 como o valor K e isso resultou em 100% de precisão.\n",
    "# Nesta seção, traçaremos o erro médio para os valores previstos do conjunto de teste para todos os valores K entre 1 e 40.\n",
    "# Para fazer isso, vamos primeiro calcular a média do erro para todos os valores previstos onde K varia de 1 a 40"
   ]
  },
  {
   "cell_type": "code",
   "execution_count": 19,
   "metadata": {},
   "outputs": [],
   "source": [
    "error = []\n",
    "\n",
    "# Calculating error for K values between 1 and 40\n",
    "for i in range(1, 40):\n",
    "    knn = KNeighborsClassifier(n_neighbors=i)\n",
    "    knn.fit(X_train, y_train)\n",
    "    pred_i = knn.predict(X_test)\n",
    "    error.append(np.mean(pred_i != y_test))"
   ]
  },
  {
   "cell_type": "code",
   "execution_count": 20,
   "metadata": {},
   "outputs": [],
   "source": [
    "# O script acima executa um loop de 1 a 40. Em cada iteração, o erro médio dos valores previstos do conjunto de teste é \n",
    "# calculado e o resultado é anexado à lista de erros.\n",
    "\n",
    "# A próxima etapa é representar graficamente os valores de erro em relação aos valores K."
   ]
  },
  {
   "cell_type": "markdown",
   "metadata": {},
   "source": [
    "# GERANDO O GRÁFICO"
   ]
  },
  {
   "cell_type": "code",
   "execution_count": 24,
   "metadata": {},
   "outputs": [
    {
     "data": {
      "text/plain": [
       "Text(0, 0.5, 'Mean Error')"
      ]
     },
     "execution_count": 24,
     "metadata": {},
     "output_type": "execute_result"
    },
    {
     "data": {
      "image/png": "[encoded data removed]",
      "text/plain": [
       "<Figure size 864x432 with 1 Axes>"
      ]
     },
     "metadata": {
      "needs_background": "light"
     },
     "output_type": "display_data"
    }
   ],
   "source": [
    "plt.figure(figsize=(12, 6))\n",
    "plt.plot(range(1, 40), error, color='red', linestyle='dashed', marker='o',\n",
    "         markerfacecolor='blue', markersize=10)\n",
    "plt.title('Error Rate K Value')\n",
    "plt.xlabel('K Value')\n",
    "plt.ylabel('Mean Error')"
   ]
  },
  {
   "cell_type": "code",
   "execution_count": 35,
   "metadata": {},
   "outputs": [
    {
     "data": {
      "text/html": [
       "<div>\n",
       "<style scoped>\n",
       "    .dataframe tbody tr th:only-of-type {\n",
       "        vertical-align: middle;\n",
       "    }\n",
       "\n",
       "    .dataframe tbody tr th {\n",
       "        vertical-align: top;\n",
       "    }\n",
       "\n",
       "    .dataframe thead th {\n",
       "        text-align: right;\n",
       "    }\n",
       "</style>\n",
       "<table border=\"1\" class=\"dataframe\">\n",
       "  <thead>\n",
       "    <tr style=\"text-align: right;\">\n",
       "      <th></th>\n",
       "      <th>Classe</th>\n",
       "      <th>Resultado</th>\n",
       "    </tr>\n",
       "  </thead>\n",
       "  <tbody>\n",
       "    <tr>\n",
       "      <th>0</th>\n",
       "      <td>Vingadores</td>\n",
       "      <td>Vingadores</td>\n",
       "    </tr>\n",
       "    <tr>\n",
       "      <th>1</th>\n",
       "      <td>guardiões-da-galáxia</td>\n",
       "      <td>guardiões-da-galáxia</td>\n",
       "    </tr>\n",
       "    <tr>\n",
       "      <th>2</th>\n",
       "      <td>guardiões-da-galáxia</td>\n",
       "      <td>guardiões-da-galáxia</td>\n",
       "    </tr>\n",
       "    <tr>\n",
       "      <th>3</th>\n",
       "      <td>guardiões-da-galáxia</td>\n",
       "      <td>guardiões-da-galáxia</td>\n",
       "    </tr>\n",
       "    <tr>\n",
       "      <th>4</th>\n",
       "      <td>Vingadores</td>\n",
       "      <td>Vingadores</td>\n",
       "    </tr>\n",
       "    <tr>\n",
       "      <th>5</th>\n",
       "      <td>Vingadores</td>\n",
       "      <td>Vingadores</td>\n",
       "    </tr>\n",
       "    <tr>\n",
       "      <th>6</th>\n",
       "      <td>X-Men</td>\n",
       "      <td>X-Men</td>\n",
       "    </tr>\n",
       "    <tr>\n",
       "      <th>7</th>\n",
       "      <td>guardiões-da-galáxia</td>\n",
       "      <td>guardiões-da-galáxia</td>\n",
       "    </tr>\n",
       "    <tr>\n",
       "      <th>8</th>\n",
       "      <td>X-Men</td>\n",
       "      <td>guardiões-da-galáxia</td>\n",
       "    </tr>\n",
       "    <tr>\n",
       "      <th>9</th>\n",
       "      <td>Vingadores</td>\n",
       "      <td>Vingadores</td>\n",
       "    </tr>\n",
       "    <tr>\n",
       "      <th>10</th>\n",
       "      <td>Vingadores</td>\n",
       "      <td>Vingadores</td>\n",
       "    </tr>\n",
       "    <tr>\n",
       "      <th>11</th>\n",
       "      <td>X-Men</td>\n",
       "      <td>guardiões-da-galáxia</td>\n",
       "    </tr>\n",
       "    <tr>\n",
       "      <th>12</th>\n",
       "      <td>guardiões-da-galáxia</td>\n",
       "      <td>guardiões-da-galáxia</td>\n",
       "    </tr>\n",
       "    <tr>\n",
       "      <th>13</th>\n",
       "      <td>X-Men</td>\n",
       "      <td>X-Men</td>\n",
       "    </tr>\n",
       "    <tr>\n",
       "      <th>14</th>\n",
       "      <td>guardiões-da-galáxia</td>\n",
       "      <td>guardiões-da-galáxia</td>\n",
       "    </tr>\n",
       "    <tr>\n",
       "      <th>15</th>\n",
       "      <td>X-Men</td>\n",
       "      <td>X-Men</td>\n",
       "    </tr>\n",
       "    <tr>\n",
       "      <th>16</th>\n",
       "      <td>X-Men</td>\n",
       "      <td>X-Men</td>\n",
       "    </tr>\n",
       "    <tr>\n",
       "      <th>17</th>\n",
       "      <td>Vingadores</td>\n",
       "      <td>Vingadores</td>\n",
       "    </tr>\n",
       "    <tr>\n",
       "      <th>18</th>\n",
       "      <td>guardiões-da-galáxia</td>\n",
       "      <td>guardiões-da-galáxia</td>\n",
       "    </tr>\n",
       "    <tr>\n",
       "      <th>19</th>\n",
       "      <td>Vingadores</td>\n",
       "      <td>Vingadores</td>\n",
       "    </tr>\n",
       "    <tr>\n",
       "      <th>20</th>\n",
       "      <td>Vingadores</td>\n",
       "      <td>Vingadores</td>\n",
       "    </tr>\n",
       "    <tr>\n",
       "      <th>21</th>\n",
       "      <td>X-Men</td>\n",
       "      <td>X-Men</td>\n",
       "    </tr>\n",
       "    <tr>\n",
       "      <th>22</th>\n",
       "      <td>X-Men</td>\n",
       "      <td>X-Men</td>\n",
       "    </tr>\n",
       "    <tr>\n",
       "      <th>23</th>\n",
       "      <td>Vingadores</td>\n",
       "      <td>Vingadores</td>\n",
       "    </tr>\n",
       "    <tr>\n",
       "      <th>24</th>\n",
       "      <td>X-Men</td>\n",
       "      <td>X-Men</td>\n",
       "    </tr>\n",
       "    <tr>\n",
       "      <th>25</th>\n",
       "      <td>Vingadores</td>\n",
       "      <td>Vingadores</td>\n",
       "    </tr>\n",
       "    <tr>\n",
       "      <th>26</th>\n",
       "      <td>X-Men</td>\n",
       "      <td>X-Men</td>\n",
       "    </tr>\n",
       "    <tr>\n",
       "      <th>27</th>\n",
       "      <td>guardiões-da-galáxia</td>\n",
       "      <td>guardiões-da-galáxia</td>\n",
       "    </tr>\n",
       "    <tr>\n",
       "      <th>28</th>\n",
       "      <td>Vingadores</td>\n",
       "      <td>Vingadores</td>\n",
       "    </tr>\n",
       "    <tr>\n",
       "      <th>29</th>\n",
       "      <td>X-Men</td>\n",
       "      <td>X-Men</td>\n",
       "    </tr>\n",
       "  </tbody>\n",
       "</table>\n",
       "</div>"
      ],
      "text/plain": [
       "                  Classe             Resultado\n",
       "0             Vingadores            Vingadores\n",
       "1   guardiões-da-galáxia  guardiões-da-galáxia\n",
       "2   guardiões-da-galáxia  guardiões-da-galáxia\n",
       "3   guardiões-da-galáxia  guardiões-da-galáxia\n",
       "4             Vingadores            Vingadores\n",
       "5             Vingadores            Vingadores\n",
       "6                  X-Men                 X-Men\n",
       "7   guardiões-da-galáxia  guardiões-da-galáxia\n",
       "8                  X-Men  guardiões-da-galáxia\n",
       "9             Vingadores            Vingadores\n",
       "10            Vingadores            Vingadores\n",
       "11                 X-Men  guardiões-da-galáxia\n",
       "12  guardiões-da-galáxia  guardiões-da-galáxia\n",
       "13                 X-Men                 X-Men\n",
       "14  guardiões-da-galáxia  guardiões-da-galáxia\n",
       "15                 X-Men                 X-Men\n",
       "16                 X-Men                 X-Men\n",
       "17            Vingadores            Vingadores\n",
       "18  guardiões-da-galáxia  guardiões-da-galáxia\n",
       "19            Vingadores            Vingadores\n",
       "20            Vingadores            Vingadores\n",
       "21                 X-Men                 X-Men\n",
       "22                 X-Men                 X-Men\n",
       "23            Vingadores            Vingadores\n",
       "24                 X-Men                 X-Men\n",
       "25            Vingadores            Vingadores\n",
       "26                 X-Men                 X-Men\n",
       "27  guardiões-da-galáxia  guardiões-da-galáxia\n",
       "28            Vingadores            Vingadores\n",
       "29                 X-Men                 X-Men"
      ]
     },
     "execution_count": 35,
     "metadata": {},
     "output_type": "execute_result"
    }
   ],
   "source": [
    "dic = {'Classe': y_test, 'Resultado': pred_i}\n",
    "df_resultado = pd.DataFrame(dic)\n",
    "df_resultado"
   ]
  },
  {
   "cell_type": "code",
   "execution_count": 36,
   "metadata": {},
   "outputs": [
    {
     "name": "stdout",
     "output_type": "stream",
     "text": [
      "Acertou: 28\n",
      "Errou: 2\n"
     ]
    }
   ],
   "source": [
    "acertos = (y_test == pred_i).sum()\n",
    "erros = 30 - acertos\n",
    "print('Acertou: {}\\nErrou: {}'.format(acertos, erros))"
   ]
  },
  {
   "cell_type": "markdown",
   "metadata": {},
   "source": [
    "# RESULTADOS"
   ]
  },
  {
   "cell_type": "code",
   "execution_count": 37,
   "metadata": {},
   "outputs": [],
   "source": [
    "from sklearn.metrics import confusion_matrix, classification_report"
   ]
  },
  {
   "cell_type": "markdown",
   "metadata": {},
   "source": [
    "# MATRIZ DE CONUFSÃO"
   ]
  },
  {
   "cell_type": "code",
   "execution_count": 38,
   "metadata": {},
   "outputs": [
    {
     "name": "stdout",
     "output_type": "stream",
     "text": [
      "[[11  0  0]\n",
      " [ 0  9  2]\n",
      " [ 0  0  8]]\n"
     ]
    }
   ],
   "source": [
    "print(confusion_matrix(y_test, pred_i))"
   ]
  },
  {
   "cell_type": "code",
   "execution_count": 39,
   "metadata": {},
   "outputs": [
    {
     "name": "stdout",
     "output_type": "stream",
     "text": [
      "                      precision    recall  f1-score   support\n",
      "\n",
      "          Vingadores       1.00      1.00      1.00        11\n",
      "               X-Men       1.00      0.82      0.90        11\n",
      "guardiões-da-galáxia       0.80      1.00      0.89         8\n",
      "\n",
      "            accuracy                           0.93        30\n",
      "           macro avg       0.93      0.94      0.93        30\n",
      "        weighted avg       0.95      0.93      0.93        30\n",
      "\n"
     ]
    }
   ],
   "source": [
    "print(classification_report(y_test, pred_i))"
   ]
  },
  {
   "cell_type": "code",
   "execution_count": null,
   "metadata": {},
   "outputs": [],
   "source": []
  }
 ],
 "metadata": {
  "kernelspec": {
   "display_name": "Python 3",
   "language": "python",
   "name": "python3"
  },
  "language_info": {
   "codemirror_mode": {
    "name": "ipython",
    "version": 3
   },
   "file_extension": ".py",
   "mimetype": "text/x-python",
   "name": "python",
   "nbconvert_exporter": "python",
   "pygments_lexer": "ipython3",
   "version": "3.8.5"
  }
 },
 "nbformat": 4,
 "nbformat_minor": 4
}
