{
 "cells": [
  {
   "cell_type": "markdown",
   "id": "e45b1755",
   "metadata": {},
   "source": [
    "# IMPORTANDO BIBLIOTECAS NECESSÁRIAS"
   ]
  },
  {
   "cell_type": "code",
   "execution_count": 2,
   "id": "74d7094c",
   "metadata": {},
   "outputs": [],
   "source": [
    "import pandas as pd"
   ]
  },
  {
   "cell_type": "code",
   "execution_count": 3,
   "id": "54e214a1",
   "metadata": {},
   "outputs": [],
   "source": [
    "# Considerando a classificação da frase para classificar uma frase em \"pergunta\" ou \"afirmação\". Nesse caso, \n",
    "# existem duas classes (“pergunta” e “enunciado”). Com o conjunto de treinamento, pode-se treinar um classificador \n",
    "# Naive Bayes que podemos usar para categorizar automaticamente uma nova frase.\n",
    "# O conjunto de treinamento consistirá em quatro perguntas e afirmações. "
   ]
  },
  {
   "cell_type": "code",
   "execution_count": 4,
   "id": "bc410c9f",
   "metadata": {},
   "outputs": [
    {
     "data": {
      "text/html": [
       "<div>\n",
       "<style scoped>\n",
       "    .dataframe tbody tr th:only-of-type {\n",
       "        vertical-align: middle;\n",
       "    }\n",
       "\n",
       "    .dataframe tbody tr th {\n",
       "        vertical-align: top;\n",
       "    }\n",
       "\n",
       "    .dataframe thead th {\n",
       "        text-align: right;\n",
       "    }\n",
       "</style>\n",
       "<table border=\"1\" class=\"dataframe\">\n",
       "  <thead>\n",
       "    <tr style=\"text-align: right;\">\n",
       "      <th></th>\n",
       "      <th>sent</th>\n",
       "      <th>class</th>\n",
       "    </tr>\n",
       "  </thead>\n",
       "  <tbody>\n",
       "    <tr>\n",
       "      <th>0</th>\n",
       "      <td>This is my book</td>\n",
       "      <td>stmt</td>\n",
       "    </tr>\n",
       "    <tr>\n",
       "      <th>1</th>\n",
       "      <td>They are novels</td>\n",
       "      <td>stmt</td>\n",
       "    </tr>\n",
       "    <tr>\n",
       "      <th>2</th>\n",
       "      <td>have you read this book</td>\n",
       "      <td>question</td>\n",
       "    </tr>\n",
       "    <tr>\n",
       "      <th>3</th>\n",
       "      <td>who is the author</td>\n",
       "      <td>question</td>\n",
       "    </tr>\n",
       "    <tr>\n",
       "      <th>4</th>\n",
       "      <td>what are the characters</td>\n",
       "      <td>question</td>\n",
       "    </tr>\n",
       "    <tr>\n",
       "      <th>5</th>\n",
       "      <td>This is how I bought the book</td>\n",
       "      <td>stmt</td>\n",
       "    </tr>\n",
       "    <tr>\n",
       "      <th>6</th>\n",
       "      <td>I like fictions</td>\n",
       "      <td>stmt</td>\n",
       "    </tr>\n",
       "    <tr>\n",
       "      <th>7</th>\n",
       "      <td>what is your favorite book</td>\n",
       "      <td>question</td>\n",
       "    </tr>\n",
       "  </tbody>\n",
       "</table>\n",
       "</div>"
      ],
      "text/plain": [
       "                            sent     class\n",
       "0                This is my book      stmt\n",
       "1                They are novels      stmt\n",
       "2        have you read this book  question\n",
       "3              who is the author  question\n",
       "4        what are the characters  question\n",
       "5  This is how I bought the book      stmt\n",
       "6                I like fictions      stmt\n",
       "7     what is your favorite book  question"
      ]
     },
     "execution_count": 4,
     "metadata": {},
     "output_type": "execute_result"
    }
   ],
   "source": [
    "columns = ['sent', 'class']\n",
    "rows = []\n",
    "\n",
    "rows = [['This is my book', 'stmt'], \n",
    "        ['They are novels', 'stmt'],\n",
    "        ['have you read this book', 'question'],\n",
    "        ['who is the author', 'question'],\n",
    "        ['what are the characters', 'question'],\n",
    "        ['This is how I bought the book', 'stmt'],\n",
    "        ['I like fictions', 'stmt'],\n",
    "        ['what is your favorite book', 'question']]\n",
    "\n",
    "training_data = pd.DataFrame(rows, columns=columns)\n",
    "training_data"
   ]
  },
  {
   "cell_type": "code",
   "execution_count": 5,
   "id": "21482f1d",
   "metadata": {},
   "outputs": [],
   "source": [
    "# Agora é necessário descobrir se uma nova frase, digamos, 'qual é o preço do livro' é uma pergunta ou não.\n",
    "# Usaremos o Teorema Naive de Bayes para resolver isso"
   ]
  },
  {
   "cell_type": "code",
   "execution_count": 6,
   "id": "532392da",
   "metadata": {},
   "outputs": [],
   "source": [
    "# A próxima etapa é apenas calcular todas as probabilidades das equações do teorema acima.\n",
    "\n",
    "# Para encontrar o número total de vezes que uma palavra aparece em uma classe, será utilizado o CountVectorizer do sklearn.\n",
    "# CountVectorizer fornece Term-Document Matrix (TDM) para cada classe. Uma matriz de documento de termos (TDM) consiste \n",
    "# em uma lista de frequências de palavras que aparecem em um conjunto de documentos."
   ]
  },
  {
   "cell_type": "code",
   "execution_count": 7,
   "id": "6a1c437b",
   "metadata": {},
   "outputs": [
    {
     "data": {
      "text/html": [
       "<div>\n",
       "<style scoped>\n",
       "    .dataframe tbody tr th:only-of-type {\n",
       "        vertical-align: middle;\n",
       "    }\n",
       "\n",
       "    .dataframe tbody tr th {\n",
       "        vertical-align: top;\n",
       "    }\n",
       "\n",
       "    .dataframe thead th {\n",
       "        text-align: right;\n",
       "    }\n",
       "</style>\n",
       "<table border=\"1\" class=\"dataframe\">\n",
       "  <thead>\n",
       "    <tr style=\"text-align: right;\">\n",
       "      <th></th>\n",
       "      <th>are</th>\n",
       "      <th>book</th>\n",
       "      <th>bought</th>\n",
       "      <th>fictions</th>\n",
       "      <th>how</th>\n",
       "      <th>is</th>\n",
       "      <th>like</th>\n",
       "      <th>my</th>\n",
       "      <th>novels</th>\n",
       "      <th>the</th>\n",
       "      <th>they</th>\n",
       "      <th>this</th>\n",
       "    </tr>\n",
       "  </thead>\n",
       "  <tbody>\n",
       "    <tr>\n",
       "      <th>0</th>\n",
       "      <td>0</td>\n",
       "      <td>1</td>\n",
       "      <td>0</td>\n",
       "      <td>0</td>\n",
       "      <td>0</td>\n",
       "      <td>1</td>\n",
       "      <td>0</td>\n",
       "      <td>1</td>\n",
       "      <td>0</td>\n",
       "      <td>0</td>\n",
       "      <td>0</td>\n",
       "      <td>1</td>\n",
       "    </tr>\n",
       "    <tr>\n",
       "      <th>1</th>\n",
       "      <td>1</td>\n",
       "      <td>0</td>\n",
       "      <td>0</td>\n",
       "      <td>0</td>\n",
       "      <td>0</td>\n",
       "      <td>0</td>\n",
       "      <td>0</td>\n",
       "      <td>0</td>\n",
       "      <td>1</td>\n",
       "      <td>0</td>\n",
       "      <td>1</td>\n",
       "      <td>0</td>\n",
       "    </tr>\n",
       "    <tr>\n",
       "      <th>2</th>\n",
       "      <td>0</td>\n",
       "      <td>1</td>\n",
       "      <td>1</td>\n",
       "      <td>0</td>\n",
       "      <td>1</td>\n",
       "      <td>1</td>\n",
       "      <td>0</td>\n",
       "      <td>0</td>\n",
       "      <td>0</td>\n",
       "      <td>1</td>\n",
       "      <td>0</td>\n",
       "      <td>1</td>\n",
       "    </tr>\n",
       "    <tr>\n",
       "      <th>3</th>\n",
       "      <td>0</td>\n",
       "      <td>0</td>\n",
       "      <td>0</td>\n",
       "      <td>1</td>\n",
       "      <td>0</td>\n",
       "      <td>0</td>\n",
       "      <td>1</td>\n",
       "      <td>0</td>\n",
       "      <td>0</td>\n",
       "      <td>0</td>\n",
       "      <td>0</td>\n",
       "      <td>0</td>\n",
       "    </tr>\n",
       "  </tbody>\n",
       "</table>\n",
       "</div>"
      ],
      "text/plain": [
       "   are  book  bought  fictions  how  is  like  my  novels  the  they  this\n",
       "0    0     1       0         0    0   1     0   1       0    0     0     1\n",
       "1    1     0       0         0    0   0     0   0       1    0     1     0\n",
       "2    0     1       1         0    1   1     0   0       0    1     0     1\n",
       "3    0     0       0         1    0   0     1   0       0    0     0     0"
      ]
     },
     "execution_count": 7,
     "metadata": {},
     "output_type": "execute_result"
    }
   ],
   "source": [
    "from sklearn.feature_extraction.text import CountVectorizer\n",
    "\n",
    "stmt_docs = [row['sent'] for index,row in training_data.iterrows() if row['class'] == 'stmt']\n",
    "\n",
    "vec_s = CountVectorizer()\n",
    "X_s = vec_s.fit_transform(stmt_docs)\n",
    "tdm_s = pd.DataFrame(X_s.toarray(), columns=vec_s.get_feature_names())\n",
    "\n",
    "tdm_s"
   ]
  },
  {
   "cell_type": "code",
   "execution_count": 8,
   "id": "7c73f242",
   "metadata": {},
   "outputs": [],
   "source": [
    "# A seguir, calcular o Term-Document Matrix (TDM) para a classe de 'instrução'. "
   ]
  },
  {
   "cell_type": "code",
   "execution_count": 9,
   "id": "ad03bc55",
   "metadata": {},
   "outputs": [
    {
     "data": {
      "text/html": [
       "<div>\n",
       "<style scoped>\n",
       "    .dataframe tbody tr th:only-of-type {\n",
       "        vertical-align: middle;\n",
       "    }\n",
       "\n",
       "    .dataframe tbody tr th {\n",
       "        vertical-align: top;\n",
       "    }\n",
       "\n",
       "    .dataframe thead th {\n",
       "        text-align: right;\n",
       "    }\n",
       "</style>\n",
       "<table border=\"1\" class=\"dataframe\">\n",
       "  <thead>\n",
       "    <tr style=\"text-align: right;\">\n",
       "      <th></th>\n",
       "      <th>are</th>\n",
       "      <th>author</th>\n",
       "      <th>book</th>\n",
       "      <th>characters</th>\n",
       "      <th>favorite</th>\n",
       "      <th>have</th>\n",
       "      <th>is</th>\n",
       "      <th>read</th>\n",
       "      <th>the</th>\n",
       "      <th>this</th>\n",
       "      <th>what</th>\n",
       "      <th>who</th>\n",
       "      <th>you</th>\n",
       "      <th>your</th>\n",
       "    </tr>\n",
       "  </thead>\n",
       "  <tbody>\n",
       "    <tr>\n",
       "      <th>0</th>\n",
       "      <td>0</td>\n",
       "      <td>0</td>\n",
       "      <td>1</td>\n",
       "      <td>0</td>\n",
       "      <td>0</td>\n",
       "      <td>1</td>\n",
       "      <td>0</td>\n",
       "      <td>1</td>\n",
       "      <td>0</td>\n",
       "      <td>1</td>\n",
       "      <td>0</td>\n",
       "      <td>0</td>\n",
       "      <td>1</td>\n",
       "      <td>0</td>\n",
       "    </tr>\n",
       "    <tr>\n",
       "      <th>1</th>\n",
       "      <td>0</td>\n",
       "      <td>1</td>\n",
       "      <td>0</td>\n",
       "      <td>0</td>\n",
       "      <td>0</td>\n",
       "      <td>0</td>\n",
       "      <td>1</td>\n",
       "      <td>0</td>\n",
       "      <td>1</td>\n",
       "      <td>0</td>\n",
       "      <td>0</td>\n",
       "      <td>1</td>\n",
       "      <td>0</td>\n",
       "      <td>0</td>\n",
       "    </tr>\n",
       "    <tr>\n",
       "      <th>2</th>\n",
       "      <td>1</td>\n",
       "      <td>0</td>\n",
       "      <td>0</td>\n",
       "      <td>1</td>\n",
       "      <td>0</td>\n",
       "      <td>0</td>\n",
       "      <td>0</td>\n",
       "      <td>0</td>\n",
       "      <td>1</td>\n",
       "      <td>0</td>\n",
       "      <td>1</td>\n",
       "      <td>0</td>\n",
       "      <td>0</td>\n",
       "      <td>0</td>\n",
       "    </tr>\n",
       "    <tr>\n",
       "      <th>3</th>\n",
       "      <td>0</td>\n",
       "      <td>0</td>\n",
       "      <td>1</td>\n",
       "      <td>0</td>\n",
       "      <td>1</td>\n",
       "      <td>0</td>\n",
       "      <td>1</td>\n",
       "      <td>0</td>\n",
       "      <td>0</td>\n",
       "      <td>0</td>\n",
       "      <td>1</td>\n",
       "      <td>0</td>\n",
       "      <td>0</td>\n",
       "      <td>1</td>\n",
       "    </tr>\n",
       "  </tbody>\n",
       "</table>\n",
       "</div>"
      ],
      "text/plain": [
       "   are  author  book  characters  favorite  have  is  read  the  this  what  \\\n",
       "0    0       0     1           0         0     1   0     1    0     1     0   \n",
       "1    0       1     0           0         0     0   1     0    1     0     0   \n",
       "2    1       0     0           1         0     0   0     0    1     0     1   \n",
       "3    0       0     1           0         1     0   1     0    0     0     1   \n",
       "\n",
       "   who  you  your  \n",
       "0    0    1     0  \n",
       "1    1    0     0  \n",
       "2    0    0     0  \n",
       "3    0    0     1  "
      ]
     },
     "execution_count": 9,
     "metadata": {},
     "output_type": "execute_result"
    }
   ],
   "source": [
    "q_docs = [row['sent'] for index,row in training_data.iterrows() if row['class'] == 'question']\n",
    "\n",
    "vec_q = CountVectorizer()\n",
    "X_q = vec_q.fit_transform(q_docs)\n",
    "tdm_q = pd.DataFrame(X_q.toarray(), columns=vec_q.get_feature_names())\n",
    "\n",
    "tdm_q"
   ]
  },
  {
   "cell_type": "code",
   "execution_count": 10,
   "id": "2cb1e3ef",
   "metadata": {},
   "outputs": [],
   "source": [
    "# Uma célula da matriz TDM representa a frequência da palavra nessa frase.\n",
    "# A seguir, deve-secalcular o número total de vezes que cada palavra apareceu em uma classe. \n",
    "# Por exemplo, da matriz acima, a palavra ‘livro’ apareceu 2 vezes na classe ‘Pergunta’."
   ]
  },
  {
   "cell_type": "code",
   "execution_count": 11,
   "id": "d5e16158",
   "metadata": {},
   "outputs": [
    {
     "data": {
      "text/plain": [
       "{'are': 1,\n",
       " 'book': 2,\n",
       " 'bought': 1,\n",
       " 'fictions': 1,\n",
       " 'how': 1,\n",
       " 'is': 2,\n",
       " 'like': 1,\n",
       " 'my': 1,\n",
       " 'novels': 1,\n",
       " 'the': 1,\n",
       " 'they': 1,\n",
       " 'this': 2}"
      ]
     },
     "execution_count": 11,
     "metadata": {},
     "output_type": "execute_result"
    }
   ],
   "source": [
    "word_list_s = vec_s.get_feature_names();    \n",
    "count_list_s = X_s.toarray().sum(axis=0) \n",
    "freq_s = dict(zip(word_list_s,count_list_s))\n",
    "freq_s"
   ]
  },
  {
   "cell_type": "code",
   "execution_count": 12,
   "id": "f42cf078",
   "metadata": {},
   "outputs": [],
   "source": [
    "# Da mesma forma, frequência de palavras para a classe de perguntas: "
   ]
  },
  {
   "cell_type": "code",
   "execution_count": 13,
   "id": "c4cdca57",
   "metadata": {},
   "outputs": [
    {
     "data": {
      "text/plain": [
       "{'are': 1,\n",
       " 'author': 1,\n",
       " 'book': 2,\n",
       " 'characters': 1,\n",
       " 'favorite': 1,\n",
       " 'have': 1,\n",
       " 'is': 2,\n",
       " 'read': 1,\n",
       " 'the': 2,\n",
       " 'this': 1,\n",
       " 'what': 2,\n",
       " 'who': 1,\n",
       " 'you': 1,\n",
       " 'your': 1}"
      ]
     },
     "execution_count": 13,
     "metadata": {},
     "output_type": "execute_result"
    }
   ],
   "source": [
    "word_list_q = vec_q.get_feature_names();    \n",
    "count_list_q = X_q.toarray().sum(axis=0) \n",
    "freq_q = dict(zip(word_list_q,count_list_q))\n",
    "freq_q"
   ]
  },
  {
   "cell_type": "code",
   "execution_count": 14,
   "id": "3d0bb732",
   "metadata": {},
   "outputs": [],
   "source": [
    "# Agora que temos a frequência de cada palavra em cada classe, podemos calcular a probabilidade de cada palavra em \n",
    "# uma determinada classe."
   ]
  },
  {
   "cell_type": "code",
   "execution_count": 15,
   "id": "8e46a585",
   "metadata": {},
   "outputs": [
    {
     "data": {
      "text/plain": [
       "{'are': 0.08333333333333333,\n",
       " 'book': 0.16666666666666666,\n",
       " 'bought': 0.08333333333333333,\n",
       " 'fictions': 0.08333333333333333,\n",
       " 'how': 0.08333333333333333,\n",
       " 'is': 0.16666666666666666,\n",
       " 'like': 0.08333333333333333,\n",
       " 'my': 0.08333333333333333,\n",
       " 'novels': 0.08333333333333333,\n",
       " 'the': 0.08333333333333333,\n",
       " 'they': 0.08333333333333333,\n",
       " 'this': 0.16666666666666666}"
      ]
     },
     "execution_count": 15,
     "metadata": {},
     "output_type": "execute_result"
    }
   ],
   "source": [
    "prob_s = []\n",
    "for word, count in zip(word_list_s, count_list_s):\n",
    "    prob_s.append(count/len(word_list_s))\n",
    "dict(zip(word_list_s, prob_s))"
   ]
  },
  {
   "cell_type": "code",
   "execution_count": 16,
   "id": "bdd2daa8",
   "metadata": {},
   "outputs": [],
   "source": [
    "# Probabilidades de palavras na classe de perguntas: "
   ]
  },
  {
   "cell_type": "code",
   "execution_count": 25,
   "id": "5124524b",
   "metadata": {},
   "outputs": [
    {
     "data": {
      "text/plain": [
       "{'are': 0.07142857142857142,\n",
       " 'author': 0.07142857142857142,\n",
       " 'book': 0.14285714285714285,\n",
       " 'characters': 0.07142857142857142,\n",
       " 'favorite': 0.07142857142857142,\n",
       " 'have': 0.07142857142857142,\n",
       " 'is': 0.14285714285714285,\n",
       " 'read': 0.07142857142857142,\n",
       " 'the': 0.14285714285714285,\n",
       " 'this': 0.07142857142857142,\n",
       " 'what': 0.14285714285714285,\n",
       " 'who': 0.07142857142857142,\n",
       " 'you': 0.07142857142857142,\n",
       " 'your': 0.07142857142857142}"
      ]
     },
     "execution_count": 25,
     "metadata": {},
     "output_type": "execute_result"
    }
   ],
   "source": [
    "prob_q = []\n",
    "for count in count_list_q:\n",
    "    prob_q.append(count/len(word_list_q))\n",
    "dict(zip(word_list_q, prob_q))"
   ]
  },
  {
   "cell_type": "code",
   "execution_count": 18,
   "id": "bd2c0705",
   "metadata": {},
   "outputs": [],
   "source": [
    "# Agora que sabemos a probabilidade de ocorrência de palavra em uma classe, podemos substituir os valores "
   ]
  },
  {
   "cell_type": "code",
   "execution_count": 19,
   "id": "aa844a4e",
   "metadata": {},
   "outputs": [],
   "source": [
    "# Visto que a equação acima envolve probabilidades de cada palavra de uma nova frase em relação a uma classe, se uma palavra da \n",
    "# nova frase não ocorrer na classe dentro do conjunto de treinamento, a equação torna-se zero. por exemplo: a palavra 'preço' \n",
    "# não ocorreu em nosso conjunto de treinamento em nenhuma das classes. Assim, P (preço | Stmt) = 0 e P (preço | Questão) = 0,\n",
    "# o que anulará a equação. Resumindo, para que a equação acima funcione, é necessário que todas as palavras de cada nova \n",
    "# frase apareçam em nosso conjunto de treinamento, o que não é possível.\n",
    "# Para resolver este problema, usa-se o Laplace Smoothing. "
   ]
  },
  {
   "cell_type": "code",
   "execution_count": 20,
   "id": "576b8c14",
   "metadata": {},
   "outputs": [
    {
     "data": {
      "text/plain": [
       "21"
      ]
     },
     "execution_count": 20,
     "metadata": {},
     "output_type": "execute_result"
    }
   ],
   "source": [
    "from sklearn.feature_extraction.text import CountVectorizer\n",
    "\n",
    "docs = [row['sent'] for index,row in training_data.iterrows()]\n",
    "\n",
    "vec = CountVectorizer()\n",
    "X = vec.fit_transform(docs)\n",
    "\n",
    "total_features = len(vec.get_feature_names())\n",
    "total_features"
   ]
  },
  {
   "cell_type": "code",
   "execution_count": 21,
   "id": "919637e4",
   "metadata": {},
   "outputs": [],
   "source": [
    "# Para encontrar, 'contagem total de todos os recursos em uma classe', "
   ]
  },
  {
   "cell_type": "code",
   "execution_count": 22,
   "id": "f7cf5f89",
   "metadata": {},
   "outputs": [],
   "source": [
    "total_cnts_features_s = count_list_s.sum(axis=0)\n",
    "total_cnts_features_q = count_list_q.sum(axis=0)"
   ]
  },
  {
   "cell_type": "code",
   "execution_count": 23,
   "id": "f1eb9013",
   "metadata": {},
   "outputs": [],
   "source": [
    "# Probabilidade com suavização laplace para todas as palavras na classe de instrução "
   ]
  },
  {
   "cell_type": "code",
   "execution_count": 26,
   "id": "63e1f875",
   "metadata": {},
   "outputs": [
    {
     "ename": "NameError",
     "evalue": "name 'new_word_list' is not defined",
     "output_type": "error",
     "traceback": [
      "\u001b[1;31m---------------------------------------------------------------------------\u001b[0m",
      "\u001b[1;31mNameError\u001b[0m                                 Traceback (most recent call last)",
      "\u001b[1;32m<ipython-input-26-c1cf1bcefaad>\u001b[0m in \u001b[0;36m<module>\u001b[1;34m\u001b[0m\n\u001b[0;32m      1\u001b[0m \u001b[0mprob_s_with_ls\u001b[0m \u001b[1;33m=\u001b[0m \u001b[1;33m[\u001b[0m\u001b[1;33m]\u001b[0m\u001b[1;33m\u001b[0m\u001b[1;33m\u001b[0m\u001b[0m\n\u001b[1;32m----> 2\u001b[1;33m \u001b[1;32mfor\u001b[0m \u001b[0mword\u001b[0m \u001b[1;32min\u001b[0m \u001b[0mnew_word_list\u001b[0m\u001b[1;33m:\u001b[0m\u001b[1;33m\u001b[0m\u001b[1;33m\u001b[0m\u001b[0m\n\u001b[0m\u001b[0;32m      3\u001b[0m     \u001b[1;32mif\u001b[0m \u001b[0mword\u001b[0m \u001b[1;32min\u001b[0m \u001b[0mfreq_s\u001b[0m\u001b[1;33m.\u001b[0m\u001b[0mkeys\u001b[0m\u001b[1;33m(\u001b[0m\u001b[1;33m)\u001b[0m\u001b[1;33m:\u001b[0m\u001b[1;33m\u001b[0m\u001b[1;33m\u001b[0m\u001b[0m\n\u001b[0;32m      4\u001b[0m         \u001b[0mcount\u001b[0m \u001b[1;33m=\u001b[0m \u001b[0mfreq_s\u001b[0m\u001b[1;33m[\u001b[0m\u001b[0mword\u001b[0m\u001b[1;33m]\u001b[0m\u001b[1;33m\u001b[0m\u001b[1;33m\u001b[0m\u001b[0m\n\u001b[0;32m      5\u001b[0m     \u001b[1;32melse\u001b[0m\u001b[1;33m:\u001b[0m\u001b[1;33m\u001b[0m\u001b[1;33m\u001b[0m\u001b[0m\n",
      "\u001b[1;31mNameError\u001b[0m: name 'new_word_list' is not defined"
     ]
    }
   ],
   "source": [
    "prob_s_with_ls = []\n",
    "for word in new_word_list:\n",
    "    if word in freq_s.keys():\n",
    "        count = freq_s[word]\n",
    "    else:\n",
    "        count = 0\n",
    "    prob_s_with_ls.append((count + 1)/(total_cnts_features_s + total_features))\n",
    "dict(zip(new_word_list,prob_s_with_ls))"
   ]
  },
  {
   "cell_type": "code",
   "execution_count": null,
   "id": "24e77608",
   "metadata": {},
   "outputs": [],
   "source": []
  }
 ],
 "metadata": {
  "kernelspec": {
   "display_name": "Python 3",
   "language": "python",
   "name": "python3"
  },
  "language_info": {
   "codemirror_mode": {
    "name": "ipython",
    "version": 3
   },
   "file_extension": ".py",
   "mimetype": "text/x-python",
   "name": "python",
   "nbconvert_exporter": "python",
   "pygments_lexer": "ipython3",
   "version": "3.8.8"
  }
 },
 "nbformat": 4,
 "nbformat_minor": 5
}
