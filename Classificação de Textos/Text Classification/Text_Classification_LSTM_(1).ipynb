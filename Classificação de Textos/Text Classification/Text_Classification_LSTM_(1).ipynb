{
  "nbformat": 4,
  "nbformat_minor": 0,
  "metadata": {
    "colab": {
      "name": "Text_Classification_LSTM (1).ipynb",
      "provenance": [],
      "collapsed_sections": []
    },
    "kernelspec": {
      "name": "python3",
      "display_name": "Python 3"
    },
    "language_info": {
      "name": "python"
    }
  },
  "cells": [
    {
      "cell_type": "markdown",
      "source": [
        "# **Importando bibliotecas necessárias**"
      ],
      "metadata": {
        "id": "lqBhw6WrcZAH"
      }
    },
    {
      "cell_type": "code",
      "execution_count": null,
      "metadata": {
        "id": "SUCgQBYc31po"
      },
      "outputs": [],
      "source": [
        "import pandas as pd\n",
        "import numpy as np\n",
        "import matplotlib.pyplot as plt\n",
        "import seaborn as sns\n",
        "import tensorflow as tf\n",
        "from sklearn.model_selection import train_test_split\n",
        "from sklearn.preprocessing import LabelEncoder\n",
        "from keras.models import Model\n",
        "from keras.layers import LSTM, Activation, Dense, Dropout, Input, Embedding\n",
        "from tensorflow.keras.optimizers import RMSprop\n",
        "from keras.preprocessing.text import Tokenizer\n",
        "from keras.preprocessing import sequence\n",
        "from tensorflow.keras.utils import to_categorical\n",
        "from keras.callbacks import EarlyStopping\n",
        "%matplotlib inline"
      ]
    },
    {
      "cell_type": "markdown",
      "source": [
        "# **Leitura da Base de Dados**"
      ],
      "metadata": {
        "id": "ZWh_jnw1cdo9"
      }
    },
    {
      "cell_type": "code",
      "source": [
        "df = pd.read_csv('Corpus_processado3.csv',delimiter=';',encoding='latin-1')\n",
        "df.head()"
      ],
      "metadata": {
        "colab": {
          "base_uri": "https://localhost:8080/",
          "height": 206
        },
        "id": "rHBhIe984jqG",
        "outputId": "83cc2078-3e82-43af-a8e1-9e4382a67518"
      },
      "execution_count": null,
      "outputs": [
        {
          "output_type": "execute_result",
          "data": {
            "text/html": [
              "\n",
              "  <div id=\"df-0c50794b-93d8-449d-a172-f71d9fbc3af2\">\n",
              "    <div class=\"colab-df-container\">\n",
              "      <div>\n",
              "<style scoped>\n",
              "    .dataframe tbody tr th:only-of-type {\n",
              "        vertical-align: middle;\n",
              "    }\n",
              "\n",
              "    .dataframe tbody tr th {\n",
              "        vertical-align: top;\n",
              "    }\n",
              "\n",
              "    .dataframe thead th {\n",
              "        text-align: right;\n",
              "    }\n",
              "</style>\n",
              "<table border=\"1\" class=\"dataframe\">\n",
              "  <thead>\n",
              "    <tr style=\"text-align: right;\">\n",
              "      <th></th>\n",
              "      <th>abstract</th>\n",
              "      <th>classe</th>\n",
              "    </tr>\n",
              "  </thead>\n",
              "  <tbody>\n",
              "    <tr>\n",
              "      <th>0</th>\n",
              "      <td>antitumorpromot principl angelica keiskei pote...</td>\n",
              "      <td>positive</td>\n",
              "    </tr>\n",
              "    <tr>\n",
              "      <th>1</th>\n",
              "      <td>effect catechin mous lung carcinoma cell adhes...</td>\n",
              "      <td>positive</td>\n",
              "    </tr>\n",
              "    <tr>\n",
              "      <th>2</th>\n",
              "      <td>cyclooxygenas inhibitor potenti properti colon...</td>\n",
              "      <td>positive</td>\n",
              "    </tr>\n",
              "    <tr>\n",
              "      <th>3</th>\n",
              "      <td>phase novel sulfonamid discov slowgrow colon c...</td>\n",
              "      <td>positive</td>\n",
              "    </tr>\n",
              "    <tr>\n",
              "      <th>4</th>\n",
              "      <td>retinoid iv design synthesi structureact ditbu...</td>\n",
              "      <td>positive</td>\n",
              "    </tr>\n",
              "  </tbody>\n",
              "</table>\n",
              "</div>\n",
              "      <button class=\"colab-df-convert\" onclick=\"convertToInteractive('df-0c50794b-93d8-449d-a172-f71d9fbc3af2')\"\n",
              "              title=\"Convert this dataframe to an interactive table.\"\n",
              "              style=\"display:none;\">\n",
              "        \n",
              "  <svg xmlns=\"http://www.w3.org/2000/svg\" height=\"24px\"viewBox=\"0 0 24 24\"\n",
              "       width=\"24px\">\n",
              "    <path d=\"M0 0h24v24H0V0z\" fill=\"none\"/>\n",
              "    <path d=\"M18.56 5.44l.94 2.06.94-2.06 2.06-.94-2.06-.94-.94-2.06-.94 2.06-2.06.94zm-11 1L8.5 8.5l.94-2.06 2.06-.94-2.06-.94L8.5 2.5l-.94 2.06-2.06.94zm10 10l.94 2.06.94-2.06 2.06-.94-2.06-.94-.94-2.06-.94 2.06-2.06.94z\"/><path d=\"M17.41 7.96l-1.37-1.37c-.4-.4-.92-.59-1.43-.59-.52 0-1.04.2-1.43.59L10.3 9.45l-7.72 7.72c-.78.78-.78 2.05 0 2.83L4 21.41c.39.39.9.59 1.41.59.51 0 1.02-.2 1.41-.59l7.78-7.78 2.81-2.81c.8-.78.8-2.07 0-2.86zM5.41 20L4 18.59l7.72-7.72 1.47 1.35L5.41 20z\"/>\n",
              "  </svg>\n",
              "      </button>\n",
              "      \n",
              "  <style>\n",
              "    .colab-df-container {\n",
              "      display:flex;\n",
              "      flex-wrap:wrap;\n",
              "      gap: 12px;\n",
              "    }\n",
              "\n",
              "    .colab-df-convert {\n",
              "      background-color: #E8F0FE;\n",
              "      border: none;\n",
              "      border-radius: 50%;\n",
              "      cursor: pointer;\n",
              "      display: none;\n",
              "      fill: #1967D2;\n",
              "      height: 32px;\n",
              "      padding: 0 0 0 0;\n",
              "      width: 32px;\n",
              "    }\n",
              "\n",
              "    .colab-df-convert:hover {\n",
              "      background-color: #E2EBFA;\n",
              "      box-shadow: 0px 1px 2px rgba(60, 64, 67, 0.3), 0px 1px 3px 1px rgba(60, 64, 67, 0.15);\n",
              "      fill: #174EA6;\n",
              "    }\n",
              "\n",
              "    [theme=dark] .colab-df-convert {\n",
              "      background-color: #3B4455;\n",
              "      fill: #D2E3FC;\n",
              "    }\n",
              "\n",
              "    [theme=dark] .colab-df-convert:hover {\n",
              "      background-color: #434B5C;\n",
              "      box-shadow: 0px 1px 3px 1px rgba(0, 0, 0, 0.15);\n",
              "      filter: drop-shadow(0px 1px 2px rgba(0, 0, 0, 0.3));\n",
              "      fill: #FFFFFF;\n",
              "    }\n",
              "  </style>\n",
              "\n",
              "      <script>\n",
              "        const buttonEl =\n",
              "          document.querySelector('#df-0c50794b-93d8-449d-a172-f71d9fbc3af2 button.colab-df-convert');\n",
              "        buttonEl.style.display =\n",
              "          google.colab.kernel.accessAllowed ? 'block' : 'none';\n",
              "\n",
              "        async function convertToInteractive(key) {\n",
              "          const element = document.querySelector('#df-0c50794b-93d8-449d-a172-f71d9fbc3af2');\n",
              "          const dataTable =\n",
              "            await google.colab.kernel.invokeFunction('convertToInteractive',\n",
              "                                                     [key], {});\n",
              "          if (!dataTable) return;\n",
              "\n",
              "          const docLinkHtml = 'Like what you see? Visit the ' +\n",
              "            '<a target=\"_blank\" href=https://colab.research.google.com/notebooks/data_table.ipynb>data table notebook</a>'\n",
              "            + ' to learn more about interactive tables.';\n",
              "          element.innerHTML = '';\n",
              "          dataTable['output_type'] = 'display_data';\n",
              "          await google.colab.output.renderOutput(dataTable, element);\n",
              "          const docLink = document.createElement('div');\n",
              "          docLink.innerHTML = docLinkHtml;\n",
              "          element.appendChild(docLink);\n",
              "        }\n",
              "      </script>\n",
              "    </div>\n",
              "  </div>\n",
              "  "
            ],
            "text/plain": [
              "                                            abstract    classe\n",
              "0  antitumorpromot principl angelica keiskei pote...  positive\n",
              "1  effect catechin mous lung carcinoma cell adhes...  positive\n",
              "2  cyclooxygenas inhibitor potenti properti colon...  positive\n",
              "3  phase novel sulfonamid discov slowgrow colon c...  positive\n",
              "4  retinoid iv design synthesi structureact ditbu...  positive"
            ]
          },
          "metadata": {},
          "execution_count": 2
        }
      ]
    },
    {
      "cell_type": "code",
      "source": [
        "sns.countplot(df.classe)\n",
        "plt.xlabel('Classes')\n",
        "plt.title('Número de resumos Positivos e Negativos')"
      ],
      "metadata": {
        "colab": {
          "base_uri": "https://localhost:8080/",
          "height": 367
        },
        "id": "lItW14HO5ihT",
        "outputId": "84eb74f2-e191-424d-fed4-76da4b5f6fce"
      },
      "execution_count": null,
      "outputs": [
        {
          "output_type": "stream",
          "name": "stderr",
          "text": [
            "/usr/local/lib/python3.7/dist-packages/seaborn/_decorators.py:43: FutureWarning: Pass the following variable as a keyword arg: x. From version 0.12, the only valid positional argument will be `data`, and passing other arguments without an explicit keyword will result in an error or misinterpretation.\n",
            "  FutureWarning\n"
          ]
        },
        {
          "output_type": "execute_result",
          "data": {
            "text/plain": [
              "Text(0.5, 1.0, 'Número de resumos Positivos e Negativos')"
            ]
          },
          "metadata": {},
          "execution_count": 3
        },
        {
          "output_type": "display_data",
          "data": {
            "image/png": "[encoded data removed]",
            "text/plain": [
              "<Figure size 432x288 with 1 Axes>"
            ]
          },
          "metadata": {
            "needs_background": "light"
          }
        }
      ]
    },
    {
      "cell_type": "markdown",
      "source": [
        "# **Divisão de treino e teste em 15%**"
      ],
      "metadata": {
        "id": "yKzREoQbciY-"
      }
    },
    {
      "cell_type": "code",
      "source": [
        "X = df.abstract\n",
        "Y = df.classe\n",
        "le = LabelEncoder()\n",
        "Y = le.fit_transform(Y)\n",
        "Y = Y.reshape(-1,1)"
      ],
      "metadata": {
        "id": "hiXsTkcQ5vIL"
      },
      "execution_count": null,
      "outputs": []
    },
    {
      "cell_type": "code",
      "source": [
        "X_train,X_test,Y_train,Y_test = train_test_split(X,Y,test_size=0.15)"
      ],
      "metadata": {
        "id": "KTJs3Ogb50m-"
      },
      "execution_count": null,
      "outputs": []
    },
    {
      "cell_type": "code",
      "source": [
        "max_words = 1000\n",
        "max_len = 150\n",
        "tok = Tokenizer(num_words=max_words)\n",
        "tok.fit_on_texts(X_train)\n",
        "sequences = tok.texts_to_sequences(X_train)\n",
        "sequences_matrix = sequence.pad_sequences(sequences,maxlen=max_len)"
      ],
      "metadata": {
        "id": "Ef4XvC-n53HE"
      },
      "execution_count": null,
      "outputs": []
    },
    {
      "cell_type": "markdown",
      "source": [
        "# **Criando o modele de Rede Neural LSTM**"
      ],
      "metadata": {
        "id": "C_XyAqRocnQt"
      }
    },
    {
      "cell_type": "code",
      "source": [
        "def RNN():\n",
        "    inputs = Input(name='inputs',shape=[max_len])\n",
        "    layer = Embedding(max_words,50,input_length=max_len)(inputs)\n",
        "    layer = LSTM(64)(layer)\n",
        "    layer = Dense(256,name='FC1')(layer)\n",
        "    layer = Activation('relu')(layer)\n",
        "    layer = Dropout(0.5)(layer)\n",
        "    layer = Dense(1,name='out_layer')(layer)\n",
        "    layer = Activation('sigmoid')(layer)\n",
        "    model = Model(inputs=inputs,outputs=layer)\n",
        "    return model"
      ],
      "metadata": {
        "id": "l7Z6aog755or"
      },
      "execution_count": null,
      "outputs": []
    },
    {
      "cell_type": "markdown",
      "source": [
        "# **Compilando o modelo**"
      ],
      "metadata": {
        "id": "TzsongI2csll"
      }
    },
    {
      "cell_type": "code",
      "source": [
        "model = RNN()\n",
        "model.summary()\n",
        "model.compile(loss='binary_crossentropy',optimizer=RMSprop(),metrics=['accuracy'])"
      ],
      "metadata": {
        "colab": {
          "base_uri": "https://localhost:8080/"
        },
        "id": "QJK_EEUB57-h",
        "outputId": "7872a348-420c-458b-d546-c8364242cfce"
      },
      "execution_count": null,
      "outputs": [
        {
          "output_type": "stream",
          "name": "stdout",
          "text": [
            "Model: \"model\"\n",
            "_________________________________________________________________\n",
            " Layer (type)                Output Shape              Param #   \n",
            "=================================================================\n",
            " inputs (InputLayer)         [(None, 150)]             0         \n",
            "                                                                 \n",
            " embedding (Embedding)       (None, 150, 50)           50000     \n",
            "                                                                 \n",
            " lstm (LSTM)                 (None, 64)                29440     \n",
            "                                                                 \n",
            " FC1 (Dense)                 (None, 256)               16640     \n",
            "                                                                 \n",
            " activation (Activation)     (None, 256)               0         \n",
            "                                                                 \n",
            " dropout (Dropout)           (None, 256)               0         \n",
            "                                                                 \n",
            " out_layer (Dense)           (None, 1)                 257       \n",
            "                                                                 \n",
            " activation_1 (Activation)   (None, 1)                 0         \n",
            "                                                                 \n",
            "=================================================================\n",
            "Total params: 96,337\n",
            "Trainable params: 96,337\n",
            "Non-trainable params: 0\n",
            "_________________________________________________________________\n"
          ]
        }
      ]
    },
    {
      "cell_type": "code",
      "source": [
        "history = model.fit(sequences_matrix,Y_train,batch_size=128,epochs=10,\n",
        "          validation_split=0.2,callbacks=[EarlyStopping(monitor='val_loss',min_delta=0.0001)])"
      ],
      "metadata": {
        "colab": {
          "base_uri": "https://localhost:8080/"
        },
        "id": "AeKszAJC5-4Y",
        "outputId": "53692d17-3361-448a-cc67-854ee0279b4f"
      },
      "execution_count": null,
      "outputs": [
        {
          "output_type": "stream",
          "name": "stdout",
          "text": [
            "Epoch 1/10\n",
            "3/3 [==============================] - 4s 411ms/step - loss: 0.6901 - accuracy: 0.5699 - val_loss: 0.6587 - val_accuracy: 0.6765\n",
            "Epoch 2/10\n",
            "3/3 [==============================] - 0s 154ms/step - loss: 0.6508 - accuracy: 0.5772 - val_loss: 0.3106 - val_accuracy: 0.8088\n"
          ]
        }
      ]
    },
    {
      "cell_type": "code",
      "source": [
        "test_sequences = tok.texts_to_sequences(X_test)\n",
        "test_sequences_matrix = sequence.pad_sequences(test_sequences,maxlen=max_len)"
      ],
      "metadata": {
        "id": "DEcLQIA76F-0"
      },
      "execution_count": null,
      "outputs": []
    },
    {
      "cell_type": "code",
      "source": [
        "accr = model.evaluate(test_sequences_matrix,Y_test)"
      ],
      "metadata": {
        "colab": {
          "base_uri": "https://localhost:8080/"
        },
        "id": "r_MPssYg6Ii7",
        "outputId": "be004720-d52a-4a30-b65d-d50c94406c9a"
      },
      "execution_count": null,
      "outputs": [
        {
          "output_type": "stream",
          "name": "stdout",
          "text": [
            "2/2 [==============================] - 0s 22ms/step - loss: 0.3508 - accuracy: 0.8000\n"
          ]
        }
      ]
    },
    {
      "cell_type": "markdown",
      "source": [
        "# **Word Embedding**"
      ],
      "metadata": {
        "id": "VW75Ki1F2prI"
      }
    },
    {
      "cell_type": "code",
      "source": [
        "from keras.models import Sequential\n",
        "from keras.layers import Embedding\n",
        "# Converting to tensor\n",
        "TextToTensor_instance = TextToTensor(\n",
        "tokenizer=tokenizer,\n",
        "max_len=max_len\n",
        ")\n",
        "X_train_NN = TextToTensor_instance.string_to_tensor(X_train)\n",
        "model = Sequential()\n",
        "model.add(Embedding(\n",
        "  input_dim=44, \n",
        "  output_dim=300, \n",
        "  input_length=max_len,\n",
        "  weights=[embedding_matrix]))\n",
        "\n",
        "model.compile('rmsprop', 'mse')\n",
        "output_array = model.predict(X_train_NN)[0]"
      ],
      "metadata": {
        "id": "6dFfrp5K2nCZ"
      },
      "execution_count": null,
      "outputs": []
    },
    {
      "cell_type": "markdown",
      "source": [
        "# **Word2Vec**"
      ],
      "metadata": {
        "id": "xFmom7wF3nuM"
      }
    },
    {
      "cell_type": "code",
      "source": [
        "tokenizer = nltk.data.load('tokenizers/punkt/english.pickle')\n",
        "sentences=[]\n",
        "sum=0\n",
        "for review in df['review']:\n",
        "  sents=tokenizer.tokenize(review.strip())\n",
        "  sum+=len(sents)\n",
        "  for sent in sents:\n",
        "    cleaned_sent=clean_reviews(sent)\n",
        "    sentences.append(cleaned_sent.split()) # can use word_tokenize also.\n",
        "print(sum)\n",
        "print(len(sentences))  # total no of sentences"
      ],
      "metadata": {
        "id": "YURglN2j3ePf"
      },
      "execution_count": null,
      "outputs": []
    },
    {
      "cell_type": "code",
      "source": [
        "import gensim\n",
        "w2v_model=gensim.models.Word2Vec(sentences=sentences,size=300,window=10,min_count=1)\n",
        "\n",
        "w2v_model.train(sentences,epochs=10,total_examples=len(sentences))\n",
        " \n",
        "# embedding of a particular word.\n",
        "w2v_model.wv.get_vector('like')"
      ],
      "metadata": {
        "id": "T7du4eOr3eA4"
      },
      "execution_count": null,
      "outputs": []
    },
    {
      "cell_type": "markdown",
      "source": [
        "# **Acurácia**"
      ],
      "metadata": {
        "id": "j5sWSdsKcxJM"
      }
    },
    {
      "cell_type": "code",
      "source": [
        "print('Test set\\n  Loss: {:0.3f}\\n  Accuracy: {:0.3f}'.format(accr[0],accr[1]))"
      ],
      "metadata": {
        "colab": {
          "base_uri": "https://localhost:8080/"
        },
        "id": "6_ALYWo76M5Q",
        "outputId": "e185b898-ecfe-48e3-b121-082857322508"
      },
      "execution_count": null,
      "outputs": [
        {
          "output_type": "stream",
          "name": "stdout",
          "text": [
            "Test set\n",
            "  Loss: 0.351\n",
            "  Accuracy: 0.800\n"
          ]
        }
      ]
    },
    {
      "cell_type": "markdown",
      "source": [
        "# **Plotando a Curva ROC**"
      ],
      "metadata": {
        "id": "f3mLNfPvc0mL"
      }
    },
    {
      "cell_type": "code",
      "source": [
        "plt.title('Loss')\n",
        "plt.plot(history.history['loss'], label = 'train')\n",
        "plt.plot(history.history['val_loss'], label = 'test')\n",
        "plt.legend()\n",
        "plt.show()\n",
        "\n",
        "plt.title('Accuracy')\n",
        "plt.plot(history.history['accuracy'], label = 'train')\n",
        "plt.plot(history.history['accuracy'], label = 'test')\n",
        "plt.legend()\n",
        "plt.show()"
      ],
      "metadata": {
        "colab": {
          "base_uri": "https://localhost:8080/",
          "height": 545
        },
        "id": "O2YaMpNG6kk3",
        "outputId": "432bfd97-9b73-4422-ffb2-a0cd1207f1eb"
      },
      "execution_count": null,
      "outputs": [
        {
          "output_type": "display_data",
          "data": {
            "image/png": "[encoded data removed]",
            "text/plain": [
              "<Figure size 432x288 with 1 Axes>"
            ]
          },
          "metadata": {
            "needs_background": "light"
          }
        },
        {
          "output_type": "display_data",
          "data": {
            "image/png": "[encoded data removed]",
            "text/plain": [
              "<Figure size 432x288 with 1 Axes>"
            ]
          },
          "metadata": {
            "needs_background": "light"
          }
        }
      ]
    },
    {
      "cell_type": "markdown",
      "source": [
        "![lstm.png](data:image/png;base64,iVBORw0KGgoAAAANSUhEUgAAAfEAAAFpCAYAAACMBxFTAAAAAXNSR0IArs4c6QAAAARnQU1BAACxjwv8YQUAAAAJcEhZcwAADsMAAA7DAcdvqGQAAGyESURBVHhe7Z0HeFTF+sbtWK7Xer3e61X/6r167QoqCiLSO1KkCUhTUBRU1AsqKNI7GEB6k957DSVILwFCAoEkhJCE0BUS0sv3zze7Z3N2M7O7OXNms7vne5/n9+SUyUnOO4F358ycmRv++te/AkEQBEEQgQcLcRKJRCKRSIElCnESiUQikQJUFOIkEolEIgWoKMRJJBKJRApQUYiTSCQSiRSgohAnkUgkEilARSFOIpFIJFKAikKcRAowFRQUwPTp06FevXpQs2ZNqFatGvz000+QmppqL+E7hYSEQLly5aBWrVoM/H0aNWoEYWFh9hI2rVy5kh3HMjVq1ICvvvoKEhMT7WdtOnLkCLRr146dx3v68MMPITw83H6WRCLxRCFOIgWYhg0bBu+//z6cP3+e7aenp8P3338PrVq1YgHvS2GI48/W69ChQ/Dqq6/CtWvX2P6CBQtYMMfExLB9/B1nzZoFFStWhEuXLrFjx48fhzfeeANCQ0PZPmrz5s1QtmxZx/eRSKTiohAnkQJIf/75J7z44osQFxdnP2JTVlYWbNmyBfLz86Fnz54wfvx4+xlw2q9SpQqMHTuWtZjxa5cuXdhxVF5eHgtSvPapU6egZcuWULt2bahevTqsXr3aXspZvBBHYUBHRESw36dChQqwa9cu+5kidevWDUaOHFlsW6/du3fDlStX7HskEslVFOIkUgAJH1Njq9adPIV479692fbFixfhlVdegYyMDLa/Z88eqF+/PtvGcJ80aRLb3r9/P7z00kuQk5PD9vXihfiGDRvYh4G0tDSIjY1lHzp4WrZsGbRo0YJtv/nmm3Dw4EG2TSKRvBeFOIkUQFqxYgVrIbuTpxDHx9SaPvjgA8cj7P79+zvKYQsaW+ba9jPPPANnz55l+3q59onj4+/WrVvD0aNH2fkDBw7AO++8w7ZdtX37dtbSRz377LOQkJDAtkkkkveiECeRAkgYfBjE7uQpxDFYNWHf9Hfffce23333XTh9+jTbxhY/tpLxsTuG89NPPw1JSUnsnF6uLfERI0bAN998Y98D9mj++eefZx8EXIUtcQx8FD5y37dvH9smkUjei0KcRAog4WAxfLQdFRVlP2ITPuoeNWoUezSOoYz93Zo++eQTYYjj4DgMUGw5v/fee+wYXgsfs2sjzLOzs1lL3JsQv3r1KnuUrv1+GN7Yp65v/WvCfnDt98TR6vgkwFVLlixxtOpJJFJxUYiTSAEmDE58vUx7/IzB3atXL/joo4/YPob5Z599xrbxNS4MVVGIo7DF3bVrV5g4cSLbxw8K2PK+fPky2588eTK88MILcPLkSbavF69PfMKECdC2bVv7HsC6detYK//YsWNsH0enz549m/0uOFAPhSPQX3/9ddY617Rp0yZ46623ID4+3n6ERCK5ikKcRApA4WPwOnXqsMfd2K88fPhwNkIdlZyczN7JxgFwX3zxBfTp08dtiOM75xjaZ86csR+xvcb29ttvs9Y5DlT78ssv2ffi62x68UIcy2DrHkfLa1q7di37nfD31d4Td+1jj4yMhPbt20PVqlXZPeHgOt4HBxKJVCQKcRKJRCKRAlQU4iQSiUQiBagoxEkkEolEClBRiJNIJBKJFKCiECeRSCQSKUBFIU4ikUgkUoAq4EL84sVUU8nNzeMeJ0oG+SgPeSgPeSgPeSiPCg9FsnyIq7imFSEf5SEP5SEP5SEP5VHhoUgU4gquaUXIR3nIQ3nIQ3nIQ3lUeCgShbiCa1oR8lEe8lAe8lAe8lAeFR6KRCGu4JpWhHyUhzyUhzyUhzyUR4WHIlGIK7imFSEf5SEP5SEP5SEP5VHhoUgU4gquaUXIR3nIQ3nIQ3nIQ3lUeCgShbiCa1oR8lEe8lAe8lAe8lAeFR6KRCGu4JpWhHyUhzyUhzyUhzyUR4WHIlGIK7imFSEf5SEP5SEP5SEP5VHhoUg+CXFc2L9atWowe/Zs+5Ei7dq1C5o2bQrNmzeHcePG2Y+Kxbs5GVRc04qQj/KQh/KQh/KQh/Ko8FAk5SGenp4Obdq0gd69e3NDvE6dOpCSkgL5+fnQqlUriI2NtZ/hi3dzMqi4phUhH+UhD+UhD+UhD+VR4aFIykM8NzcXMjMzISQkpFiIJyYmQsuWLe17ABMnToTffvvNvscX7+ZkUHFNK0I+ykMeykMeylMSD9N3doerUfMd+9nrKkHe0seKkb6zm6PM9T09uWVyVpd1lPkzeiW3DHLl9EFbufOXueeR1EMhjmtlbm7CLZO5tYWjTGr4CG4ZRCtzPnYHXF70L0hc8E+InvcPCJ/zMOQueZSVSYhcDBN2ToWRYSHQe2hZiLtyyvF9ZiGS8hDXxAvx8PBw6Nq1q30PYNGiRTBy5Ej7Hl84sTyJRCKR/EArHgdYV9a+U6jQd23HXAn/2l6gUBE/8susf91eoFDnQvllkKvRtjJ52Y5jBcsfg6xlhaFb+JUdi50Mh1IOwY4zO2DjisqwbObfYPb0B2DS1Pth39yHbWV2tYFf9/8KnVZ2glYzykHDUXdA9RG3w1vDykCHkLsc1x63bxzc0u8WuKHvDcW4vvRRVub4iVlww483wg21u8MNt6RD98EHbb+jDxRwIc77hCKDimtaEfJRHn/xEFtXWivkj7jtjuO5y550HNeTdmCwo0zGtrbcMlmhDRxlrh2ZwC2DXExJYWUuJ0RwzyNXjy9xXCtn7ZtO5/A/VPyavquHowxu68to4PdqZfCavDII/i6sXOHvxjuP4D1p18J75ZVBb7Qy6BmvDHqslUHveWWQP2I2O8rlrvgvt0za/n6OMhlhHbllsjbWcpS5FjGVHdM81HPp7BlW5nJitNPxgnk3s6/aNdyRmHIRTiSehkOnjsGukwchNGo7rDqyAbYc3+kos+7oZui7aSD0XPcDdFv5FXy0tAt8sKAttJj/gaPM5mO/w7Mhz8Pjo/4PHhr2d/jLwLvh5p9vZqG6OmKTo1yZ/mWKhS7y1epvHGXqzKpf7DwG9luTKzrKTNvzG7w24Q2oNPVdqD2zLjSZ+z60XvghfLz0Ezh99hwrs2XHOXjipWS44QaAv9ybCVPnXnF8v1mIVKohnpSUxAa0aRo7diy331wv3s3JoOKaVoR8lMdfPNT/50whbo0Qv3DhGpwLHw/nFz4CZxc/4jifUri/asbfYNqOXyHk9wkwbGMfGDrxXvjx13tYWSxzZXtXeG92E6g5oza8PeUdKPtrucKQfQ4eKwzZMdvHO34HDELXwESqT6/pKPO/td9zy9zY90b2O2IZDP+/DroHHh7+D3hy9FPw/NgX4fWJ5aHy1CpOHwi+WPU1fLnqG/h+/Y/QP3Qwe9T9684pEBa9x1Em/FQU7IkJh4j4ExCblAjJ5y47znnD+fOpMGhQJtxxRwEL8Pr1c+DYsTQl/5ZFKtUQR9WtW5eFOfadN2nSBOLj4+1n+OLdnAwqrmlFyEd5/MVD7T9w3jl/x188VEXK+T/gQNxR+P3EPtgQuRWWHV4Dc/cvgim7Z8LBuEhHuQGhQ6Driu7QfnEn1optMLsRC8s+G4uCvcfqb+HBoQ/CnQPudArMh0c87Cgze/9Cp3N6th7fxcqcPXfF6Ti2gO8dfC/8c/gjMGLbL45rYcu67qwG8P68FvDhoo7QZfln7HfAvmStDLbQZ+2bD4vDV8Lao6HsZ+yNPQyRp2McIe5PnDiRCg88kA/33VcAkyZlFP6OtuMq/g5FUh7ikZGRbHR6lSpVoEaNGmx7+vTpsGnTJnZ+//79rDWOTJ06lR1zJ97NyaDimlaEfJTHXzykEC85587/CfHJZyEyIRb2x0aw1t7hU8cd5/ExL7ZKB28ZDr03/Axfr+kJny7vBt+t6+Mos+DgMvYY9+Xxr8J/xjwN/xrxKNw/5H64vf/t7LpYBluM+sDUgy1l7VrYEuaVwRazVgZbqPhz8Oe9OakCVJ1eHer/9h50Wd3FUQbvpfeGvjBo8zD2+0/aNZ0F+9JDq9n9auXw98N9/JChHQtWsPV94ECaY3/VqvTCnCvaR1T8HYrks5a4WeLdnAwqrmlFyEd5SstD7APHR7LaftaGGkEX4hguCWfPO/ajEuJYSw9bfL/tWwATd02DUWFjYeDmoXD+wlVW5kh8NGsxYssRW5BVplWD8pPeghfHvQwrj6x3XOuREf/iBib252plms1ryS2Dj4O1Mvg74DFsGT8w5AF4dORj8Mwv/4VXCkP26OmTrEz82RTWsu6w5CPW0v5mTS/Wuh68ZQTsPHHAcS185IwtdWyxY8v9WMIp1n+r3Zs7RB4StvB+++1ceOihfDh5kl8GUeGhSBTiCq5pRchHeUrLQwxsmHuDYx/7WzHY9WVUgy1Z7JPElubemEOsbxNbr4vCV7DjWjkMWWxB4uCkLsu6QttF7aHp3OZs8BGeR2HAYTj+Y/g/4Z7B98Jt/W5j4YgBrF2nX+ggpzDVow1Wwke7ruewb/bOAXex1qh2rdqz6kHFyZWgxoxarKXbckFr6LjkY5i6e5ajzIrD61hLGY/NO7CY7W+M3Mb6Y7Uy6IE3IasaFO+4lcHW99ChmXDnnba+79q1bX3fvLKICg9FohBXcE0rYmUf9aO5NfBd2KLz3YqdR/CdWq0MvmvLGxWM4IhgLIMjhHnnERxZrF0LByvxyuDgJq0MDnrSjpdkhLGIuKQk1vIbt2MSe0Ss7+fER7A4qvedqVXY4Kbnxr4AT4x+kqGVwVBzDUwNHMGslbtjwB3cMjiACc+jMNRx1DKOXsZRzOUmvA6VplRmoa9dBz8gYB8tDqTC0dDDto6Gsb9PLPwwMNsxuAm/YpDjaGocVX0m5YJf9suaDYp33KqEh6dBpUq5LLzvuacAxo8v6vsWocJDkSjEFVzTiljZR30QagRSiCPetLzxkTS2krG1rB1rs7Ad/G3oQ8VCtdr0Go4y+LqQdhxfBbp70F/h78MehqfG/NsRitgixRYtvr6D18TXd3B0ca91vZ0GbM0pbAFj3/GqiI3sVaPdJ8NZ3zM+ZsbzVv47NAvy0JmKFW0BXrNmLhw9Km5961HhoUgU4gquaUU8+Xh9b2+n0NDIXfmio8yfJ9dzyyBXThW9FsI7j+CsS1oZnI2JVwZnb9LK4KxOvDIIzgaFZXB2KN55BGeVwjI405R+timjePLQl2C4/rL9V/h85ZcsXHEA1K39bmVB3GPN/xzlGs9pyl4lwkFRnZd9CkO3jioM2aVOr/FgwMYkninx6ztG8CcPAxXyMBUSEoq2w8KuQ0iI59a3HhUeikQhruCaVsSTj8Ec4mbhyUMzwUDdcWI/zNg7l40+xn5cfNSNryxpZbBPWWtBY99yuQmvQfP5rdj3aGX87fGyLz0MVqzsIQb1qFGZcP/9+bB163VuGW9Q4aFIFOIKrukruH2xhWHpOP97l2LnkewNVR1lrkb+xi2DXEqKY2XwK+88gt+PZVB4XV4Z/D20n0eIQfGOGwUDFt+vXX54LQzfNsYxYAsfh9/0802OgNbAR93615Tw/WPsj8aRzYHSF2y2h1bEqh4eOZIGVarYHp3ffXcBzJqVwS3nDSo8FIlCXME1fQUGZLG+WArxgAXFO+6JpHOXHNv4ShEO7MLXkrDvWR/S+NoRlsER0DizFk5nia8n4eQa2LeMk3Zo1wlUjHpIFGE1D7H1/csvGSy4McAxyA8f9q7vW4QKD0WiEFdwTU94s2IOPj7mnUfwsTOWwUfR+sfRpUlp+BhsePIw+sxp9soVThjSaWlnNs0kTgiC7xVrryZhUGNg42tV/w15Fur91hC6r+zBWtjHz8QXu2aw4clDwjNW87Bfv0wW3n/5SwF7lF6Svm8RKjwUiUJcwTU9YVaI+xOl4WOwgcJZrzCIcY5nHECGr0Bp5/EdaX3LGsH5o7FVjQPHsAz2deMsW/jOsfZ9VgLFO054jxU8xKDWwjomJhWaNs2BQ4fkWt96VHgoEoW4gmuKwMFW+jVsgwlf+hjoYMBi0OLrWtoxfA3rnyOLBpLpQ1org/NIY7DjO9gY9PppLwkb9HcoT7B7iK+J4etiONc577wZqPBQJApxBdcUobWkeecCHV/6GGhM3zOHvfOMj7bxEbe2RGLD2Y0dZXD6zMdGP8YekeOjcnxkjo/OcaIR/bUI99DfoTzB6iG2vMeNy2ATtuDj8/fey+GWMwMVHopEIW7wmryR4Rr46pJWDl9p0o6bMTOWv2LUx0AHB4PhoDCcf/vHjf3ZOsM4vefosHGOMrgOsdayxrWPcdAZDj7Dubq1Mjj626oemgl5KE8weogLlOBUqRjeOHXqsGHm9H2LUOGhSBTiRq95/jJc3/2NI6D1iEIc8fWc1L7CsI8BAAYsvmaFr1th8OIaxNpxXNdYC2gNfH0Ll1jUvh9nF8NpRXGlJ3evagWzh76CPJQn2DzcufM6WyoUAxwXL9GvQKYKFR6KRCHu5pruWts4CQjve6yKOx8DhcSUi45R3hjaOLEJTnCCE53oQxoHnWnfg2VwohScMAUnQcGVpIzOTBYMHpY25KE8webhuXOp7LWxwYMz2UImvDJmo8JDkSjE3VwTZ+TKXluBQtwL3Pnob5xKTmbrIeMUoThVKE4ZilOH4gpVuGwjlsGpQjGwcapRnHIUpx7FKUhxTWX9XN5mEkge+ivkoTyB7iE+JsdBa717Zzkd05dRjQoPRaIQV3BNK+JvPuLsZFuO7WAraH279jtot7iT49zCg8udWtYILuLx1uSKbLIUrRyOIMdFP7R91fibh4EIeShPIHuIy4PWr2/r+8b3vk+c4JdTjQoPRaIQV3BNK1IaPuKjb2wV46tX2jGc1OSfwx8pFtIItsCxTFRCHFuPGpfNxOUz9etVlyal4WGwQR7KE6geTpmSAQ88kM8CvHz5XNi7V33ftwgVHopEIe7mmmatTmUF3PloFksOrWLh22B2I7ZO9O39b2fhjNtaGWx5Y4jjiPAOSz5iE6Tg0pUY9lp/t7/iCw+DHfJQnkDzEPu88XUxDO877iiA/v191/ctQoWHIlGIu7mm1v/NO0c4485Hb9DWqsb1ovtuGghtF7Vnj7fx/WqtTMclHzta1XcOuAteGv8KW38aB5VpZQJloQ4esh4S5KEZBKKH7dplw+uv58GePaXX+tajwkORKMRdrqkfkR7M73WbjauPInD+79URm9gAsc3Hfnccx3entYDWwIFmuF61VgbXqMYBabgKVyCHtQhvPSTEkIfyBIKH0dFp0KdPlmPA2pkztha5a7nSQoWHIlGIu1zz+p6eAHNvcAR5sL7XbTZ6H3FVLe01K3yE3WpBG7ZW9X2D73MKaf271DidaLN5LeG7dX1g2p7fWGCfSbngOG8F9B4SxiAP5fF3D2fMyIAHH7T1feM2r0xpo8JDkSjE7dfEsE7f2a3YecI92CLG1vFXG76C6tNrwv+NeoJNdjL/wBJHGeyjxrWqnxrzb6g1sw58urwbjAwLcRoJTlAAmQF5KI+/eogjzZs0sfV9lylTAD/9lOlXrW89KjwUiULcfk1sdWML3PU8IQYfjVeY/LZT6/qBIQ+waUdx3m+t3JH46KBYq1o12t8iYRzyUB5/9HDu3HR46CFb67tcuTzYtes6t5y/oMJDkSjE7dfUHp+7nieKo43yxq8vjHuJtcC3xm+Fk4kJxcoS3qP9LRLGIQ/l8UcPhw/PhNtuK2D94Ckp/DL+hAoPRaIQt1+TQtwzW47vZI/DP1n+ueOYthym5iNhHPJQHvJQHn/xcMGCdDh92raNA9j27/ePkefeoMJDkSjE7dekEBez48R+9m629sgcl8t0HR2u+UgYhzyUhzyUp7Q9jIlJhebNbX3fXbpkc8v4Oyo8FIlC3H5NCvHi4AQpuGQmvuqF4f3qr2XZlKW817s0HwnjkIfykIfylKaH8+alw8MP2/q+X345D7Zv9+++bxEqPBTJ0iGOI9IhyTYAK3tdJYZrGSuD73FjeD8/9kWYvX8hN7w1zK4bK0IeykMeylMaHsbGpkKrVrbW9623FsB332XB2bP8soGACg9FsnSIY8sb1tG0qho4iQpOVYp939oxnJjFm+lKza4bK0IeykMeylMaHq5dex1uvLEAXnwxD7ZtC8zWtx4VHopEIb7ice45K4FrZ3dZ/hmU6V+GtbzbLurALecOs+vGipCH8pCH8vjKw1OnUuHo0aLBaosWpQd061uPCg9FohC3cIjjK2HdV/aAOwfcycL7XyMehdFh4wy902123VgR8lAe8lAeX3i4cGE6PPJIPlSokFvqi5WoQIWHIlGIWzjEu67ozsL74eH/gCFbR7LpUnnlvMHsurEi5KE85KE8Kj3E1nfbttms7/uWWwrgm28C473vkqLCQ5EoxC0U4vFnU2DEtl8cfdy4rna/0EGmzFFudt1YEfJQHvJQHlUeLl6cDv/6l23k+bPP5sGWLYHf9y1ChYciUYhbIMQxpH/eNAgeHPoga3lP2zObW04Gs+vGipCH8pCH8qjwMD4+Fe69twBuvrkAevTIguRkfrlgQYWHIlk6xC8nRgOkJ3HPBQP4eHzwlhHw92EPs/D+y8C74Zs1vSAuyfx7NrturAh5KA95KI+ZHuLjc2179ux0CA0N3ta3HjM91BDJ0iGOqLimv4DLf2J448A1HMB2IvE0t5wZBLOPvoI8lIc8lMcMD7Hl3aFDNnt8HhfHLxPMmOGhKyJZOsQvnT0DkP0H91wgcu78n7D7ZLhjH5f7xFfHsO9bX04FZteNFSEP5SEP5ZH1cMWKdHjsMVvf9zPP5MGePYEz57lZyHrIQyRLh3iw9InjQLVpe36Dp395Bh4c+jc4ffYct5xKzK4bK0IeykMeymPUQ1yspFMn28jzm24qgO7dsyAxkV822DHqoTtEohAP4BDHaVBxOlScFhUfm9/8883QeuGHbJ1vXnmVmF03VoQ8lIc8lMeoh7Vr26ZN/c9/8mD9emv0fYsw6qE7RKIQD9AQx6Au+2s5Ft64QMn781rA3tjD3LK+wOy6sSLkoTzkoTwl8RCXCNW2N2++Dp99lm3Z1reeknjoLSJRiAdYiGuzqWErvNyE16Dh7MZsqVDXcr7G7LqxIuShPOShPN56uGpVOnvfe+dOa7e6eXjrYUkQiUI8QEJ87dFQqDT1Xei0tLPjWGLKRacypYnZdWNFyEN5yEN5PHl45kwqfPJJNluwBBkyJJNbzsp48tAIIlGI+3mI43Kg1afXZI/NkVoz63i1qpivMbturAh5KA95KI87D3G1saeeso08f/LJfFi9Op1bzuq489AoIlk6xK9FTAU4PZd7rrTB/u16vzV0hPdbkyvCqiMbuGX9AbPrxoqQh/KQh/KIPJwwIYONOsfWd5cu2ZCQULwMYUPkoQwiWTrEERXXNIPt0XvZgLVyE16HxeErWR84r5y/4K8+BhLkoTzkoTwiD48fT4PXX89jfeG880QRIg9lEMknIT5w4EBo3rw5tGjRAiIiIuxHbZozZw4717JlSxgwYID9qFi8m5NBxTWNcCDuKLRc0Bo2Rm5zHNtybIffh7eGv/gYyJCH8pCH8mge4ijzbt2yYNasjGJlCPdoHpqJSMpDfN++fdC5c2e2HRcXxwJbU1paGlSpUgVyc3PZfocOHeDw4cNsWyTezRkla2MtgG31uOd8xeFTx+HDRR3hln63sMfm7RZ34pbzd8yuGytCHspDHsqD2rjxOjz9dB7r+8bWt/5VMsIzKN5xGURSHuJjxoyBRYsW2fcAatWqxcIblZWVBTVr1oRr166xIMfWeHx8PDsnEu/mjFKaA9siT8fAR0u7wG39bmPh/dSYf8PEXdPY1Km88v6O2XVjRchDechDOZKSUuG772wzrmGA4wxsOBMbrywhRsXfoUjKQ7x3794QGhpq3wNo1aqVU1CvXLmy8JPe6/D222/D4MGD7UfF4t2cUUozxHFBEgzvx0Y+DiG/T4CU84E9h7vZdWNFyEN5yEPjHDmSBv/9r631jXOfL19Ofd9GUfF3KJLPQ1zf2sYWed26deHKlSuQnZ3NzkVHR7NzIuXm5tm3TFBhgDN8oIKCAphwYALk5dt+/8vpl2HigYmQnZfN9kkkEqk0hb2ab7wB0LUr/t9sP0jyeykP8ZCQEJg/f759D6Bq1aqOx+lHjhyBLl26sG3UiBEjYPHixfY9vnifUIziy5b4isPrWMsbW92884GO2XVjRchDecjDkoFTpY4aVTRZCw5mIw/lUeGhSMpDPDw8HNq3b8+2o6KiWGtb06VLl6B69eqQmZnJ9rHcgQMH2LZIvJszii9DvMuyrizE5x1YzD0f6JhdN1aEPJSHPPSO5ORU6NEjC26+uQBuvbUAIiKKlgslD+VR4aFIykMcNXz4cPZ6mfa4fOnSpbBp0yZ2DlvpzZo1Y+eGDh3KjrkT7+aMkhHWEWBfF+45M8HXxB4b9X9w96C/QvK5y9wygY7ZdWNFyEN5yEPPbNlyHZ57ztb3/a9/5cPixc593+ShPCo8FMknIW6meDcng4prurLt+G7WCm80pwn3fDDgCx+DHfJQHvJQDL4m9u23WXDLLbaR523bZsOpU8XLkYfyqPBQJApxBdd0pee6H1iI4ytkvPPBgC98DHbIQ3nIQ/e0bJkD//xnPixYIB55Th7Ko8JDkSwd4mn7+wEcG8o9Zya4+hhO5hKblMg9HwyYXTdWhDyUhzx05uzZVJg8OcMxWUtcnA3XcnrIQ3lUeCiSpUPcVwPb8B1wfKTOOxcsmF03VoQ8lIc8LCIs7Dq89JKt7xuDnFeGB3kojwoPRaIQ99Ho9GDH7LqxIuShPORhYaMhBWddy2KjzjHA8RF6bCy/LA/yUB4VHopUohDX3u/GV8PwVbD8/Hy270vxbs4ovgjxqbtnsWVFeeeCCbPrxoqQh/JY3cPff78Or7xia33//e/5MHduyWdds7qHZqDCQ5G8DvF+/fqxOdD//PNPqFatGnTv3h369OljP+s78W7OKKpDPC4pCW7tdyu8NP4V7vlgwuy6sSLkoTxW93DAgEwW4M2b50BMDL+MJ6zuoRmo8FAkr0Ncm6Rl3rx5MG7cOLb94Ycfsq++FO/mjKI6xCftms5GpePodN75YMLsurEi5KE8VvRw9+40NtMabp8/nyo957kVPTQbFR6K5HWI42QtKFxW9Pjx42xbP/uar8S7OaPkrvgvwJrnuOfMAN8LxxAP9kFtiNl1Y0XIQ3ms5OG5c6nQp08WlClTAJ9/nsUtYwQreagKFR6K5HWI9+rVC+rUqQOtW7dm+8uXL3ea99xX4t2cDCquieDMbDhDG65ShjO28coEE6p8tBLkoTxW8XDXrutQrpyt7/vBB/Nh5kzvR597wioeqkSFhyJ5HeJ5eXmsBY6rjaEiIyPZOuC+Fu/mZFBxTWThweWsFd552afc88GGKh+tBHkoT7B7iK3vvn0zWesbA7xJkxw4cYJf1ijB7qEvUOGhSF6H+PXr11lfOLa+P/nkE5g4caJj4RJfindzRvkjZjPApT3cc7IM3jICbut3Gyw7vIZ7Ptgwu26sCHkoT7B7uH79dUfre/p081rfeoLdQ1+gwkORvA7xr776CoYMGQLbtm2DrVu3woABA+Drr7+2n/WdeDdnFNUD204lJ7OJXnjngg2z68aKkIfyBKOHOFhN/553SEgGHD9etOqY2QSjh75GhYcieR3ibdu2tW8VqU2bNvYt34l3c0ahyV7Mw+y6sSLkoTzB5uHevWlQvnwuvPturmPqVNUEm4elgQoPRfI6xN9//33IyMiw7wGkp6ezJUR9Ld7NGUVViE/ZPRPG75gMZ1IucM8HI2bXjRUhD+UJFg+x9Y3vfN9xh63vu0GDHEhI4Jc1m2DxsDRR4aFIXof44sWLoXLlyvDZZ58x3n33XTZC3dfi3ZxRVIX4syHPQ5n+ZSD+bAr3fDBidt1YEfJQnmDwcN++NHjrrVwW3vffnw9Tpqjp+xYRDB6WNio8FMnrEC8oKICUlBQIDQ2FzZs3F35SPG8/41vxbs4oKkJ8f2wEG5VeY0Yt7vlgxey6sSLkoTyB7iFO2vLQQ/kswOvVy4GoKHV93yIC3UN/QIWHInkd4pUqVYKhQ4dCdHS0/UjpiHdzRlER4v1CB7EQHxkWwj0frJhdN1aEPJQnUD3EV8e07V9/zYBJk4qWD/U1geqhP6HCQ5G8DvFz587B9OnTWd94w4YNYerUqaXSGufdnFH+iNsOcOUg95xRKkx+G27seyNEJsRyzwcrZteNFSEP5Qk0D7Hve8iQTHjuuTyIj+eX8TWB5qE/osJDkbwOcb2SkpKgb9++8MILL9iP+E68m5PBzGueSDwNN/18E5Sb8Dr3fDBjpo9WhTyUJ5A8PHgwDSpVsvV933tvAXsHnFfO1wSSh/6KCg9FKlGInzx5EkJCQqB+/frs9TJc1czX4t2cDGZeE+dIxxXLem/4mXs+mDHTR6tCHsoTCB7iY/LhwzPhrrtsI89r1cqFyEjf932LCAQP/R0VHorkdYjXqlULGjVqVGqP0TXxbs4oucueBFj5b+45Gc5fuMo9HsyYXTdWhDyUJxA8bNcum4X3PfcUwLhxpdf3LSIQPPR3VHgoktchHhsba98qXfFuzig02Yt5mF03VoQ8lCcQPFy37jprfR896j+tbz2B4KG/o8JDkTyG+BdffMG+vvPOO+w9cQ1t39fi3ZxRzAxxnCO945KPYffJcO75YMfsurEi5KE8/ujhoUNpULt2Dpt9jXfe3/BHDwMNFR6K5DHEL126xL4mJycXozRa57ybM4qZId5mYTv2atnqiE3c88GO2XVjRchDefzJQ3xMPnp0JvzlL7a+7y++MG/Nb5X4k4eBigoPRfIY4po6duxo3ypSkyZN7Fu+E+/mjGJWiJ87/yc8OPRvDNzmlQl2zK4bK0IeyuMvHh45kgZVq9pGnt99dwGMGeN/fd8i/MXDQEaFhyJ5DPGVK1dCzZo12etk+sfpFSpUYO+L+1q8mzOKWSG+JiKUtcJbL/yQe94KmF03VoQ8lMcfPFyyJL3wP1Zb6xsXLjl8ODAeo2v4g4eBjgoPRfKqJZ6Xlwc9e/Z0epSOU7DicV+Ld3NGSTswGCB6NPdcSfh85ZcsxGfvX8g9bwXMrhsrQh7K4w8e4utijz6aD6NGZQZM61uPP3gY6KjwUCSPIX7s2DH2dffu3Vx8Ld7NyWDGNf895j9w54A7LbVqmStm+Gh1yEN5SsNDDOqxYzNg4cJ0x7GzZ4uXCxRKw8NgQ4WHInkM8YEDB7KvOLmLK7w1xlWLd3MyyF4z6dwlaL+4E4N33irI+kiQh2bgaw/xNbGaNW193//5Tx6bRpVXLpDwtYfBiAoPRfIY4iLl5+fbt3wr3s0ZJWNb4YeQPR2554iSYXbdWBHyUB5feYit7/HjM9h0qRjgOH0qTqPKKxto+MrDYEaFhyJ5HeJLly6FOXPmsH7wli1bsvXE586daz/rO/Fuzig02Yt5mF03VoQ8lMcXHsbEpLL3vjG877yzAIYOzQyKFriGLzwMdlR4KJLXId68eXPIzs6G9evXQ58+fVhLHB+p+1q8mzOKbIhHJcTBK+NfhfE7JnPPWwmz68aKkIfy+MLD5ORUeP75PKhYMRcOHAiO1rceX3gY7KjwUCSvQ1zr/+7Vq5djQJvVQ3xU2Fg2Kh3XEOedtxJm140VIQ/lUeVhVFQazJyZ4dg/diwtqFrfelR5aCVUeChSiUIclx/Fd8bxkfqhQ4dY69zX4t2cUWRDvMaMWizE98dGcM9bCbPrxoqQh/KY7SH2fU+enAH3358Pt91WEDBTp8pgtodWRIWHInkd4hcuXIAZM2ZAfHw821+9ejVER0ezbV+Kd3NGkQnx+LMpUKZ/GXg25Dnueathdt1YEfJQHjM9xNZ2/fq2vu877iiAgQODq+9bhJkeWhUVHorkdYijDhw4ANOnT2dhji3x0hDv5oySFdoAYHtj7jlPTN8zh7XCv1r9Dfe81TC7bqwIeSiPWR5OnZoBDzyQzwK8fPlcS7TANczy0Mqo8FAkr0N8zJgx0KxZMxgyZAgD502fOHGi/azvxLs5GYxes/n8VizEN0WFcc9bDaM+EkWQh/KY5WGTJjlw++0F0L9/Jpw7xy8TrJjloZVR4aFIXod4q1atnN4Nz83NhRYtWtj3fCfezclg9JrT9sxmc6VfuHCNe95qGPWRKII8lEfGw/Xrrzu2T5xIhd27rdP61iPjIWFDhYcieR3ivMDG98V9Ld7NGeXakQkAp2ZwzxElw+y6sSLkoTxGPMTAbtzY1vc9bVrRCHSrYsRDwhkVHorkdYj3798funTpArNmzWLgtjYlqy/FuzmjGB3YZtXlRt1hdt1YEfJQnpJ6iK+N/e1vtr7vcuXyYNeuota4VSmph0RxVHgoktchjo/S16xZw4J70KBBsHbtWigoKLCf9Z14N2cUIyGOj8+f/uUZaDL3fe55q2J23VgR8lAebz08eTIVmja1tb7LlCmAPn2yLNf3LcJbDwkxKjwUyasQv3r1KkRFRUFmZqb9SOmJd3NGMRLiYdF72IC2RnOacM9bFbPrxoqQh/J46yEOWMMAL1s2D3bupNa3Hm89JMSo8FAkjyG+adMmqFChAjRu3JjNlx4ZGWk/Uzri3ZxRjIR4z3U/sBCfuGsa97xVMbturAh5KI87D3HOc5wyFbdTUlJhzJgM9tW1nNVx5yHhHSo8FMljiOOAtosXL7LtmJgY1hdemuLdnFGMhPjL41+FW/vdCnFJSdzzVsXsurEi5KE8Ig/nzk2Hhx/Ohx49srjniSJEHhLeo8JDkTyGuOv86KUxX7pevJszSklD/PCp46wVXnlqFe55K2N23VgR8lAeVw9jY1OhZUtb3/ett9r6vvXnieK4ekiUHBUeiuQxxLWFTzS57vtavJszTEoKQI7374IO3jKChTh+5Z23MqbXjQUhD+XRezh/fjr84x+2kecvvZQHYWHU9+0Neg8JY6jwUCSPIV6rVi1YvHixg9q1azvteyMc0Y6LpeCj+YiICPtRm1IKgxTfN2/atClb4tSTeDcnQ0mueTAuEn7c2B8i4k9wz1uZkvhI8CEP5dE83L79uqP13atXFpw9yy9PFEfzkDCOCg9F8hjiuPSoOzxp37590LlzZ7YdFxdXbOWz7t27s8FzKFwl7ezZs2xbJN7NGeVyQuEHirRT3HNEyTC7bqwIeShPTk6Rh717Z8G2bdT6Lin0dyiPCg9F8hjissI51xctWmTfs7Xs09LS2Da+e16xYkW2tKm34t2cUUrSJ34yMYEmeXGD2XVjRchD45w6lQpt2mRDw4a44iK/DOEd9HcojwoPRVIe4r1794bQ0FD7nm0Odm0500uXLrH1yXE2OHykPmLECHbcnXJzvQ98jyoMcIYXarmkJTw47EFIvpZsP0IikfxB+CDv0UeBPT5/+WWAK1fsJ0gkC8jnIY5hrYU4vrr2cuG/ujNnzrDWeMeOHWHbtm3snEi8TyhG8bYlnnzuMtw96K/w2MjHacETAWbXjRUhD0tGfHwqtG2bzcL7llsK4JtvsiA7mzyUhf4O5VHhoUiGQ1y/opk7hYSEwPz58+17AFWrVnU8TseV0OrUqcO2UVOmTIHJkyfb9/ji3ZxRvA3xhQeXs1HpnZd9yj1P0D98MyAPvQenSH3mmTwW4M8+mwebN9v6vslDechDeVR4KJLXIb506VKYM2cOC15sTePsbXPnzrWfFSs8PBzat2/PtnHqVteVz3DQ2+nTp9n2l19+6dRq54l3c0bxNsQ7LPmIhfjyw2u55wn6h28G5GHJGDo0E776KguSkoqOkYfykIfyqPBQJK9DHEeVZ2dnw/r169mrYNgS93bil+HDh7PXyzDAo6Oj2QcCbUR6QkICO47nteu6E+/mjOJNiOPj838M/yfcN/g+SDn/B7cMQf/wzYA8dM+yZelQpUounDnDP4+Qh/KQh/Ko8FAkr0Ncm+QFXyvbvXs32y6N2dt4N2eUq8eXAJxdxz2nsSkqjLXCm81ryT1P2DC7bqwIecgH+747drT1fd90UwHMm5fOLYeQh/KQh/Ko8FCkEoU4vseNo8lxENqhQ4eKvfPtC/FuTgZP18TXylZFbIStx3dxzxM2PPlIeIY8LM7Klenw+OO2WdewD3zjRvfvfZOH8pCH8qjwUCSvQ/zChQswY8YMx8jy1atXs0fjvhbv5mRQcU0rQj7KQx46g5O1aK3vbt2yIDGRX04PeSgPeSiPCg9F8jrEUQcOHIDp06ezMMeWeGmId3NGyVn7JsCmitxzSPSZ07A35hD3HOGM2XVjRchDZ1asSIenn86D9eu9n3WNPJSHPJRHhYcieR3iOPNas2bNYMiQIYwmTZrAxIkT7Wd9J97NGcXTwLZ+oYNYfzitHe4Zs+vGiljdw4SEVPj88ywIDy9alAhfJdOX8YTVPTQD8lAeFR6K5HWI40xr+pHj+KoZjij3tXg3ZxRPIf7W5IpwY98bITIhlnueKMLsurEiVvZw9ep0ePJJW99369bZ3DLeYGUPzYI8lEeFhyJ5HeK8wHZ959sX4t2cUdyFOD5Kv+nnm+C1CW9wzxPOmF03VsSKHuLrYp98kg033ljAwG13r5B5wooemg15KI8KD0XyOsRxfvMuXbrArFmzGLiNS4z6WrybM4q7EA/5fQJ7lN57w8/c84QzZteNFbGah7jC2FNP2VrfTzyRD6tWiV8d8xareagC8lAeFR6K5HWI46P0NWvWsOAeNGgQrF27FgoKCuxnfSfezRnFXYjXndWAhfiukwe55wlnzK4bK2I1Dw8fToN77ikobBBks/5wXpmSYjUPVUAeyqPCQ5G8DvFJkybZt0pXvJszSvquHgCHexU7jjOz4Qxt/x7zn2LnCD5m140VsYKHGzZcZ/3f2v6JE8XLyGAFD1VDHsqjwkORvA7xr7/+mk2RWtri3ZwMomvGJ5+F7dF7ueeI4oh8JLwnmD3Ed7zxXW985/uxx/Lh7Fl+OVmC2UNfQR7Ko8JDkbwO8fr168Nzzz0HFSpUgMqVK8M777zDvvpavJuTQcU1rQj5KE+weoizrGkrjuHsa/j+N6+cGQSrh76EPJRHhYcieR3iycnJXHwt3s0Zhfc4HadZnbBzKpxMTHA6TrjH7LqxIsHmIa4u9sUXWXDzzQUswHH+c5wHnVfWLILNw9KAPJRHhYcieQzxsLAw9nXx4sVcfC3ezRmFN7BtTUQoG9DWZmE7p+OEe8yuGysSbB7iI3SccQ0fn+MKZLwyZhNsHpYG5KE8KjwUyWOIawPacPUyHr4W7+aMwgvx/qGDWYhP2T3T6TjhHrPrxooEg4fJyYUfhNcUTZO6d2+a8ta3nmDwsLQhD+VR4aFIHkNcL3zN7OLFi/a90hHv5ozCC/Hv1vVhIb7w4HKn44R7zK4bKxLoHm7Zch2efTYP7rijAPbsKZo61ZcEuof+AHkojwoPRfI6xHEN8SpVqkCtWrXYPr4vvm3bNrbtS/Fuzii8EP9q9TcsxFcd2eB0nHCP2XVjRQLVQ2x9f/NNFtxyi63vu23bbDh1il9WNYHqoT9BHsqjwkORvA5xXPzk0qVL0KZNG7Z/5coVdszX4t2cUXgh/unybizEN0ZuczpOuMfsurEigejh1q3X4YUXbCPPH3kkHxYu9E3ft4hA9NDfIA/lUeGhSF6HeLt27dhXLcRRH3zwgX3Ld+LdnFF4S5F2WPIRC3F6R7xkmF03ViQQPXzvvRwW4G3aZENcHL+MLwlED/0N8lAeFR6K5HWI41zp+/btYyF+9epVmDt3LnTo0MF+1nfi3ZwMrteMSoiDsOg9kJhy0ek44R5XH4mSEygeHjlS1N8dFZUGCxaUbutbT6B46M+Qh/Ko8FAkr0M8JSUFOnfuDC+//DK8/vrr8Mknn0BSUpL9rO/EuzkZVFzTipCP8vi7hzjLWq9eWXDrrQWFH+L9J7j1+LuHgQB5KI8KD0XyOsT9RbybM8rV40sAzq5zOpZw9jwknbsEFy5cczpOuMfsurEi/uzh9u3XCz/A2/q+H344HxYtohAPVshDeVR4KJLHEMfH523bthXia/Fuzii8gW3vTqvK+sTpcXrJMLturIg/epiSkgo//JAFt91mG3neokUOxMTwy/oD/uhhoEEeyqPCQ5E8hji+Wob069ePrSkeGhoKGzduhJ9++gmGDBliL+U78W7OKLwQf3NSBRbi1BIvGWbXjRXxRw+HDctk4f33v+fDnDn+2frW448eBhrkoTwqPBTJY4hr6tSpk32rSNgv7mvxbs4ovBB/ZfyrcHv/252OEZ4xu26siL94iK1vBLexH7xHjyy/bn3r8RcPAxnyUB4VHorkdYjXq1cP4uPj7XsAZ86cYcd8Ld7NGYUX4s+GPAf3Dr7X6RjhGbPrxor4g4c7d16HsmXz4Pvvs7jn/R1/8DDQIQ/lUeGhSF6HOD5Gx+VHy5cvD2+++SZUrFgR1q5daz/rO/Fuzii8EP+/UU/Aw8P/4XSM8IzZdWNFStPDc+dS4ccfM6FMGVvfd6tWOXDhAr+sP1OaHgYL5KE8KjwUyesQ1/Tnn3/CH3/8wbbDw8PZV1+Kd3NG4YU4BjgGuf4Y4Rmz68aKlJaHu3enwWuv2UaeP/hgPsycmcEtFwiUlofBBHkojwoPRfI6xNPS0mDOnDkwduxYxqhRo1hr3Nfi3ZxRLidEFN7YKadjo8PGwS/bf3U6RnjG7LqxIqXh4YEDaXD77bbWd+PGORAdXToLl5hFaXgYbJCH8qjwUCSvQxwHtvXp04ctgoKj0hs0aMAesftavJuTQcU1rQj5KE9pedi5czZMmxa4rW89peVhMEEeyqPCQ5G8DnFtznTtKz5W79GjB9v2pXg3Z5iUFICcwG55+Aum140F8YWH2Pfdr18me9+bdz7Q8YWHwQ55KI8KD0XyOsRbtGgB6enpbNETrU882FYxw5nayk14Dbqu6O5UjvCM2XVjRVR7uHdvGpQvn8senT/wQD5ERATfB1jVHloB8lAeFR6K5HWIz5s3D2bMmAHLly9no9Pr1q0bdO+JxyYlsoleas+s61SO8IzZdWNFVHl4/nwqDBiQCXfcYev7rl8/B44dC84nUKo8tBLkoTwqPBTJ6xDX6/z584X/CRyDgoIC+xHfiXdzRnEN8cjTMSzEG81p4lSO8IzZdWNFVHiIr4lVqWJrfd93XwFMmpQRkK+OeYsKD60GeSiPCg9F8hji2mh0Eb4W7+aM4hri+2MjWIi3XNDaqRzhGbPrxoqo8vCnnzKhTp0ciIwM/vEfqjy0EuShPCo8FMljiI8ePZrx5ZdfQuPGjWHgwIFsDnUcnd6zZ097Kd+Jd3NGcQ3x30/sYyHebnEnp3KEZ8yuGytilof42ljbttmQlGTbx8fpwdz61mOWh1aGPJRHhYcieQxxTV26dIG8vDz7HkBOTg589tln9j3fiXdzRnEN8U1RYSzEuyz/zKkc4Rmz68aKyHqIYT10aCbceaet73vs2OB4bawkyHpIkIdmoMJDkbwO8YYNG0Jubq59D9g2tsx9Ld7NGeXakQkAp2Y49nedPAg1Z9SGMdvHO5UjPGN23VgRGQ8PHkyDSpVsfd/33FMA48cHd9+3CBkPCRvkoTwqPBTJ6xDHGdqqVq0K3bp1gy+++AJq1KgR8EuRIiquaUXIR3mMejhxYgbcdZet9V2zZi4cPWrduQ+MekgUQR7Ko8JDkbwOcdTp06fZWuIbNmyA2NhY+1HfindzMqi4phUhH+Ux6uHChems9Y2Pz63Y+tZj1EOiCPJQHhUeiuR1iGPr2x/EuzmjZIU2ANje2LG/9fgu+GZNL9hybIdTOcIzZteNFfHWQwzqMWMynFrccXHFy1kRbz0kxJCH8qjwUCSvQ3z48OGwePHiwv8s4iAxMdGBr8W7OaO4DmwL+X0CG9hGC6CUHLPrxop44+GRI2mO974bNQrOqVNl8MZDwj3koTwqPBTJ6xDHhU9cwT5yX4t3c0ZxDfGhW0exEJ+4a5pTOcIzZteNFXHnodb6vvtuW9931aq5LNB5Za2MOw8J7yAP5VHhoUheh7i/iHdzRnEN8Z83DWIhPnPvPKdyhGfMrhsrIvIQH5tXq2Zrff/lLwUwenSm5fu+RYg8JLyHPJRHhYcieR3iycnJbGS6torZokWL2EA3X4t3c0ZxDfHv1//IQnzBwWVO5QjPmF03VkTkIU7egu9+V66cC4cOUevbHSIPCe8hD+VR4aFIXod4hw4dYPPmzdC6dWu2v3//fkeg+1K8mzOKa4j3WP0tC/GVR9Y7lSM8Y3bdWBG9h9j63rr1umN/587r1Pr2Ar2HhDHIQ3lUeCiS1yHuup44ytsQx6lamzdvzpYzjYiIsB911ogRI7y6Hu/mjJKxrS3Ano6O/S9XfQO39LsFNkZucypHeMbsurEiKAzqceMy2CtjTzyRD2fO8MsSfFC844T3kIfyqPBQpBKF+LVr16Bt28LgK1RMTIxX64nv27cPOnfuzLZxZDuGuavwnXMMeF+HOMK75oUL14odI9zD85EoGSkpALVq2fq+8fH5sGHU911S6O9QHvJQHhUeiuR1iO/Zs6fwP5haULZsWahfvz5UrFgRdu/ebT8r1pgxY1j/uSa8Rlpamn3Ppk6dOsHevXv9JsSJkkM+GgeD+tdfM+C++4AF+Ntv57J+cF5Zwj30dygPeSiPCg9F8hjiffr0gaNHj7LtzMxM9jg8OjoasrKy2DFP6t27N4SGhtr3AFq1agXx8fH2PYClS5fCpEmTICkpyasQz80tWoRFWtGjbdh17OIx2JO0B3LycuxHSCT1KvxnBU89ha1vgPHjAfLz7SdIJBLJgzyG+IQJE1jrGVvfs2bNgj///NN+xju5hnjLli0dIY7XwoFyuCKatyHO+4RiFNeBbXVm1WcD204mJjiVIzxjdt0EO9j63r+/qLW9efN1OHWKPJSF/g7lIQ/lUeGhSB5DXNORI0egb9++7DE6TsG6Y8cO+xn3CgkJgfnz59v3cJKKqo7H6evXr4c6deqwvvX33nsPXn31VTYIzp14N2cU1xCvOr06C/EzKRecyhGeMbtugpljx9KgXr0c1u+tf2xOHspDHspDHsqjwkORvA5xTdhq3rRpE3z66ads1jZPCg8Ph/bt27PtqKgo1hLnyR9a4hUmv81CnAa2lRyz6yZYmTIlAx54IJ/1fb/5pnPfN3koD3koD3kojwoPRSpRiOfn50NYWBh8+eWXrEXt7VKkOO86jj7HAMf+dOwHxw8CevlDiJf9tRzc3v92pzKEd5hdN8HG8eNp0LBhDgvvO+4ogAEDMuH8eecy5KE85KE85KE8KjwUyasQP3nyJAvsSpUqsdfFcDnS3Nxc+1nfindzRnEN8WdDnod7Bt/rVIbwDrPrJtho2tQW4G+8kQt79/JHnpOH8pCH8pCH8qjwUCSPId6oUSOoXr06G+B2/vx5+9HSE+/mjJK77EmAlf927D8x+kn4+7CHncoQ3mF23QQDCQlF2xERaaz1fe6ccxk95KE85KE85KE8KjwUyWOI4/vh/iTezcmgv+amqDBYExHqdJ7wDr2PRCrMmJEBf/tbPixenM49z4M8lIc8lIc8lEeFhyJ5DHF/E+/mZFBxTStCPto4cSIVmjSxPTovU8a24hivHA/yUB7yUB7yUB4VHopk6RD/I247wJWD3HNEyTC7bgKRWbNsrW8M8HLl8mDXrqIFTLyBPJSHPJSHPJRHhYciWTrE9QPb8LUyHJleZVq1YuUIz5hdN4EGvjqG4X3bbQXQp08WpKTwy7nD6h6aAXkoD3kojwoPRfI6xPHVsMaNG7PZ21Djxo1jE8D4WrybM4o+xJPOXWLviFeeWqVYOcIzZtdNoKAtUJKUlArNmuXAjh0la33rsaqHZkIeykMeyqPCQ5G8DnGc8xyDXHuXG6dOxXe/fS3ezRlFH+KxSYksxGvNrFOsHOEZs+vG34mJSYXmzXOgb1/v+7w9YTUPVUAeykMeyqPCQ5G8DnFtCVL9hCw477mvxbs5o+hDPPJ0DAvx92Y3KVaO8IzZdePPzJ2bDg8/bOv7Ll8+t9ikLUaxkoeqIA/lIQ/lUeGhSF6HeIcOHSAxMdER5jhz2wcffMC2fSnezRlFH+IH4o6yEG8x/4Ni5QjPmF03/khsbCq0bGkbeX7rrQXw/ffG+r5FWMFD1ZCH8pCH8qjwUCSvQxwfpeNKZs8//zxbU7xBgwZw/Phx+1nfiXdzRtGH+I4T+1mIt1vcqVg5wjNm142/ERWVBv/4h631/dJLeYUfYo33fYsIdg99AXkoD3kojwoPRfI6xDVduXLFsQpZaYh3c0b5I2YzwKU9bDsyIRZ6rPkfzN6/sFg5wjNm142/gQPY8P3vnj2z4OxZfhlZgt1DX0AeykMeyqPCQ5E8hnivXr3c4mvxbk4GFde0IsHo48KF6fD551mOfW0kuiqC0UNfQx7KQx7Ko8JDkTyG+KJFixjff/89W3505syZMH36dPj444/h559/tpfynXg3J4OKa1qRYPLx1KlUaNs2mz06v+WWAuGCJWYTTB6WFuShPOShPCo8FMljiGvC0NaroKCAhbqvxbs5o+Su+C/AmufY9tqjoez1sjn0ON0QZtdNaYFznf/rX7a+7+eey4MtW8zv+xYRLB6WJuShPOShPCo8FMnrEMdBbdeuXbPvAesXx2O+Fu/mjKIf2DZ51ww2sG3wlhHFyhGeMbtuSoPOnW2t75tvLoAePbIgOZlfThXB4GFpQx7KQx7Ko8JDkbwO8Tlz5sAbb7wBTZo0gaZNm0L58uVhxowZ9rO+E+/mjKIP8ZDfJ7AQH7N9fLFyhGfMrpvSoFevLHj22TwIDfVd61tPMHhY2pCH8pCH8qjwUCSvQxyFre+oqCiIjIx0apX7UrybM4o+xIdtHc1CfOKuacXKEZ4xu258QXx8KvzwQ9Foc/yK06e6lvMVgeihv0EeykMeyqPCQ5FKFOL+IN7NGUUf4v1CB7EQn7l3XrFyhGfMrhvVLF+eDo89Zuv7HjzYvKlTZQg0D/0R8lAe8lAeFR6KRCFuD/Hv1//IQnzBwWXFyhGeMbtuVHH6dCp06mTr+77ppgL44ousUm196wkUD/0Z8lAe8lAeFR6KJBXiCQkJ9i3fiXdzRknb3w/g2FC2PTpsHJT9tRxsigorVo7wjNl1o4LVq9Ph8cdtre///CcPNmwonb5vEYHgob9DHspDHsqjwkORvA7xvDycajIMli9fzli4cCFUqVLFftZ34t2cDCquaUUCwcfZs9NZ6xsncElM5JcpTQLBQ3+HPJSHPJRHhYcieR3iX331FXTs2BEqVqwI3bp1g3feeQcWL15sP+s78W5OBhXXtCL+6iO2vo8dK5qsZd8+30zcYgR/9TCQIA/lIQ/lUeGhSF6HOK4njtKWIk1OToYff/yRbftSvJszSkZYR4B9Xdj2woPLYcjWkRCffLZYOcIzZteNLAkJqdClSzbceGMBNGiQwy3jb/ibh4EIeSgPeSiPCg9FKnGIt2zZErKysth2MC1F2mRuMzawLSL+RLFyhGfMrhsZ1qy5Dk8+aev7xq/YGueV8zf8ycNAhTyUhzyUR4WHInkd4r/88gtMnjwZpk6dCnXr1mXTsGKg+1q8mzOKPsTrzmrAQvxkYkKxcoRnzK4bI5w5kwqffmprfSPYEscWOa+sP+IPHgY65KE85KE8KjwUyesQR+HgNlR4eDhs2rQJMjIy2L4vxbs5o+hDvOr06izEz6RcKFaO8IzZdWMEXKjk9tsL4Ikn8mHVqsBofevxBw8DHfJQHvJQHhUeiuR1iA8dOhRycnLsewB//PEHdO/e3b7nO/Fuzij6EK8w+W0W4ucvXC1WjvCM2XXjLTjK/MCBosFqOIlLILW+9ZSWh8EEeSgPeSiPCg9F8jrEQ0JCoHHjxnD8+HHYsmUL1K5dmy1R6mvxbs4o+hAvN+E1KNO/TLEyhHeYXTfegO95P/10HjzzTJ5fvjJWUkrDw2CDPJSHPJRHhYcieR3iqJiYGHjzzTehZs2acOnSJftR34p3c0bJ2lgLYFs9tv3c2BfgnsH3FitDeIfZdeMOnGGte/cs9s43Dl7DGdgCtfWtx5ceBivkoTzkoTwqPBTJ6xDHfnBcwWzixInQv39/6NChQ2HrJ9F+1nfi3ZwM2jUTUy5CbFJisfOEd2g+qmbjxuus5Y3h/dhj+ezxOa9cIOIrD4MZ8lAe8lAeFR6K5HWIY4BjS1zT3r17oV69evY934l3czKouKYV8YWPKSmp8H//Z3t1rEOHbLYKGa9coOILD4Md8lAe8lAeFR6K5HWIayPT9cJWua/FuzmjXIuYCnB6LtvedfIgHImPLlaG8A6z60bPqVNF2ytXpsOSJcHT+taj0kOrQB7KQx7Ko8JDkbwOcRzQhtOttm3bltGiRQuoXLmy/azvxLs5o+gHtt054E54efyrxcoQ3mF23SDJyanQo0cW3H9/Phw54r/TpZqFCg+tBnkoD3kojwoPRfI6xDG016xZAw0bNoRt27ZBz549Yd++ffazvhPv5oyihfiFC9fgxr43whsT3+SWIzxjdt1s2XIdnnvO1vf9yCP5rC+cVy6YMNtDK0IeykMeyqPCQ5G8DvF27dqxr61bt2Zf8fF6586d2bYvxbs5o2ghnnTuEntH/J2pVbjlCM+YVTfY+v7mmyy45RbbyPO2bbOdHqcHM2Z5aGXIQ3nIQ3lUeCiS1yGOU6yePHmSrWSGLfArV64E/MA2LcTjkpJYiNeaWYdbjvCMWXWDA9YwvP/5z3xYsCA4+75FmOWhlSEP5SEP5VHhoUgeQ3zlypXs68GDB2Hz5s1w5MgR9p54uXLlAn5gmxbikQmxLMTfm92EW47wjEzdXLhQtH3wYBq0b58NcXHOZayAjIeEDfJQHvJQHhUeiuQxxHEQmz+Jd3NG0UL8QNxRFuIt5n/ALUd4xmjdhIVdh1deyQvIuc7NxqiHRBHkoTzkoTwqPBTJ0iF+6ewZgOw/IP5sCszcOw82Rm7jliM8U9K6wXe+v/suC2691db3jaPQeeWsREk9JIpDHspDHsqjwkORPIb4Cy+8wF4lc+Wdd95hX30t3s3JoOKaVqQkPv7+u631jeH98MP5MHcutcKRknhI8CEP5SEP5VHhoUgeQ7x58+aQnJwsxNfi3ZxRLidGA6Qncc8RJcPbusGJWm67zdb6bt48B2Ji+OWsiLceEmLIQ3nIQ3lUeCiSxxBv06aNfcs/xLs5o2h94isOr4N/Dn8EBm8ZwS1HeMbbusGFSipUyIXZs6n17Yq3HhJiyEN5yEN5VHgokscQHzZsmH3LP8S7OaNoIT57/0I2sO2njQO45QjPiOoG+7779MmCESMyueeJIkQeEt5DHspDHsqjwkORPIa4v4l3c0bRQnzK7pksxKklbhxe3ezadR3KlbP1fePCJWfPOp8nnOF5SJQM8lAe8lAeFR6KRCFeGOIhv09gIT5m+3huOcIz+ro5dy4VfvopE8qUsfV9N2mSAydOFP8ewhm9h4QxyEN5yEN5VHgokk9CfODAgWyAHM6/HhERYT9q0549e6BZs2bsXK9evSA/P99+hi/ezRlFC/FhW0ezEJ+wcyq3HOEZrW5wkpbXXrO1vh98MB9mzMgoVpbgo3lIGIc8lIc8lEeFhyIpD3GcolWbYz0uLo6FuV41atQobLmdY9u4SlpYWBjbFol3c0bRQrxf6CAW4jP22pYlJUqOVjc4+1rNmrnQqFEOREcH/8pjZqJ5SBiHPJSHPJRHhYciKQ/xMWPGwKJFi+x7ALVq1YK0tDT7Hjht//TTT7B8+XL7Hl+8mzPK1aj5AEkrYHH4SvhwUUfYdnw3txzhnr1702DkyKK6SUwsXobwjNl/31aEPJSHPJRHhYciKQ/x3r17Q2hoqH0PoFWrVhAfH2/fK9KFCxegevXq8Mcff9iP8MW7ORlUXNMqnD+fCgMGZMIdd9j6vjdvDv7lQlVCf4vykIfykIfyqPBQJJ+HOK6G5hrily9fhsaNG8OOHTvsR8TKzc2zb5FKU7GxAJUqAQvvBx4AWLjQfoJEIpFIPpPyEA8JCYH58+fb9wCqVq1a7HE6Bvj27dvtR9yL9wnFKNnrClMo9F0Y+/tEaLOwHRw9fZJbjnBm6NBMuPNOW+u7Xr0ciIqy1SevLOE95KE85KE85KE8KjwUSXmIh4eHQ/v27dl2VFQUa4nr9cMPP8CKFSvse57FuzmjaAPbWi/8kA1s2xtziFuOcOarr7LgvvsKYNKkDMcyombXjRUhD+UhD+UhD+VR4aFIykMcNXz4cPYKGQZ4dHQ0LF26FDZt2gQZGRnw/PPPs6ldNRYsWGD/Lr54N2cULcSbzG3GQvzwqePcclYH+74nT85g73/jflJSKmt968uYXTdWhDyUhzyUhzyUR4WHIvkkxM0U7+aMooV43VkNWIhHnznNLWdlDh5Mg7ffzmWPzn/+WTx1qtl1Y0XIQ3nIQ3nIQ3lUeCgShXhhiFebXoOF+Omz57jlrAg+Jh82LBPuusvW912rVi5ERorf+za7bqwIeSgPeSgPeSiPCg9FohAvDPGKkyuxED9/4Sq3nNUID0+DSpVsre977imAceOK+r5FmF03VoQ8lIc8lIc8lEeFhyJZOsTTd3YDCP8aGs1pAk+OfopbxopMm5bBArxGjVw4etS7WdfMrhsrQh7KQx7KQx7Ko8JDkSwd4oiKawYihw+nwcmTRfvLlqV7bH3rIR/lIQ/lIQ/lIQ/lUeGhSBTiCq4ZSGBQjx6dCXffXcBWG+OV8Qar+2gG5KE85KE85KE8KjwUydIhfn1PT4CIH2H6njmw4OBSbplg5siRNKha1db3jSE+Zoznvm8RZteNFSEP5SEP5SEP5VHhoUiWDnFtYNv9Q+6Hp395hlsmGMGg/uWXDBbcGOBVquSyx+m8st5idt1YEfJQHvJQHvJQHhUeikQhXhjidw64C14a/wq3TDBy4EAa3HZbAfzlLwUwalSm4da3HrPrxoqQh/KQh/KQh/Ko8FAky4d4wfLH4Kafb4I3Jr7JLRMsYFDrB65NmZIBhw6Zt9632XVjRchDechDechDeVR4KJLlQzx72WPsHfF3plbhlgkG8DWxmjVz4YUX8iA5mV9GFrPrxoqQh/KQh/KQh/Ko8FAky4f41aWPshCvOaM2t0wgg63v8eMz4N57bX3fOIFLdLR5rW89ZteNFSEP5SEP5SEP5VHhoUiWDvGc1WXh3MpXWIg3nN2YWyZQwSlSa9fOYeGNy4biFKpm9H2LMLturAh5KA95KA95KI8KD0WydIgjefl5EH4qCiJPx3DPByIY1s89l8cCHBcvwYFsvHJmoqJurAZ5KA95KA95KI8KD0WyfIiruGZpoS0ViixYkA6DB2eyZUT1ZVQRTD6WFuShPOShPOShPCo8FMnSIf5n9ErITl7HliBNOneJWyYQwJb3pEkZ8NRT+W5XGlOJ2XVjRchDechDechDeVR4KJKlQxwHtu2a+3fWJ/7Fqq+5ZfydY8fSoH59W9/3HXcUwNy56dxyqjG7bqwIeSgPeSgPeSiPCg9FsnyIb579EAvxnut+4JbxZ6ZOzYAHHshnAV6+fC7s3Vs6rXDE7LqxIuShPOShPOShPCo8FMnyIb561t9YiP+4sT+3jL/Sq1eWo/Xdv7/v+r5FmF03VoQ8lIc8lIc8lEeFhyJZPsQXzXyQhfjgLcO5ZfwVbHW/804u7NlTeq1vPWbXjRUhD+UhD+UhD+VR4aFIlg/x36Y/wEJ8dNg4bhl/4cSJVLZU6Pr117nnSxuz68aKkIfykIfykIfyqPBQJMuH+KSp97MQn7BzKreMPzBjRgY8+KCt77tZM+NrfqvE7LqxIuShPOShPOShPCo8FMnSIX7l9EE4Hr8Ghm8bA3tjD3PLlCZa6xvDu0yZAvjxx0ynd8H9CbPrxoqQh/KQh/KQh/Ko8FAkS4c4ouKaZrBly3V46CFb67tcuTzYudM/H6Nr+KuPgQR5KA95KA95KI8KD0WydoifvwyQl80/V8rEx6fCf/6TB336ZEFKCr+MP2F63VgQ8lAe8lAe8lAeFR6KZOkQxz7xkZPvg5fGvwK/n9jHLeNL5sxJZzOvaftnzxYv46+YXTdWhDyUhzyUhzyUR4WHIlk+xD8fdzcb2Lb1+C5uGV8QE5MKzZvb+r5x8paEBH45f8bsurEi5KE85KE85KE8KjwUyfIh/lHIX1iI74kJ55ZRzbx56fDww7a+75dfzoPt2/2771uE2XVjRchDechDechDeVR4KJLlQ7z1L3exED986ji3jCoSE1OhVStb6/vWWwvYDGyB9PjcFbPrxoqQh/KQh/KQh/Ko8FAky4d4k9F3shDHlcx4ZVSBK49VrpwLL7yQB9u2BWbrW4/ZdWNFyEN5yEN5yEN5VHgokuVDvM7I21mInz57jlvGTE6dsi0Zqu3je+CB3PrWY3bdWBHyUJ6kpCR4+eVXoHnzlozGjZvC11/3hHPn/uSWd2Xv3kPs+3jnXJk5cy68/Xalwp9ZtIzxF1/0gIiIE07lzGDw4OEwYcIUp2MbNmyFzp0/cTqGREXFwocftmf38d57jeDLL78u/H/mCowZM44dq1u3PrzxxhsOj/Bc5crvwsiRIez7tb/Dn37qD++8U9np2t7Qvn0nWLdus2Mff5eJE6c59nv3/gkmT57h2PeWBg3eY97Gx6dAx44fsd/9/febw/79Eex6333X26n8wYNHoU6duk7HfIXmoZmIZOkQTz0UAgOWvwd1ZzWAc+e9+0dulEWL0uGRR2x932vWBH7L2xWz68aKkIfyYIjjf/b6Yxisv/023+mYiJKGOIbEqFG28EP8IcQxtBcsWObY//bbXrBs2WrHPu/78MMOgtuoCxeuQYsWrQyFeEjIr+z3xe3z569C7dp14NNPP3Ocx/o5eDDSse8tWojjtUePHsuOrVixDrp06QpxcUlQqdI77Odp5YcNG1X4weQXx74vQfGOyyCSpUMcUXFNPfi+d9u22Sy8b7mloLBVkAXJyfyygYxqH60AeSgPL8QnTZoOgwYNY9sTJkyFpk3fZy24X375lR3DlisGGIb399//6AjxxYtXsLK436fPz47raWCIT548nQU5hgge00IcW/5fffUNC8KmTZvB+vVb2Hm8Fn5QwG0MZQwkDNX27Tuyc7//vo/9Xvj7vPdeYxgyZAQrW5IQ79SpM0yb9lux4xq878OfjS3offuOsL/D0NDf4X//+95tiGs+ubJz535237i9a9cB9iSkYcNGbD8h4RwLW9zG36NJE5u/n33WvfD/xcvM008++YzVz7FjcYX10Yd97+eff8F8Rm/xyQc+PcBrhIXthlatWrNt/P3xmriN1KlTj5UPDd3Ortey5QfQvftXju/Fum7UqAmrH61OzALFOy6DSBTiCq6psWRJOjz6qK31/eyzebB5c/C1wDVU+mgVgtFD7LLikRpuCyckc2sLbpnMzU0cZfCpGR7T9kW4hnhKyh/Qpk27wn+Lq+DIkWgWLtjKRDBAjh6Ngb59+8O4cZNYeWxVY6gkJJyH+vUbsGDB49ja27z5d8d1EQwcDS3ktRDHlv+AAUPYsZiYRMdjXbw2L8Qx2LSfhSGOHwLwd8TH3KdPp5QoxLdu3QXly7/Jwmno0JFw6NAxp/OiEJ81ax77nVG9ev0Aa9eGGgpxbA1XrPg2C8tff53M/EH/8PdYvXojC2QsV716DYiMjGHb+PNmzJjDyuIHGLx3/ECBdYnXw3LPP/8881b/szD8p0+3fWCZO3cR++CB2/iIHe8ft+vVq+/4kIV1PWfOQnZvH33UhR3btCkMBg4cyrbNAsU7LoNIlg5x/E9i8OyXoPeG4p+yzaBr12y4+eYC6NEjOFvfesyuGysSjB66BrOGyhDX94mXK/ea43H3/PlLWLho5/AxL/4Hjq3g7dv3sDLbtu1m5/Dr66+/7iiLQTBnziKnn6UFOIYMthaPHj3pCPH//e87qFWrtuP7q1atxkINt3kh3qFDJ8d18ckBBhCWxXvB65UkxJHExIuwdOkq9ii9bNlysGbNJsc5UYifOnUWatasBXl5eex3xw9AriGOH260eypbtiz7io/v9WUQfBqAH3owvA8fPg7jx09mIY0fEjB0MVRr1KjpKL9o0XLW6kY/8SseW7hwGfTs+YOjDJbXh3jfvgOcfjbe87vvVmEfgPAJBj51OXHidKGHLzt+Z6wnfBSPaE9iVKDi37JIlg5x/E/h0YE3w2MjH+eeN8LGjdcL/1Hbts+csc2B7lomGDG7bqwIeSiPa0scw2rx4pVsG79+801PxzmNdu06sMfYuL116072nz0+Em7T5sNiZfVoIY7b2DfbrduXjhDHR7XYMnT9HnwSoIX42LETHCGuhSp+EMDAx7DEfQzTkoZ4UtJFp31sYevDThTi+BW9mDp1amHD41u2b6QljmBoY1Di0wzc37FjP3z99f/Y92Cox8Uls5a4Vh69+uGHn5ifP/7Yjx3Dfn39YLVq1ao7Qhy7R/Ce9H3gCLbMsesCP3SdPHmG/Rz8Pn0ZBAMcB/q5HjcLFf+WRbJ8iD/Y/yZ4+pdnuOdLAvZ9d+xo6/seNCiTWyaYMbturAh5KI9riOMjdPxPHFtp+Oi8alXbNj6uxaDFwOvTp69jtPSIEWNY0GAZHHl+8mQCO44hin202nURfYgj2OeKoYVBg612bTAXXqN//8FsG0dVr11raxVjkLqGOH6YwH543Mbgw5Y4DgLzNsQx1KpUqcoeRWvHhg8fzQZ5afvuQhzvB0eur1y5nu0bDfE9ew6xPn1sieM+to6x+6JmzdqOMtiyxjrBbXxiMHv2AqcQ3707nH0P1hV+uHnuueeYt9hfj10krgGO4IcpfEyOI+K1Y1j/mh/4eB+vi09gtDL4gU3f4jcDFf+WRbJ8iN/V70Y2dzrvvLesWJEOjz1m6/t+5pk81hrnlQtmzK4bK0IeysMb2IYBqoUovuqE5zFgtJHLGBC4jy1vfK1KCycc2IZlMVSxzxbDRLsm4hriOMjq6aefZkGDj6KxNYshhNfWQhFDBj9IYIsXHxu7hjiGHf4e+DPxcTEGWqtWbYQhrn9VDMFQxN9DfwyfDpw5c8Hp+0Qhjo/U33rrLfb74767EHcHeoW/G7bItWN4X/i7aPsYxlq3AQ4CxJ+pD3EEn5zg4DN8yoGvy6G3Xbt2Y4/9tfvT+rYRvAb+XP3bCPhzsA5wcBsOmtPGHuA4BjyG4IcOrbwZqPi3LJKlQzx3yaNwU98b4PWJ5bnnPXH6dCp8/LGt9X3TTQWFf2hZhZ/g+WWDHbPrxoqQh/KQh/KQh/Ko8FAkS4d4ZmGI40Qvlaa+yz3vialTM1iA45Kh69dbr/Wtx+y6sSLkoTzkoTzkoTwqPBTJ0iF+KbQJ3DfgNqj/m/PjN3fgCmPY/43bOHVqSEiGZVvfesyuGytCHspDHspDHsqjwkORLB3iSEmuuXp1Ojz5ZD588EE297yVKYmPBB/yUB7yUB7yUB4VHopEIe7FNfFVsU8+yYYbbyxg4Pvf2mtkhA1vfCTcQx7KQx7KQx7Ko8JDkSwd4mf3DYCNYZ/B3hjxyMS1a6/DU0/ZRp5jKxxb47xyVsfsurEi5KE85KE85KE8KjwUydIhfmDOw2xgW+dln3LPR0amQZkyttZ3ly7ZrD+cV46gf/hmQB7KQx7KQx7Ko8JDkSwd4r//9ncW4t1WfuV0XL886JAhmbBqFbW+PWF23VgR8lAe12lXcR5uWoo0uJYi1R9Dv3H6XO1eEFxFTV9GBN6bNjNeScB6wPpwPY7T9OJXnHkuMTGx2HlZRLJ0iG+a9RAL8W/Xfsf2cZT5559nwWuv5UFKCv97CD5m140VIQ/l4U32gv/R01KkwbMUqf4Y+r18+VqnY96iKsQRlP6cGYjkkxAfOHBg4T+M5oV/FC0KKyHCftSmXbt2QdOmuAxgcxg3bpz9qFi8mzPKyhl/YyHeZ2M/Nsva00/nsb7vxx/PL/wjS+N+D8HH7LqxIuShPLwQp6VIneF9H/7sQFmKVPs5iCjEsRxeA8/jDHk4Tz1+uMGZ3vBvAMvgveFMflgOf1+crU5Ub/hkAT+MfPBBGzZ7HNYHzg6H08piXeHvqYU43s/JkydZGXzqgE8icOpXbdY+/NCHT0NwpjnX5VPdIZLyEN+3b1/hH0xnth0XF1d4g83ZtqY6deoUmpEC+fn50KpVK4iNjbWf4Yt3c0ZZOP1BuKH3bVC51R424xoGeKdO2WwmNl55QozZdWNFgtHDR0c+xmXwlqJVzN6f14JbptGcolXMRoaFsGPavgjXEMf/aGkp0uBditRdiGO3SmxsIoSHR7F51/FDAS6+ggGKZfDe5s1bzLZxqlf8XUX1ht0Su3YdZNsYylgfK1euYx+Y8BiueodT7uK2PsQ1n1et2lBY9mP2Yc/WBXORrbD2yiuv+n+IjxkzBhYtWmTfA6hVqxakpaWxbew3aNmyJdtGTZw4sdDE3+x7fPFuzigzpz4ANzwRysIb5z5ftoz6vo1idt1YkWD00DWYNVSGOC1Fao2lSBH027VPHFeiw3JaWOPvjPWubeMHI9zGe8Mgxe3585eyDxKienvjjaKpufHvCetjzJjxTiuhvfjii+wrfp8W4uPGTWTHsM7xAyTOa68tvILgvPh+H+K9e/eG0NBQ+x6w1nZ8fDzbDg8Ph65du7JtFIb9yJEj7Xt85ebm2bfkdTn9MgydHAvtP0ov/GBhP0gikQJWGOKNGze27wF069atMKg3sW382qdPH7at18cff1zY0otk24cOHSpsubcpbLUdg44dO7JjIi1dupSB2rZtW2FgflsYOj3Z79C/f//CVudqdk4vvDb+B4+aMWMGhISEFP4Hv5f9nqjk5OTCsKoB169fZ/v16tVj18Nys2fPZsc06b9Pr8zMTPuWTcuWLSsMqF72Pf734e+FQi9wKdLvv/+e7VepUoV95Un7Hp5mzZoFkydPhkaNGrH9qKgo+OGHH6B169as8Xb16lXWoNOEXg0YMID5OWSI7WnAunXroF+/fmwbVbNmTeaFXuj31q1b7XtF0v8doJfafei38evly5fZ9tq1a9nPEtVbhQoV7Fu2xibWx5QpU2DatGn2owAvvPAC+6rVsb7OcB+PHzlypPADlO3JNKp9+/asPmTk8xDHlrdMiPM+ocig4ppWhHyUhzyUB//z1j9Op6VIg28pUu37EXeP07W/A2x9a/eh38av+AQAt/FvAEfQi+qtfv2GhfVwlP0uuBob1gcOFvz008/Z+S1bdnAfp2t1pg2YxJY//lx8yoHrneNTEr9vieOnkfnz59v3oPAfUVXH43T8B6fvIx87dmyxT5uu4t2cDCquaUXIR3nIQ3lcQxyhpUiDaylS7RzCe5yOA/K8DXEcM4D+Ijj2QFRv2KeNPwe7XvA81geWxX5u/JlYl9oje9wXhThu498ids/gkqroSWjodnbcEyIpD3FsbeMjAxQ+UtH3gaPq1q3L/uHl5uYWGtfE0UoXiXdzMqi4phUhH+UhD+UhD+UhD+Vx5yF+UMF+dnxqgk8m8O0IXjlXRFIe4qjhw4cDvl6GAR4dHc36PbR+qv379xd+QmnOwL4YT+LdnAwqrmlFyEd5yEN5yEN5yEN53HmIk+pgSxyfMGD3Da8MD5F8EuJmindzMqi4phUhH+UhD+UhD+UhD+VR4aFIFOIKrmlFyEd5yEN5yEN5yEN5VHgoEoW4gmtaEfJRHvJQHvJQHvJQHhUeikQhruCaVoR8lIc8lIc8lIc8lEeFhyJRiCu4phUhH+UhD+UhD+UhD+VR4aFIFOIKrmlFyEd5yEN5yEN5yEN5VHgoEoW4gmtaEfJRHvJQHvJQHvJQHhUeikQhruCaVoR8lIc8lIc8lIc8lEeFhyJRiCu4phUhH+UhD+UhD+UhD+VR4aFIARfiJBKJRCKRbKIQJ5FIJBIpQEUhTiKRSCRSgIpCnEQikUikABWFOIlEIpFIASoKcRKJRCKRAlQU4iQSiUQiBagsFeIDBw6E5s2bQ4sWLSAiIsJ+1KZdu3ZB06ZN2flx48bZj5Jc5c7DPXv2QLNmzdi5Xr16QX5+vv0MSS93HmoaMWIEtGnTxr5HcpU7D1NSUqBly5bs33OfPn3sR0k8ufNxzpw57Bx6OWDAAPtRkqtOnjwJ1apVg9mzZ9uPFMkXuWKZEN+3bx907tyZbcfFxTFT9apTpw77x4/B06pVK4iNjbWfIWny5GGNGjXg3LlzbLtbt24QFhbGtklF8uQhCv/28D9VCnG+PHnYvXt32LRpE9vu27cvnD17lm2TnOXOx7S0NKhSpQrk5uay/Q4dOsDhw4fZNqlI6enp7N9p7969uSHui1yxTIiPGTMGFi1aZN8DqFWrFvtDRSUmJrJPm5omTpwIv/32m32PpMmdhyj99k8//QTLly+375E0efIQ1alTJ9i7dy+FuEDuPMT/LCtWrAh5eXlsnySWOx+zsrKgZs2acO3aNRbk+P9jfHw8O0cqEnqTmZkJISEhxULcV7limRDHT0qhoaH2PWCfirQ/yvDwcOjatSvbRuEf9siRI+17JE3uPNTrwoULUL16dfjjjz/sR0iaPHm4dOlSmDRpEiQlJVGIC+TOw0uXLrHw6d+/P/sPFLslSHx5+ltcuXIlvP766/D222/D4MGD7UdJPPFC3Fe5YtkQ13+ypBD3Tu481HT58mVo3Lgx7Nixw36EpJc7D//8809o3bo15OTkUIi7kTsPL168CC+//DKcOXOGtcY7duwI27ZtY+dIznLnI7bI69atC1euXIHs7Gx2Ljo6mp0jFReFuA+EJs+fP9++B1C1alXHoyP8D1PfHzR27Fhu/4bV5c5DFG5jgG/fvt1+hOQqdx6uX7+e9aHh4MD33nsPXn31VTbwiOQsdx7i4030UNOUKVNg8uTJ9j2SXu58PHLkCHTp0oVto/CJxuLFi+17JFehl66Z4atcsUyI46ei9u3bs+2oqCj2yVIv/NSJpuN/Ak2aNCnWwiR59vCHH36AFStW2PdIPHnyUBO1xMXy5CEO1jp9+jTb/vLLL51am6QiufMRuyWwSwz7e1FY7sCBA2ybVFy8EEf5IlcsE+Ko4cOHs1G/+MeKj4aw/1Ebxbp//372qQmZOnUqO0YqLpGHGRkZ8Pzzz7Pg0ViwYIH9u0h6ufs71EQh7l7uPExISGDH8Ty+YkavOorlzkdspeNTITw3dOhQdozkrMjISPbvFEfy49s5uD19+nSf5oqlQpxEIpFIpGAShTiJRCKRSAEqCnESiUQikQJUFOIkEolEIgWoKMRJJBKJRApQUYiTSCQSiRSgohAnkQwKX7vBV0rwNRz963Wq54zHmZ969uxp3/MsLItTkWq/H+JpVaqnn36avdtqtnBO+LJlyzp+D/QO59nHWepKKpxU6Ndff2Xb+M4zzlWNwnvDV39IJCuIQpxEkhS+012pUiX7nnoZCXH8npJIZYjje8eaCgoK4IsvvpCeyQonGsJlH0kkq4lCnESSlGuI48xWOIFG27ZtWUsTZ8PCQMQpabVZr3CGpyFDhrBtXE0KyyMYaLxWKa7tXK9ePbbC2XfffecIcZygA2fTwlYtfv+xY8fYcb3chbjoZ2shjmvEv//+++z6OGGFtuY0zkeuHf/444/h/Pnz7DhOHoLrJ+NiGjhbGs67rZdriKNwZaeff/6ZbZfkujgxyddff80m1ihXrhw0aNAAdu/ezb4XAx1nyMIWuqZ27dqx5XFx1iysGyyHv4tWJ2vXrmXfg8dxDnutZU8i+bMoxEkkSbmGOE7zieGKWr16NVtbHXXy5EkW5Pi1UaNGbLlHDEpctUybVQwX7Ni6dSvb1pSamgpvvPGGY1W4Tz75xBHi9evXZ4t9oPBn4vVdJQpxdz9bC3H8WRhuqFOnTsHmzZvZ7Hy43Ke2djy2onv16gVXr16FV155xbEMKH6f61reriGOHuBa1Vi2pNfVQhylBbd+e8aMGTBo0CB2DBfmwdW4tEVR1q1bx46fOHGCzRmOwg8BOGc4Cr/SNKOkQBCFOIkkKdcQP3z4MAumDz74gAUDhoqmCRMmQPny5Z36bHGRDmwJY+vvrbfeYuGkF5bVhzOGEwYzBpPrVLc49aPrNKNY1rVPHH8mSvSztRDHwKxWrRpbihKnkEQdP34cGjZsyLZR+KEEnxKg8AMLhvS0adMcYayXa584gmVRJb2upxDHFc3wd0fhkwxtHAC22nGdbE34AQlX60Jfa9euDaNGjWJPT0ikQBCFOIkkKdcQxyDFx7oobNliqGjq168fW1hCW5Tj4MGDLDjS09PZPoaVa4gfPXqUPebVhEGGwYwtdGyhepKoJe7uZ+v7xDHwMMzxcTQupYgtfn3YYmsWnwhoiouLY78jBigGs168x+maSnpdTyGOwq4G7ALADynaB6fXXnutWIhrTzlw4Y9ly5Yxv/UrfJFI/ioKcRJJUq4hjkuIYhjgo9v//e9/rC8ZhQGGQXjhwgWoVasWa/1t3LiR9XOjkpOT2XVcwwMfJ2PQYPDgQLCPPvqIBTMKQw77eVHY14vLHbpKFOLufrYW4r/88osj4GJiYlhA4spW+Nhbe1SOLVgcWIZ9yLitCfv8MRD1chfiJb2uPsSxj1vzQR/iWAYXQdF/GMB7xg8lKBxDgE8psK6w3x0f76Owbx4f5ZNI/i4KcRJJUq4hjq894RKEGLY4MAzP4TFc51pbInPhwoWs5Xv9+nX2OBuDDcMGw7Zy5crFlizElZEwiHCNZ3wlSwtxDCEc7IWP7vHDwqFDh9hxvUQh7u5nayGOS8ti//2HH37IwnHfvn3sezEw8efhMVz6Ez+04GCzb7/9lg1Aw/La/enlLsRRJbmuPsQnTpzIfnf8YKIPcVwfG59WYDeGJlzlDD9MYTn8XbR+cFxlSrtXBD+0kEj+LgpxEolEIpECVBTiJBKJRCIFqCjESSQSiUQKUFGIk0gkEokUoKIQJ5FIJBIpQEUhTiKRSCRSgIpCnEQikUikABWFOIlEIpFIASoKcRKJRCKRAlSOECcIgiAIItD4K/w/GYoacOlYKJcAAAAASUVORK5CYII=)"
      ],
      "metadata": {
        "id": "bmElmZUr47Hf"
      }
    },
    {
      "cell_type": "code",
      "source": [
        "model.compile(loss=\"categorical_crossentropy\",\n",
        "              optimizer='adam', metrics=[\"accuracy\"])\n",
        "\n",
        " \n",
        "plt.figure(1)\n",
        "\n",
        "# summarize history for accuracy\n",
        "\n",
        "plt.subplot(211)\n",
        "plt.plot(history.history['accuracy'])\n",
        "plt.plot(history.history['val_accuracy'])\n",
        "plt.title('Model Accuracy')\n",
        "plt.ylabel('Accuracy')\n",
        "plt.xlabel('Epoch')\n",
        "plt.legend(['Training', 'Validation'], loc='lower right')"
      ],
      "metadata": {
        "colab": {
          "base_uri": "https://localhost:8080/",
          "height": 194
        },
        "id": "1YrE_dHA8_z_",
        "outputId": "ab45b31c-1554-451a-8284-b28244dec25d"
      },
      "execution_count": null,
      "outputs": [
        {
          "output_type": "execute_result",
          "data": {
            "text/plain": [
              "<matplotlib.legend.Legend at 0x7f83c78a6e90>"
            ]
          },
          "metadata": {},
          "execution_count": 13
        },
        {
          "output_type": "display_data",
          "data": {
            "image/png": "[encoded data removed]",
            "text/plain": [
              "<Figure size 432x288 with 1 Axes>"
            ]
          },
          "metadata": {
            "needs_background": "light"
          }
        }
      ]
    }
  ]
}