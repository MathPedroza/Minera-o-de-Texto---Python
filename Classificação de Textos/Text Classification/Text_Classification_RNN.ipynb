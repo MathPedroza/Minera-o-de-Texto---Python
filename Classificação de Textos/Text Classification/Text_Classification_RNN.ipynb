{
  "nbformat": 4,
  "nbformat_minor": 0,
  "metadata": {
    "colab": {
      "name": "Text_Classification_RNN.ipynb",
      "provenance": [],
      "collapsed_sections": []
    },
    "kernelspec": {
      "name": "python3",
      "display_name": "Python 3"
    },
    "language_info": {
      "name": "python"
    }
  },
  "cells": [
    {
      "cell_type": "markdown",
      "source": [
        "# **Importando as bibliotecas necessárias**"
      ],
      "metadata": {
        "id": "J0M5pJBd7ryx"
      }
    },
    {
      "cell_type": "code",
      "execution_count": null,
      "metadata": {
        "id": "QxNkt4aFqGj3"
      },
      "outputs": [],
      "source": [
        "import pandas as pd\n",
        "import numpy as np\n",
        "import re\n",
        "import nltk\n",
        "from nltk.corpus import stopwords\n",
        "\n",
        "from numpy import array\n",
        "from keras.preprocessing.text import one_hot\n",
        "from keras.preprocessing.sequence import pad_sequences\n",
        "from keras.models import Sequential\n",
        "from keras.layers.core import Activation, Dropout, Dense\n",
        "from keras.layers import Flatten\n",
        "from keras.layers import GlobalMaxPooling1D\n",
        "from keras.layers.embeddings import Embedding\n",
        "from sklearn.model_selection import train_test_split\n",
        "from keras.preprocessing.text import Tokenizer"
      ]
    },
    {
      "cell_type": "markdown",
      "source": [
        "# **Leitura da Base de Dados**"
      ],
      "metadata": {
        "id": "I-CnwFJa7xTF"
      }
    },
    {
      "cell_type": "code",
      "source": [
        "data = pd.read_csv('Corpus_processado3.csv', encoding='latin-1', sep=';')\n",
        "data.head()"
      ],
      "metadata": {
        "colab": {
          "base_uri": "https://localhost:8080/",
          "height": 206
        },
        "id": "asLpDphuqSdE",
        "outputId": "96662c12-06d8-4317-a447-053aae57d74e"
      },
      "execution_count": null,
      "outputs": [
        {
          "output_type": "execute_result",
          "data": {
            "text/html": [
              "\n",
              "  <div id=\"df-b1e76546-0117-4ce6-8c83-e987c41194f9\">\n",
              "    <div class=\"colab-df-container\">\n",
              "      <div>\n",
              "<style scoped>\n",
              "    .dataframe tbody tr th:only-of-type {\n",
              "        vertical-align: middle;\n",
              "    }\n",
              "\n",
              "    .dataframe tbody tr th {\n",
              "        vertical-align: top;\n",
              "    }\n",
              "\n",
              "    .dataframe thead th {\n",
              "        text-align: right;\n",
              "    }\n",
              "</style>\n",
              "<table border=\"1\" class=\"dataframe\">\n",
              "  <thead>\n",
              "    <tr style=\"text-align: right;\">\n",
              "      <th></th>\n",
              "      <th>abstract</th>\n",
              "      <th>classe</th>\n",
              "    </tr>\n",
              "  </thead>\n",
              "  <tbody>\n",
              "    <tr>\n",
              "      <th>0</th>\n",
              "      <td>antitumorpromot principl angelica keiskei pote...</td>\n",
              "      <td>positive</td>\n",
              "    </tr>\n",
              "    <tr>\n",
              "      <th>1</th>\n",
              "      <td>effect catechin mous lung carcinoma cell adhes...</td>\n",
              "      <td>positive</td>\n",
              "    </tr>\n",
              "    <tr>\n",
              "      <th>2</th>\n",
              "      <td>cyclooxygenas inhibitor potenti properti colon...</td>\n",
              "      <td>positive</td>\n",
              "    </tr>\n",
              "    <tr>\n",
              "      <th>3</th>\n",
              "      <td>phase novel sulfonamid discov slowgrow colon c...</td>\n",
              "      <td>positive</td>\n",
              "    </tr>\n",
              "    <tr>\n",
              "      <th>4</th>\n",
              "      <td>retinoid iv design synthesi structureact ditbu...</td>\n",
              "      <td>positive</td>\n",
              "    </tr>\n",
              "  </tbody>\n",
              "</table>\n",
              "</div>\n",
              "      <button class=\"colab-df-convert\" onclick=\"convertToInteractive('df-b1e76546-0117-4ce6-8c83-e987c41194f9')\"\n",
              "              title=\"Convert this dataframe to an interactive table.\"\n",
              "              style=\"display:none;\">\n",
              "        \n",
              "  <svg xmlns=\"http://www.w3.org/2000/svg\" height=\"24px\"viewBox=\"0 0 24 24\"\n",
              "       width=\"24px\">\n",
              "    <path d=\"M0 0h24v24H0V0z\" fill=\"none\"/>\n",
              "    <path d=\"M18.56 5.44l.94 2.06.94-2.06 2.06-.94-2.06-.94-.94-2.06-.94 2.06-2.06.94zm-11 1L8.5 8.5l.94-2.06 2.06-.94-2.06-.94L8.5 2.5l-.94 2.06-2.06.94zm10 10l.94 2.06.94-2.06 2.06-.94-2.06-.94-.94-2.06-.94 2.06-2.06.94z\"/><path d=\"M17.41 7.96l-1.37-1.37c-.4-.4-.92-.59-1.43-.59-.52 0-1.04.2-1.43.59L10.3 9.45l-7.72 7.72c-.78.78-.78 2.05 0 2.83L4 21.41c.39.39.9.59 1.41.59.51 0 1.02-.2 1.41-.59l7.78-7.78 2.81-2.81c.8-.78.8-2.07 0-2.86zM5.41 20L4 18.59l7.72-7.72 1.47 1.35L5.41 20z\"/>\n",
              "  </svg>\n",
              "      </button>\n",
              "      \n",
              "  <style>\n",
              "    .colab-df-container {\n",
              "      display:flex;\n",
              "      flex-wrap:wrap;\n",
              "      gap: 12px;\n",
              "    }\n",
              "\n",
              "    .colab-df-convert {\n",
              "      background-color: #E8F0FE;\n",
              "      border: none;\n",
              "      border-radius: 50%;\n",
              "      cursor: pointer;\n",
              "      display: none;\n",
              "      fill: #1967D2;\n",
              "      height: 32px;\n",
              "      padding: 0 0 0 0;\n",
              "      width: 32px;\n",
              "    }\n",
              "\n",
              "    .colab-df-convert:hover {\n",
              "      background-color: #E2EBFA;\n",
              "      box-shadow: 0px 1px 2px rgba(60, 64, 67, 0.3), 0px 1px 3px 1px rgba(60, 64, 67, 0.15);\n",
              "      fill: #174EA6;\n",
              "    }\n",
              "\n",
              "    [theme=dark] .colab-df-convert {\n",
              "      background-color: #3B4455;\n",
              "      fill: #D2E3FC;\n",
              "    }\n",
              "\n",
              "    [theme=dark] .colab-df-convert:hover {\n",
              "      background-color: #434B5C;\n",
              "      box-shadow: 0px 1px 3px 1px rgba(0, 0, 0, 0.15);\n",
              "      filter: drop-shadow(0px 1px 2px rgba(0, 0, 0, 0.3));\n",
              "      fill: #FFFFFF;\n",
              "    }\n",
              "  </style>\n",
              "\n",
              "      <script>\n",
              "        const buttonEl =\n",
              "          document.querySelector('#df-b1e76546-0117-4ce6-8c83-e987c41194f9 button.colab-df-convert');\n",
              "        buttonEl.style.display =\n",
              "          google.colab.kernel.accessAllowed ? 'block' : 'none';\n",
              "\n",
              "        async function convertToInteractive(key) {\n",
              "          const element = document.querySelector('#df-b1e76546-0117-4ce6-8c83-e987c41194f9');\n",
              "          const dataTable =\n",
              "            await google.colab.kernel.invokeFunction('convertToInteractive',\n",
              "                                                     [key], {});\n",
              "          if (!dataTable) return;\n",
              "\n",
              "          const docLinkHtml = 'Like what you see? Visit the ' +\n",
              "            '<a target=\"_blank\" href=https://colab.research.google.com/notebooks/data_table.ipynb>data table notebook</a>'\n",
              "            + ' to learn more about interactive tables.';\n",
              "          element.innerHTML = '';\n",
              "          dataTable['output_type'] = 'display_data';\n",
              "          await google.colab.output.renderOutput(dataTable, element);\n",
              "          const docLink = document.createElement('div');\n",
              "          docLink.innerHTML = docLinkHtml;\n",
              "          element.appendChild(docLink);\n",
              "        }\n",
              "      </script>\n",
              "    </div>\n",
              "  </div>\n",
              "  "
            ],
            "text/plain": [
              "                                            abstract    classe\n",
              "0  antitumorpromot principl angelica keiskei pote...  positive\n",
              "1  effect catechin mous lung carcinoma cell adhes...  positive\n",
              "2  cyclooxygenas inhibitor potenti properti colon...  positive\n",
              "3  phase novel sulfonamid discov slowgrow colon c...  positive\n",
              "4  retinoid iv design synthesi structureact ditbu...  positive"
            ]
          },
          "metadata": {},
          "execution_count": 57
        }
      ]
    },
    {
      "cell_type": "code",
      "source": [
        "data.isnull().values.any()\n",
        "data.shape"
      ],
      "metadata": {
        "colab": {
          "base_uri": "https://localhost:8080/"
        },
        "id": "FbcDt9YeqSqw",
        "outputId": "bb3e425f-78b8-462c-bec9-9729ed377923"
      },
      "execution_count": null,
      "outputs": [
        {
          "output_type": "execute_result",
          "data": {
            "text/plain": [
              "(400, 2)"
            ]
          },
          "metadata": {},
          "execution_count": 58
        }
      ]
    },
    {
      "cell_type": "code",
      "source": [
        "data[\"abstract\"][3]"
      ],
      "metadata": {
        "colab": {
          "base_uri": "https://localhost:8080/",
          "height": 174
        },
        "id": "XJo9FUD3uAbO",
        "outputId": "28941ddf-25c7-4f1f-de4b-ff9dc1df7eed"
      },
      "execution_count": null,
      "outputs": [
        {
          "output_type": "execute_result",
          "data": {
            "application/vnd.google.colaboratory.intrinsic+json": {
              "type": "string"
            },
            "text/plain": [
              "'phase novel sulfonamid discov slowgrow colon carcinoma cell screen model exhibit broad spectrum antitumor activ against human xenograft mechan action arrest cell phase cell cycl inhibit tubulin polymer object phase maximum allow dose mad pharmacokinet singl repeat dose singledos administ oral patient dose doselimit peripher neuropathi dose hematolog gastrointestin mild repeateddos patient dose per doselimit peripher neuropathi intestin paralysi gastrointestin dosedepend not sever hematolog not dosedepend pharmacokinet singledos rapid plasma level after disappear variat area plasma concentrationtim curv auc patient dosedepend manner total recoveri urin after indic favor absorpt elimin profil chang plasma level repeateddos indic did not accumul singledos spinal cord metastasi exhibit reduct patient uterin sarcoma minor mr pulmonari adenocarcinoma patient repeateddos decreas carcinoembryon antigen cea squamous cell carcinoma antigen scc patient stomach patient recurr uterin cervic carcinoma recommend phase ii dose singledos per repeateddos activ timedepend ie certain requir suppress growth leukemia cell recommend phase ii conduct dose schedul maintain blood level e'"
            ]
          },
          "metadata": {},
          "execution_count": 59
        }
      ]
    },
    {
      "cell_type": "markdown",
      "source": [
        "Verificando se o conjunto de dados contém algum valor NULL ou não. Finalmente, imprimimos a forma do nosso conjunto de dados.\n",
        "\n",
        "Imprimindo as 5 primeiras linhas do conjunto de dados usando o método head()."
      ],
      "metadata": {
        "id": "PYIuw1nr7-MZ"
      }
    },
    {
      "cell_type": "markdown",
      "source": [
        "# **Distribuição dos sentimentos**"
      ],
      "metadata": {
        "id": "VuOZqDaR8UHO"
      }
    },
    {
      "cell_type": "code",
      "source": [
        "import seaborn as sns\n",
        "\n",
        "sns.countplot(x='classe', data=data)"
      ],
      "metadata": {
        "colab": {
          "base_uri": "https://localhost:8080/",
          "height": 299
        },
        "id": "B9YOPOSIuAhl",
        "outputId": "446b6377-d269-4341-d164-ac0b4ed6ab77"
      },
      "execution_count": null,
      "outputs": [
        {
          "output_type": "execute_result",
          "data": {
            "text/plain": [
              "<matplotlib.axes._subplots.AxesSubplot at 0x7f3fdc83c850>"
            ]
          },
          "metadata": {},
          "execution_count": 60
        },
        {
          "output_type": "display_data",
          "data": {
            "image/png": "[encoded data removed]",
            "text/plain": [
              "<Figure size 432x288 with 1 Axes>"
            ]
          },
          "metadata": {
            "needs_background": "light"
          }
        }
      ]
    },
    {
      "cell_type": "markdown",
      "source": [
        "# **Pré-processamento de dados**\n",
        "\n",
        "O conjunto de dados continha pontuações e etiquetas HTML. Nesta secção iremos definir uma função que toma uma cadeia de texto como parâmetro e depois executa o pré-processamento da cadeia de caracteres para remover caracteres especiais e etiquetas HTML da cadeia. Finalmente, a cadeia de caracteres é devolvida à função de chamada. \n"
      ],
      "metadata": {
        "id": "LPfV8fxb8ait"
      }
    },
    {
      "cell_type": "code",
      "source": [
        "def preprocess_text(sen):\n",
        "    # Removing html tags\n",
        "    sentence = remove_tags(sen)\n",
        "\n",
        "    # Remove punctuations and numbers\n",
        "    sentence = re.sub('[^a-zA-Z]', ' ', sentence)\n",
        "\n",
        "    # Single character removal\n",
        "    sentence = re.sub(r\"\\s+[a-zA-Z]\\s+\", ' ', sentence)\n",
        "\n",
        "    # Removing multiple spaces\n",
        "    sentence = re.sub(r'\\s+', ' ', sentence)\n",
        "\n",
        "    return sentence"
      ],
      "metadata": {
        "id": "VcT0Sc8BuAlu"
      },
      "execution_count": null,
      "outputs": []
    },
    {
      "cell_type": "code",
      "source": [
        "TAG_RE = re.compile(r'<[^>]+>')\n",
        "\n",
        "def remove_tags(text):\n",
        "    return TAG_RE.sub('', text)"
      ],
      "metadata": {
        "id": "Gww7SVvGuAp-"
      },
      "execution_count": null,
      "outputs": []
    },
    {
      "cell_type": "markdown",
      "source": [
        "No método preprocess_text(), o primeiro passo é remover as etiquetas HTML. Para remover as tags HTML, a função remove_tags() foi definida. A função remove_tags substitui simplesmente qualquer coisa entre a abertura e o fecho <> por um espaço vazio.\n",
        "\n",
        "Na função preprocess_text, tudo é removido excepto letras maiúsculas e minúsculas em inglês, o que resulta em caracteres únicos que não fazem sentido. Por exemplo, quando se remove o apóstrofo da palavra \"Mark's\", o apóstrofo é substituído por um espaço vazio. Assim, ficamos com um único caracter \"s\".\n",
        "\n",
        "Em seguida, removemos todos os caracteres únicos e substituímo-lo por um espaço que cria múltiplos espaços no nosso texto. Finalmente, removemos também os espaços múltiplos do nosso texto.\n",
        "\n",
        "Em seguida, pré-processamos as nossas revisões e armazenamo-las numa nova lista, como se mostra abaixo:\n"
      ],
      "metadata": {
        "id": "ZfCLRve48qRl"
      }
    },
    {
      "cell_type": "code",
      "source": [
        "X = []\n",
        "sentences = list(data['abstract'])\n",
        "for sen in sentences:\n",
        "    X.append(preprocess_text(sen))"
      ],
      "metadata": {
        "id": "o3oSb5SluAtf"
      },
      "execution_count": null,
      "outputs": []
    },
    {
      "cell_type": "code",
      "source": [
        "X[3]"
      ],
      "metadata": {
        "colab": {
          "base_uri": "https://localhost:8080/",
          "height": 174
        },
        "id": "EbEkE3WEubq3",
        "outputId": "1b05612b-7278-47a6-8682-ecc236fc3fb8"
      },
      "execution_count": null,
      "outputs": [
        {
          "output_type": "execute_result",
          "data": {
            "application/vnd.google.colaboratory.intrinsic+json": {
              "type": "string"
            },
            "text/plain": [
              "'phase novel sulfonamid discov slowgrow colon carcinoma cell screen model exhibit broad spectrum antitumor activ against human xenograft mechan action arrest cell phase cell cycl inhibit tubulin polymer object phase maximum allow dose mad pharmacokinet singl repeat dose singledos administ oral patient dose doselimit peripher neuropathi dose hematolog gastrointestin mild repeateddos patient dose per doselimit peripher neuropathi intestin paralysi gastrointestin dosedepend not sever hematolog not dosedepend pharmacokinet singledos rapid plasma level after disappear variat area plasma concentrationtim curv auc patient dosedepend manner total recoveri urin after indic favor absorpt elimin profil chang plasma level repeateddos indic did not accumul singledos spinal cord metastasi exhibit reduct patient uterin sarcoma minor mr pulmonari adenocarcinoma patient repeateddos decreas carcinoembryon antigen cea squamous cell carcinoma antigen scc patient stomach patient recurr uterin cervic carcinoma recommend phase ii dose singledos per repeateddos activ timedepend ie certain requir suppress growth leukemia cell recommend phase ii conduct dose schedul maintain blood level e'"
            ]
          },
          "metadata": {},
          "execution_count": 46
        }
      ]
    },
    {
      "cell_type": "markdown",
      "source": [
        "A partir da saída, pode-se ver que as etiquetas HTML, pontuações e números foram removidos. Só ficamos com os alfabetos.\n",
        "\n",
        "É necessário converter as nossas etiquetas em dígitos. Uma vez que só temos duas etiquetas na saída, ou seja, \"positivo\" e \"negativo\". Podemos simplesmente convertê-las em números inteiros substituindo \"positivo\" por dígito 1 e negativo por dígito 0, como se mostra abaixo:"
      ],
      "metadata": {
        "id": "RDVGHRmh82bc"
      }
    },
    {
      "cell_type": "code",
      "source": [
        "y = data['abstract']\n",
        "\n",
        "y = np.array(list(map(lambda x: 1 if x==\"positive\" else 0, y)))"
      ],
      "metadata": {
        "id": "vyX7yeo0ubve"
      },
      "execution_count": null,
      "outputs": []
    },
    {
      "cell_type": "markdown",
      "source": [
        "Finalmente, dividimos o nosso conjunto de dados em comboios e conjuntos de teste. O conjunto de comboios será utilizado para treinar os nossos modelos de aprendizagem profunda, enquanto o conjunto de testes será utilizado para avaliar o bom desempenho do nosso modelo.\n",
        "\n",
        "Podemos usar o método train_test_split do módulo sklearn.model.selection"
      ],
      "metadata": {
        "id": "RW1b-4h09AFy"
      }
    },
    {
      "cell_type": "code",
      "source": [
        "X_train, X_test, y_train, y_test = train_test_split(X, y, test_size=0.20, random_state=42)"
      ],
      "metadata": {
        "id": "Sq3doW3Qub1_"
      },
      "execution_count": null,
      "outputs": []
    },
    {
      "cell_type": "markdown",
      "source": [
        "# **Preparação da Camada Incorporadora**\n",
        "\n",
        "Como primeiro passo, utilizaremos a classe Tokenizer do módulo keras.preprocessing.text para criar um dicionário de palavras-para-indexar. No dicionário palavra-para-índice, cada palavra do corpus é usada como chave, enquanto um índice único correspondente é usado como o valor da chave."
      ],
      "metadata": {
        "id": "-iGc-Ztv9jKK"
      }
    },
    {
      "cell_type": "code",
      "source": [
        "tokenizer = Tokenizer(num_words=5000)\n",
        "tokenizer.fit_on_texts(X_train)\n",
        "\n",
        "X_train = tokenizer.texts_to_sequences(X_train)\n",
        "X_test = tokenizer.texts_to_sequences(X_test)"
      ],
      "metadata": {
        "id": "hUFuGIRBub5j"
      },
      "execution_count": null,
      "outputs": []
    },
    {
      "cell_type": "code",
      "source": [
        "# Adding 1 because of reserved 0 index\n",
        "vocab_size = len(tokenizer.word_index) + 1\n",
        "\n",
        "maxlen = 100\n",
        "\n",
        "X_train = pad_sequences(X_train, padding='post', maxlen=maxlen)\n",
        "X_test = pad_sequences(X_test, padding='post', maxlen=maxlen)"
      ],
      "metadata": {
        "id": "XmIcRty8u20h"
      },
      "execution_count": null,
      "outputs": []
    },
    {
      "cell_type": "markdown",
      "source": [
        "A variável X_train no explorador de variáveis, contém 40.000 listas onde cada lista contém números inteiros. Cada lista corresponde efectivamente a cada frase do conjunto de treino. O tamanho de cada lista é diferente. Isto acontece porque as frases têm comprimentos diferentes.\n",
        "\n",
        "Fixamos o tamanho máximo de cada lista em 100. Pode tentar um tamanho diferente. As listas com tamanho superior a 100 serão truncadas para 100. Para as listas com comprimento inferior a 100, adicionaremos 0 no final da lista até atingir o comprimento máximo. Este processo chama-se acolchoamento.\n",
        "\n",
        "O seguir o algoritmo encontra o tamanho do vocabulário e depois executa o estofamento tanto no comboio como no conjunto de testes."
      ],
      "metadata": {
        "id": "_n882G-e9rge"
      }
    },
    {
      "cell_type": "code",
      "source": [
        "from numpy import array\n",
        "from numpy import asarray\n",
        "from numpy import zeros\n",
        "\n",
        "embeddings_dictionary = dict()\n",
        "glove_file = open('glove.6B.100d.txt', encoding=\"utf8\")\n",
        "\n",
        "for line in glove_file:\n",
        "    records = line.split()\n",
        "    word = records[0]\n",
        "    vector_dimensions = asarray(records[1:], dtype='float32')\n",
        "    embeddings_dictionary [word] = vector_dimensions\n",
        "glove_file.close()"
      ],
      "metadata": {
        "id": "eoD-lSbbu24R"
      },
      "execution_count": null,
      "outputs": []
    },
    {
      "cell_type": "code",
      "source": [
        "embedding_matrix = zeros((vocab_size, 100))\n",
        "for word, index in tokenizer.word_index.items():\n",
        "    embedding_vector = embeddings_dictionary.get(word)\n",
        "    if embedding_vector is not None:\n",
        "        embedding_matrix[index] = embedding_vector"
      ],
      "metadata": {
        "id": "-NdJiaqpu29M"
      },
      "execution_count": null,
      "outputs": []
    },
    {
      "cell_type": "markdown",
      "source": [
        "# **Classificação de Texto com Rede Neural Simples**\n",
        "\n",
        "O primeiro modelo de aprendizagem profunda é uma simples rede neural profunda."
      ],
      "metadata": {
        "id": "hUSdTkB895zz"
      }
    },
    {
      "cell_type": "code",
      "source": [
        "model = Sequential()\n",
        "embedding_layer = Embedding(vocab_size, 100, weights=[embedding_matrix], input_length=maxlen , trainable=False)\n",
        "model.add(embedding_layer)\n",
        "\n",
        "model.add(Flatten())\n",
        "model.add(Dense(1, activation='sigmoid'))"
      ],
      "metadata": {
        "id": "PHf5MNAcvXhe"
      },
      "execution_count": null,
      "outputs": []
    },
    {
      "cell_type": "markdown",
      "source": [
        "No script acima, criamos um modelo Sequencial(). Em seguida, criamos a nossa camada de incorporação. A camada de incorporação terá um comprimento de entrada de 100, a dimensão do vector de saída será também 100. A dimensão do vocabulário será de 92547 palavras. Uma vez que não estamos a treinar as nossas próprias incrustações e utilizando a incrustação GloVe, definimos a formação para Falso e no atributo pesos passamos a nossa própria matriz de incrustação.\n",
        "\n",
        "A camada de incrustação é então adicionada ao nosso modelo. Em seguida, uma vez que estamos a ligar directamente a nossa camada de encastramento à camada densamente ligada, achatamos a camada de encastramento. Finalmente, adicionamos uma camada densa com função de activação sigmóide.\n",
        "\n",
        "Para compilar o nosso modelo, utilizaremos o optimizador adam, binary_crossentropy como a nossa função de perda e precisão como métrica e depois imprimiremos o resumo do nosso modelo:"
      ],
      "metadata": {
        "id": "RJdr6rLr-D_8"
      }
    },
    {
      "cell_type": "code",
      "source": [
        "model.compile(optimizer='adam', loss='binary_crossentropy', metrics=['acc'])\n",
        "\n",
        "print(model.summary())"
      ],
      "metadata": {
        "colab": {
          "base_uri": "https://localhost:8080/"
        },
        "id": "Bop6LpnuvXt9",
        "outputId": "d30e24ff-6d78-4112-a77f-193d4cb48aaf"
      },
      "execution_count": null,
      "outputs": [
        {
          "output_type": "stream",
          "name": "stdout",
          "text": [
            "Model: \"sequential_4\"\n",
            "_________________________________________________________________\n",
            " Layer (type)                Output Shape              Param #   \n",
            "=================================================================\n",
            " embedding_4 (Embedding)     (None, 100, 100)          607800    \n",
            "                                                                 \n",
            " flatten_3 (Flatten)         (None, 10000)             0         \n",
            "                                                                 \n",
            " dense_4 (Dense)             (None, 1)                 10001     \n",
            "                                                                 \n",
            "=================================================================\n",
            "Total params: 617,801\n",
            "Trainable params: 10,001\n",
            "Non-trainable params: 607,800\n",
            "_________________________________________________________________\n",
            "None\n"
          ]
        }
      ]
    },
    {
      "cell_type": "code",
      "source": [
        "history = model.fit(X_train, y_train, batch_size=128, epochs=20, verbose=1, validation_split=0.2)"
      ],
      "metadata": {
        "colab": {
          "base_uri": "https://localhost:8080/"
        },
        "id": "cgffcAVYvYCp",
        "outputId": "345d91e1-1eb1-4a01-f6d7-3c8d7d07fa25"
      },
      "execution_count": null,
      "outputs": [
        {
          "output_type": "stream",
          "name": "stdout",
          "text": [
            "Epoch 1/20\n",
            "2/2 [==============================] - 0s 169ms/step - loss: 0.0320 - acc: 1.0000 - val_loss: 0.0620 - val_acc: 1.0000\n",
            "Epoch 2/20\n",
            "2/2 [==============================] - 0s 137ms/step - loss: 0.0317 - acc: 1.0000 - val_loss: 0.0615 - val_acc: 1.0000\n",
            "Epoch 3/20\n",
            "2/2 [==============================] - 0s 128ms/step - loss: 0.0314 - acc: 1.0000 - val_loss: 0.0611 - val_acc: 1.0000\n",
            "Epoch 4/20\n",
            "2/2 [==============================] - 0s 136ms/step - loss: 0.0311 - acc: 1.0000 - val_loss: 0.0607 - val_acc: 1.0000\n",
            "Epoch 5/20\n",
            "2/2 [==============================] - 0s 144ms/step - loss: 0.0309 - acc: 1.0000 - val_loss: 0.0603 - val_acc: 1.0000\n",
            "Epoch 6/20\n",
            "2/2 [==============================] - 0s 129ms/step - loss: 0.0307 - acc: 1.0000 - val_loss: 0.0599 - val_acc: 1.0000\n",
            "Epoch 7/20\n",
            "2/2 [==============================] - 0s 134ms/step - loss: 0.0304 - acc: 1.0000 - val_loss: 0.0595 - val_acc: 1.0000\n",
            "Epoch 8/20\n",
            "2/2 [==============================] - 0s 131ms/step - loss: 0.0302 - acc: 1.0000 - val_loss: 0.0592 - val_acc: 1.0000\n",
            "Epoch 9/20\n",
            "2/2 [==============================] - 0s 129ms/step - loss: 0.0300 - acc: 1.0000 - val_loss: 0.0589 - val_acc: 1.0000\n",
            "Epoch 10/20\n",
            "2/2 [==============================] - 0s 133ms/step - loss: 0.0298 - acc: 1.0000 - val_loss: 0.0585 - val_acc: 1.0000\n",
            "Epoch 11/20\n",
            "2/2 [==============================] - 0s 130ms/step - loss: 0.0296 - acc: 1.0000 - val_loss: 0.0582 - val_acc: 1.0000\n",
            "Epoch 12/20\n",
            "2/2 [==============================] - 0s 127ms/step - loss: 0.0294 - acc: 1.0000 - val_loss: 0.0579 - val_acc: 1.0000\n",
            "Epoch 13/20\n",
            "2/2 [==============================] - 0s 129ms/step - loss: 0.0292 - acc: 1.0000 - val_loss: 0.0576 - val_acc: 1.0000\n",
            "Epoch 14/20\n",
            "2/2 [==============================] - 1s 396ms/step - loss: 0.0290 - acc: 1.0000 - val_loss: 0.0573 - val_acc: 1.0000\n",
            "Epoch 15/20\n",
            "2/2 [==============================] - 1s 348ms/step - loss: 0.0289 - acc: 1.0000 - val_loss: 0.0569 - val_acc: 1.0000\n",
            "Epoch 16/20\n",
            "2/2 [==============================] - 0s 126ms/step - loss: 0.0287 - acc: 1.0000 - val_loss: 0.0566 - val_acc: 1.0000\n",
            "Epoch 17/20\n",
            "2/2 [==============================] - 0s 269ms/step - loss: 0.0285 - acc: 1.0000 - val_loss: 0.0563 - val_acc: 1.0000\n",
            "Epoch 18/20\n",
            "2/2 [==============================] - 1s 350ms/step - loss: 0.0283 - acc: 1.0000 - val_loss: 0.0560 - val_acc: 1.0000\n",
            "Epoch 19/20\n",
            "2/2 [==============================] - 0s 252ms/step - loss: 0.0282 - acc: 1.0000 - val_loss: 0.0557 - val_acc: 1.0000\n",
            "Epoch 20/20\n",
            "2/2 [==============================] - 0s 129ms/step - loss: 0.0280 - acc: 1.0000 - val_loss: 0.0554 - val_acc: 1.0000\n"
          ]
        }
      ]
    },
    {
      "cell_type": "markdown",
      "source": [
        "no script acima, usamos o método adequado para treinar a nossa rede neural. Note-se que estamos a treinar apenas no nosso conjunto de teste. A validação_split de 0,2 significa que 20% dos dados de treino são utilizados para encontrar a precisão do treino do algoritmo.\n",
        "\n",
        "No final da formação, verá que a precisão do treino é de cerca de 99%.\n",
        "\n",
        "Para avaliar o desempenho do modelo, podemos simplesmente passar o conjunto de testes para o método de avaliação do nosso modelo."
      ],
      "metadata": {
        "id": "NTq3cZty-Xfc"
      }
    },
    {
      "cell_type": "code",
      "source": [
        "score = model.evaluate(X_test, y_test, verbose=1)"
      ],
      "metadata": {
        "colab": {
          "base_uri": "https://localhost:8080/"
        },
        "id": "XNj7eMiowCf3",
        "outputId": "cccce8c3-a678-4866-d559-76962d9c99c0"
      },
      "execution_count": null,
      "outputs": [
        {
          "output_type": "stream",
          "name": "stdout",
          "text": [
            "3/3 [==============================] - 0s 15ms/step - loss: 0.0254 - acc: 1.0000\n"
          ]
        }
      ]
    },
    {
      "cell_type": "code",
      "source": [
        "from sklearn.naive_bayes import MultinomialNB\n",
        "mnb = MultinomialNB()\n",
        "mnb.fit(X_train, y_train)"
      ],
      "metadata": {
        "colab": {
          "base_uri": "https://localhost:8080/"
        },
        "id": "GeVRUlWS5zl2",
        "outputId": "1c80cbd5-2653-4b08-c3c9-f883aff36182"
      },
      "execution_count": null,
      "outputs": [
        {
          "output_type": "execute_result",
          "data": {
            "text/plain": [
              "MultinomialNB()"
            ]
          },
          "metadata": {},
          "execution_count": 104
        }
      ]
    },
    {
      "cell_type": "code",
      "source": [
        "print(\"Test Score:\", score[0])\n",
        "print(\"Test Accuracy:\", score[1])"
      ],
      "metadata": {
        "colab": {
          "base_uri": "https://localhost:8080/"
        },
        "id": "uEEXPwe4wCmQ",
        "outputId": "5354e76a-5d2f-4cb2-ab51-62f2e0fe83bc"
      },
      "execution_count": null,
      "outputs": [
        {
          "output_type": "stream",
          "name": "stdout",
          "text": [
            "Test Score: 0.02543320320546627\n",
            "Test Accuracy: 1.0\n"
          ]
        }
      ]
    },
    {
      "cell_type": "markdown",
      "source": [
        "Uma vez executado o script acima, verá que obtemos uma precisão de teste de 99%. Isto significa que o nosso modelo está a sobreajustar-se ao conjunto de treino. O sobreajustamento ocorre quando o seu modelo tem melhor desempenho no conjunto de treino do que no conjunto de teste. Idealmente, a diferença de desempenho entre o conjunto de treino e o conjunto de teste deveria ser mínima.\n",
        "\n",
        "Traçando as diferenças de perda e precisão para os conjuntos de treino e de teste."
      ],
      "metadata": {
        "id": "jpi6XcuN-irj"
      }
    },
    {
      "cell_type": "code",
      "source": [
        "import matplotlib.pyplot as plt\n",
        "\n",
        "plt.title('model accuracy')\n",
        "plt.ylabel('accuracy')\n",
        "plt.xlabel('epoch')\n",
        "plt.legend(['train','test'], loc='upper left')\n",
        "plt.show()\n",
        "\n",
        "plt.plot(history.history['loss'])\n",
        "plt.plot(history.history['val_loss'])\n",
        "\n",
        "plt.title('model loss')\n",
        "plt.ylabel('loss')\n",
        "plt.xlabel('epoch')\n",
        "plt.legend(['train','test'], loc='upper left')\n",
        "plt.show()"
      ],
      "metadata": {
        "colab": {
          "base_uri": "https://localhost:8080/",
          "height": 573
        },
        "id": "S2BwoOsJwCp9",
        "outputId": "b5d62041-c9aa-43a6-fe42-7b4d2b280ad7"
      },
      "execution_count": null,
      "outputs": [
        {
          "output_type": "display_data",
          "data": {
            "image/png": "[encoded data removed]",
            "text/plain": [
              "<Figure size 432x288 with 1 Axes>"
            ]
          },
          "metadata": {
            "needs_background": "light"
          }
        },
        {
          "output_type": "display_data",
          "data": {
            "image/png": "[encoded data removed]",
            "text/plain": [
              "<Figure size 432x288 with 1 Axes>"
            ]
          },
          "metadata": {
            "needs_background": "light"
          }
        }
      ]
    },
    {
      "cell_type": "markdown",
      "source": [
        "![rnn.png](data:image/png;base64,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)"
      ],
      "metadata": {
        "id": "s2ZNxGTGB4D3"
      }
    },
    {
      "cell_type": "code",
      "source": [
        "from sklearn.metrics import confusion_matrix\n",
        "from sklearn.metrics import confusion_matrix, classification_report\n",
        "\n",
        "# extract the predicted probabilities\n",
        "p_pred = model.predict(X_test)\n",
        "cm = confusion_matrix(y_true=y_test, y_pred=y_pred)\n",
        "cm\n",
        "p_pred = p_pred.flatten()\n",
        "# print(p_pred.round(2))\n",
        "# [1. 0.01 0.91 0.87 0.06 0.95 0.24 0.58 0.78 ..."
      ],
      "metadata": {
        "id": "3aEsSFYD3Zqn"
      },
      "execution_count": null,
      "outputs": []
    },
    {
      "cell_type": "code",
      "source": [
        "# extract the predicted class labels\n",
        "y_pred = np.where(p_pred > 0.5, 1, 0)\n",
        "print(y_pred)"
      ],
      "metadata": {
        "colab": {
          "base_uri": "https://localhost:8080/"
        },
        "id": "GNa69xKH3wWJ",
        "outputId": "6e67934d-e832-4e9d-fa70-97e32331afb1"
      },
      "execution_count": null,
      "outputs": [
        {
          "output_type": "stream",
          "name": "stdout",
          "text": [
            "[0 0 0 0 0 0 0 0 0 0 0 0 0 0 0 0 0 0 0 0 0 0 0 0 0 0 0 0 0 0 0 0 0 0 0 0 0\n",
            " 0 0 0 0 0 0 0 0 0 0 0 0 0 0 0 0 0 0 0 0 0 0 0 0 0 0 0 0 0 0 0 0 0 0 0 0 0\n",
            " 0 0 0 0 0 0]\n"
          ]
        }
      ]
    },
    {
      "cell_type": "code",
      "source": [
        "print(confusion_matrix(y_test, y_pred))"
      ],
      "metadata": {
        "colab": {
          "base_uri": "https://localhost:8080/"
        },
        "id": "G_JVVGhT4kbj",
        "outputId": "669cd125-8be7-4e8a-fc48-b390c3c6d7fb"
      },
      "execution_count": null,
      "outputs": [
        {
          "output_type": "stream",
          "name": "stdout",
          "text": [
            "[[80]]\n"
          ]
        }
      ]
    },
    {
      "cell_type": "code",
      "source": [
        "# Plot confusion matrix in a beautiful manner\n",
        "ax= plt.subplot()\n",
        "sns.heatmap(cm, annot=True, ax = ax, fmt = 'g'); #annot=True to annotate cells\n",
        "# labels, title and ticks\n",
        "ax.set_xlabel('Predicted', fontsize=20)\n",
        "ax.xaxis.set_label_position('top') \n",
        "ax.xaxis.set_ticklabels(['Positives', 'Negatives'], fontsize = 15)\n",
        "ax.xaxis.tick_top()\n",
        "\n",
        "ax.set_ylabel('True', fontsize=20)\n",
        "ax.yaxis.set_ticklabels(['Negatives', 'Positives'], fontsize = 15)\n",
        "plt.show()"
      ],
      "metadata": {
        "colab": {
          "base_uri": "https://localhost:8080/",
          "height": 295
        },
        "id": "5u_Ps2kH5mRq",
        "outputId": "88b6238c-f64b-4427-a4e2-7ce77235dc47"
      },
      "execution_count": null,
      "outputs": [
        {
          "output_type": "display_data",
          "data": {
            "image/png": "[encoded data removed]",
            "text/plain": [
              "<Figure size 432x288 with 2 Axes>"
            ]
          },
          "metadata": {
            "needs_background": "light"
          }
        }
      ]
    },
    {
      "cell_type": "code",
      "source": [
        "print(classification_report(y_test, y_pred))"
      ],
      "metadata": {
        "colab": {
          "base_uri": "https://localhost:8080/"
        },
        "id": "a1JcryYR4nap",
        "outputId": "fcb1f376-ca35-4fa3-84ff-8f7091f2f547"
      },
      "execution_count": null,
      "outputs": [
        {
          "output_type": "stream",
          "name": "stdout",
          "text": [
            "              precision    recall  f1-score   support\n",
            "\n",
            "           0       1.00      1.00      1.00        80\n",
            "\n",
            "    accuracy                           1.00        80\n",
            "   macro avg       1.00      1.00      1.00        80\n",
            "weighted avg       1.00      1.00      1.00        80\n",
            "\n"
          ]
        }
      ]
    },
    {
      "cell_type": "code",
      "source": [
        "from keras.layers.convolutional import Conv1D    \n",
        "from keras.models import Sequential    \n",
        "# from keras.optimizers import Adam \n",
        "\n",
        "model = Sequential()\n",
        "\n",
        "embedding_layer = Embedding(vocab_size, 100, weights=[embedding_matrix], input_length=maxlen , trainable=False)\n",
        "model.add(embedding_layer)\n",
        "\n",
        "model.add(Conv1D(128, 5, activation='relu'))\n",
        "model.add(GlobalMaxPooling1D())\n",
        "model.add(Dense(1, activation='sigmoid'))\n",
        "model.compile(optimizer='adam', loss='binary_crossentropy', metrics=['acc'])"
      ],
      "metadata": {
        "id": "6kaY3-87xk93"
      },
      "execution_count": null,
      "outputs": []
    },
    {
      "cell_type": "code",
      "source": [
        "print(model.summary())"
      ],
      "metadata": {
        "colab": {
          "base_uri": "https://localhost:8080/"
        },
        "id": "1bsghcYrxlDv",
        "outputId": "d065eb90-1206-4399-eb85-ec89c47c1fc1"
      },
      "execution_count": null,
      "outputs": [
        {
          "output_type": "stream",
          "name": "stdout",
          "text": [
            "Model: \"sequential_5\"\n",
            "_________________________________________________________________\n",
            " Layer (type)                Output Shape              Param #   \n",
            "=================================================================\n",
            " embedding_5 (Embedding)     (None, 100, 100)          607800    \n",
            "                                                                 \n",
            " conv1d_1 (Conv1D)           (None, 96, 128)           64128     \n",
            "                                                                 \n",
            " global_max_pooling1d_1 (Glo  (None, 128)              0         \n",
            " balMaxPooling1D)                                                \n",
            "                                                                 \n",
            " dense_5 (Dense)             (None, 1)                 129       \n",
            "                                                                 \n",
            "=================================================================\n",
            "Total params: 672,057\n",
            "Trainable params: 64,257\n",
            "Non-trainable params: 607,800\n",
            "_________________________________________________________________\n",
            "None\n"
          ]
        }
      ]
    },
    {
      "cell_type": "code",
      "source": [
        "history = model.fit(X_train, y_train, batch_size=128, epochs=20, verbose=1, validation_split=0.2)\n",
        "\n",
        "score = model.evaluate(X_test, y_test, verbose=1)"
      ],
      "metadata": {
        "colab": {
          "base_uri": "https://localhost:8080/"
        },
        "id": "idgGm_F2xlHV",
        "outputId": "20202f1a-a3e3-4594-f733-4c0e70c69591"
      },
      "execution_count": null,
      "outputs": [
        {
          "output_type": "stream",
          "name": "stdout",
          "text": [
            "Epoch 1/20\n",
            "2/2 [==============================] - 3s 705ms/step - loss: 0.6012 - acc: 0.7812 - val_loss: 0.4189 - val_acc: 1.0000\n",
            "Epoch 2/20\n",
            "2/2 [==============================] - 1s 330ms/step - loss: 0.3323 - acc: 1.0000 - val_loss: 0.2620 - val_acc: 1.0000\n",
            "Epoch 3/20\n",
            "2/2 [==============================] - 1s 341ms/step - loss: 0.1946 - acc: 1.0000 - val_loss: 0.1806 - val_acc: 1.0000\n",
            "Epoch 4/20\n",
            "2/2 [==============================] - 0s 311ms/step - loss: 0.1261 - acc: 1.0000 - val_loss: 0.1371 - val_acc: 1.0000\n",
            "Epoch 5/20\n",
            "2/2 [==============================] - 0s 281ms/step - loss: 0.0902 - acc: 1.0000 - val_loss: 0.1125 - val_acc: 1.0000\n",
            "Epoch 6/20\n",
            "2/2 [==============================] - 1s 269ms/step - loss: 0.0700 - acc: 1.0000 - val_loss: 0.0977 - val_acc: 1.0000\n",
            "Epoch 7/20\n",
            "2/2 [==============================] - 0s 256ms/step - loss: 0.0583 - acc: 1.0000 - val_loss: 0.0882 - val_acc: 1.0000\n",
            "Epoch 8/20\n",
            "2/2 [==============================] - 1s 345ms/step - loss: 0.0509 - acc: 1.0000 - val_loss: 0.0819 - val_acc: 1.0000\n",
            "Epoch 9/20\n",
            "2/2 [==============================] - 1s 327ms/step - loss: 0.0461 - acc: 1.0000 - val_loss: 0.0774 - val_acc: 1.0000\n",
            "Epoch 10/20\n",
            "2/2 [==============================] - 1s 476ms/step - loss: 0.0427 - acc: 1.0000 - val_loss: 0.0741 - val_acc: 1.0000\n",
            "Epoch 11/20\n",
            "2/2 [==============================] - 1s 359ms/step - loss: 0.0403 - acc: 1.0000 - val_loss: 0.0717 - val_acc: 1.0000\n",
            "Epoch 12/20\n",
            "2/2 [==============================] - 1s 262ms/step - loss: 0.0385 - acc: 1.0000 - val_loss: 0.0697 - val_acc: 1.0000\n",
            "Epoch 13/20\n",
            "2/2 [==============================] - 0s 265ms/step - loss: 0.0370 - acc: 1.0000 - val_loss: 0.0682 - val_acc: 1.0000\n",
            "Epoch 14/20\n",
            "2/2 [==============================] - 1s 363ms/step - loss: 0.0360 - acc: 1.0000 - val_loss: 0.0670 - val_acc: 1.0000\n",
            "Epoch 15/20\n",
            "2/2 [==============================] - 1s 315ms/step - loss: 0.0351 - acc: 1.0000 - val_loss: 0.0659 - val_acc: 1.0000\n",
            "Epoch 16/20\n",
            "2/2 [==============================] - 0s 252ms/step - loss: 0.0344 - acc: 1.0000 - val_loss: 0.0650 - val_acc: 1.0000\n",
            "Epoch 17/20\n",
            "2/2 [==============================] - 1s 459ms/step - loss: 0.0337 - acc: 1.0000 - val_loss: 0.0643 - val_acc: 1.0000\n",
            "Epoch 18/20\n",
            "2/2 [==============================] - 1s 260ms/step - loss: 0.0332 - acc: 1.0000 - val_loss: 0.0636 - val_acc: 1.0000\n",
            "Epoch 19/20\n",
            "2/2 [==============================] - 1s 425ms/step - loss: 0.0328 - acc: 1.0000 - val_loss: 0.0630 - val_acc: 1.0000\n",
            "Epoch 20/20\n",
            "2/2 [==============================] - 1s 413ms/step - loss: 0.0324 - acc: 1.0000 - val_loss: 0.0624 - val_acc: 1.0000\n",
            "3/3 [==============================] - 0s 36ms/step - loss: 0.0300 - acc: 1.0000\n"
          ]
        }
      ]
    },
    {
      "cell_type": "code",
      "source": [
        "print(\"Test Score:\", score[0])\n",
        "print(\"Test Accuracy:\", score[1])"
      ],
      "metadata": {
        "colab": {
          "base_uri": "https://localhost:8080/"
        },
        "id": "5B3F1xX1xlKv",
        "outputId": "11523795-97a2-4458-c489-b1aa203ba649"
      },
      "execution_count": null,
      "outputs": [
        {
          "output_type": "stream",
          "name": "stdout",
          "text": [
            "Test Score: 0.030011629685759544\n",
            "Test Accuracy: 1.0\n"
          ]
        }
      ]
    },
    {
      "cell_type": "code",
      "source": [
        "import matplotlib.pyplot as plt\n",
        "\n",
        "plt.plot(history.history['acc'])\n",
        "plt.plot(history.history['val_acc'])\n",
        "\n",
        "plt.title('model accuracy')\n",
        "plt.ylabel('accuracy')\n",
        "plt.xlabel('epoch')\n",
        "plt.legend(['train','test'], loc = 'upper left')\n",
        "plt.show()\n",
        "\n",
        "plt.plot(history.history['loss'])\n",
        "plt.plot(history.history['val_loss'])\n",
        "\n",
        "plt.title('model loss')\n",
        "plt.ylabel('loss')\n",
        "plt.xlabel('epoch')\n",
        "plt.legend(['train','test'], loc = 'upper left')\n",
        "plt.show()"
      ],
      "metadata": {
        "colab": {
          "base_uri": "https://localhost:8080/",
          "height": 573
        },
        "id": "Ad-5W0G6xlO3",
        "outputId": "863ab767-c44f-431a-da1c-485d0a513a61"
      },
      "execution_count": null,
      "outputs": [
        {
          "output_type": "display_data",
          "data": {
            "image/png": "[encoded data removed]",
            "text/plain": [
              "<Figure size 432x288 with 1 Axes>"
            ]
          },
          "metadata": {
            "needs_background": "light"
          }
        },
        {
          "output_type": "display_data",
          "data": {
            "image/png": "[encoded data removed]",
            "text/plain": [
              "<Figure size 432x288 with 1 Axes>"
            ]
          },
          "metadata": {
            "needs_background": "light"
          }
        }
      ]
    },
    {
      "cell_type": "code",
      "source": [
        "from sklearn.metrics import confusion_matrix\n",
        "from sklearn.metrics import confusion_matrix, classification_report\n",
        "\n",
        "# extract the predicted probabilities\n",
        "p_pred = model.predict(X_test)\n",
        "cm = confusion_matrix(y_true=y_test, y_pred=y_pred)\n",
        "cm\n",
        "p_pred = p_pred.flatten()"
      ],
      "metadata": {
        "id": "XvHhaYi6BeGV"
      },
      "execution_count": null,
      "outputs": []
    },
    {
      "cell_type": "code",
      "source": [
        "print(classification_report(y_test, y_pred))"
      ],
      "metadata": {
        "id": "gxMbyRq_BeUD"
      },
      "execution_count": null,
      "outputs": []
    },
    {
      "cell_type": "markdown",
      "source": [
        "![matrix.png](data:image/png;base64,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)"
      ],
      "metadata": {
        "id": "7pAnpz7PBjqF"
      }
    }
  ]
}